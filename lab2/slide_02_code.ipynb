{
  "nbformat": 4,
  "nbformat_minor": 0,
  "metadata": {
    "colab": {
      "provenance": [],
      "gpuType": "T4",
      "authorship_tag": "ABX9TyN01xF9BcipUbLRg4cUPI0/",
      "include_colab_link": true
    },
    "kernelspec": {
      "name": "python3",
      "display_name": "Python 3"
    },
    "language_info": {
      "name": "python"
    }
  },
  "cells": [
    {
      "cell_type": "markdown",
      "metadata": {
        "id": "view-in-github",
        "colab_type": "text"
      },
      "source": [
        "<a href=\"https://colab.research.google.com/github/Mint0511/Data-analytics/blob/main/lab2_NguyenVanMinh_3122410242%20/%20slide_02_code.ipynb\" target=\"_parent\"><img src=\"https://colab.research.google.com/assets/colab-badge.svg\" alt=\"Open In Colab\"/></a>"
      ]
    },
    {
      "cell_type": "markdown",
      "source": [
        "# **PYTHON PROGRAMMING**"
      ],
      "metadata": {
        "id": "qEWZ6QlSrT2V"
      }
    },
    {
      "cell_type": "markdown",
      "source": [
        "**PYTHON HELLO WORLD**"
      ],
      "metadata": {
        "id": "KA_TJrejs4by"
      }
    },
    {
      "cell_type": "code",
      "source": [
        "print(\"Hello World\")"
      ],
      "metadata": {
        "colab": {
          "base_uri": "https://localhost:8080/"
        },
        "id": "1mWsLlBBs-Tp",
        "outputId": "9814e19d-ff11-4c6d-acde-a488ff139160"
      },
      "execution_count": null,
      "outputs": [
        {
          "output_type": "stream",
          "name": "stdout",
          "text": [
            "Hello World\n"
          ]
        }
      ]
    },
    {
      "cell_type": "code",
      "source": [
        "#Future Value\n",
        "pv = 100 #Giá trị hiện tại\n",
        "r = 0.1 #Lãi suất 10% (nhập trực tiếp dạng thập phân 0.1)\n",
        "n = 7 #Số kỳ (năm)\n",
        "fv = pv * ((1+(r))**n) # Công thức fv=pv*(1+r)^n\n",
        "print(round(fv,2)) #In kết quả và làm tròn 2 chữ số"
      ],
      "metadata": {
        "colab": {
          "base_uri": "https://localhost:8080/"
        },
        "id": "QmR-8TStuPvC",
        "outputId": "4b9e9a82-9edc-44b8-f8e4-aa91b81dfb03"
      },
      "execution_count": null,
      "outputs": [
        {
          "output_type": "stream",
          "name": "stdout",
          "text": [
            "194.87\n"
          ]
        }
      ]
    },
    {
      "cell_type": "code",
      "source": [
        "# Future Value\n",
        "amount = 100 # Số tiền ban đầu\n",
        "interest = 10 #10% = 0.01 * 10 #Lãi suất dạng phần trăm\n",
        "years = 7 #Số kỳ (năm)\n",
        "\n",
        "#Đổi lãi suất phần trăm sang dạng thập phân bằng cách nhân 0.\n",
        "future_value = amount * ((1+ (0.01 * interest))**years)\n",
        "print (round(future_value,2)) #In kết quả và làm tròn 2 chữ số"
      ],
      "metadata": {
        "colab": {
          "base_uri": "https://localhost:8080/"
        },
        "id": "bT4A6U1Bu0-A",
        "outputId": "88479cb4-8a5d-4eb4-ebe3-26293f81a3d7"
      },
      "execution_count": null,
      "outputs": [
        {
          "output_type": "stream",
          "name": "stdout",
          "text": [
            "194.87\n"
          ]
        }
      ]
    },
    {
      "cell_type": "markdown",
      "source": [
        "**PYTHON SYNTAX**"
      ],
      "metadata": {
        "id": "ZZCF7BSB2aRC"
      }
    },
    {
      "cell_type": "markdown",
      "source": [
        "* Dùng #comment để ghi chú lại trong\n",
        "code\n",
        "* **Thụt lề (Indentation):** *khoảng trắng ở đầu một dòng code. Mặc định là 4 khoảng trắng*"
      ],
      "metadata": {
        "id": "0M6igEilznzs"
      }
    },
    {
      "cell_type": "code",
      "source": [
        "#Python Function def\n",
        "#Định nghĩa hàm tính fv\n",
        "def getfv(pv,r,n):\n",
        "  fv=pv*((1+(r))**n)\n",
        "  return fv\n",
        "fv=getfv(100,0.1,7) #Gọi hàm với tham số cụ thể\n",
        "print(round(fv,2)) #In kết quả"
      ],
      "metadata": {
        "colab": {
          "base_uri": "https://localhost:8080/"
        },
        "id": "NmSonGREw9Tk",
        "outputId": "4651002c-a2a5-4e41-c0a7-d6727b792557"
      },
      "execution_count": null,
      "outputs": [
        {
          "output_type": "stream",
          "name": "stdout",
          "text": [
            "194.87\n"
          ]
        }
      ]
    },
    {
      "cell_type": "code",
      "source": [
        "#Python if else\n",
        "score = 80 #Điểm hiện tại\n",
        "if score >=60 : #Nếu điểm >=60\n",
        "  print(\"Pass\") # In kết quả \"Pass\"\n",
        "else:\n",
        "  print(\"Fail\") # Nếu không thỏa in \"Fail\""
      ],
      "metadata": {
        "colab": {
          "base_uri": "https://localhost:8080/"
        },
        "id": "lDQ47BV9yQJX",
        "outputId": "de5bd3da-a9b7-48fa-f1fe-cf9adf1e9988"
      },
      "execution_count": null,
      "outputs": [
        {
          "output_type": "stream",
          "name": "stdout",
          "text": [
            "Pass\n"
          ]
        }
      ]
    },
    {
      "cell_type": "markdown",
      "source": [
        "**PYTHON VARIABLES**"
      ],
      "metadata": {
        "id": "dyfvOsyF2M5U"
      }
    },
    {
      "cell_type": "code",
      "source": [
        "# Python Variables\n",
        "x = 2 #Biến x kiểu số nguyên (int)\n",
        "price = 2.5 #Biến price kiểu số thực (float)\n",
        "word = 'Hello' #Biến word kiểu chuỗi (String) với dấu nháy đơn\n",
        "\n",
        "word = 'Hello' #Chuỗi với dấu nháy đơn\n",
        "word = \"Hello\" #Chuỗi với dấu nháy kép\n",
        "word = '''Hello''' #Chuỗi với 3 dấu nháy đơn (dùng với chuỗi nhiều dòng)"
      ],
      "metadata": {
        "id": "D_cNpQxc0baw"
      },
      "execution_count": null,
      "outputs": []
    },
    {
      "cell_type": "code",
      "source": [
        "x = 2 #Gán giá trị 2 cho biến x\n",
        "y = x + 1 #Tạo biến y, giá trị là x+1 (2+1)"
      ],
      "metadata": {
        "id": "s8UKS54D1oRd"
      },
      "execution_count": null,
      "outputs": []
    },
    {
      "cell_type": "markdown",
      "source": [
        "PYTHON_VERSION()"
      ],
      "metadata": {
        "id": "CH9L1ymW6dz8"
      }
    },
    {
      "cell_type": "code",
      "source": [
        "# In ra phiên bản Python hiện tại\n",
        "from platform import python_version\n",
        "print(\"Python Version:\", python_version())\n"
      ],
      "metadata": {
        "colab": {
          "base_uri": "https://localhost:8080/"
        },
        "id": "1ssV_PYZ2Hyz",
        "outputId": "8d4cffc6-2463-4202-a906-0292b04989d7"
      },
      "execution_count": null,
      "outputs": [
        {
          "output_type": "stream",
          "name": "stdout",
          "text": [
            "Python Version: 3.12.11\n"
          ]
        }
      ]
    },
    {
      "cell_type": "markdown",
      "source": [
        "PYTHON DATA TYPES"
      ],
      "metadata": {
        "id": "fMEwcrJK6klw"
      }
    },
    {
      "cell_type": "code",
      "source": [
        "x = \"Hello World\" # chuỗi (strig)\n",
        "x = 2 # số nguyên (int)\n",
        "x = 2.5 # số thực (float)\n",
        "x = 7j # số phức (complex)"
      ],
      "metadata": {
        "id": "wAcQ1vxZ6nhv"
      },
      "execution_count": null,
      "outputs": []
    },
    {
      "cell_type": "code",
      "source": [
        "x = [\"apple\", \"banana\", \"cherry\"] #list : danh sách có thể thay đổi, cho phép trùng lặp\n",
        "x = (\"apple\", \"banana\", \"cherry\") #tuple : danh sách không thể thay đổi, cho phép trùng lặp\n",
        "x = range(6) #range : dãy số\n",
        "x = {\"name\" : \"Tom\", \"age\" : 20} #dict : từ điển\n",
        "x = {\"apple\", \"banana\", \"cherry\"} #set : tập hợp không trùng lặp, không có thứ tự\n",
        "x = frozenset({\"apple\", \"banana\", \"cherry\"}) #frozenset : tập hợp bất biến"
      ],
      "metadata": {
        "id": "eC0xlo_176B2"
      },
      "execution_count": null,
      "outputs": []
    },
    {
      "cell_type": "code",
      "source": [
        "x = True #bool : giá trị logic (True/False)\n",
        "x = b\"Hello\" #bytes : chuỗi byte (dùng cho dữ liệu nhị phân)\n",
        "x = bytearray(5) #bytearray : mảng byte có thể thay đổi\n",
        "x = memoryview(bytes(5)) #memoryview: đối tượng cho phép thao tác trực tiếp trên vùng nhớ của bytes/bytearray\n",
        "x = None #NoneType: giá trị \"rỗng\""
      ],
      "metadata": {
        "id": "Tq3wuCLRBSPv"
      },
      "execution_count": null,
      "outputs": []
    },
    {
      "cell_type": "markdown",
      "source": [
        "**PYTHON CASTING**"
      ],
      "metadata": {
        "id": "imSblf7eCkWM"
      }
    },
    {
      "cell_type": "code",
      "source": [
        "x = str(3)     # Ép số 3 thành chuỗi -> '3'\n",
        "y = int(3)     # Ép thành số nguyên -> 3\n",
        "z = float(3)   # Ép thành số thực -> 3.0\n",
        "\n",
        "print(x, type(x))   # In giá trị và kiểu dữ liệu của x\n",
        "print(y, type(y))   # In giá trị và kiểu dữ liệu của y\n",
        "print(z, type(z))   # In giá trị và kiểu dữ liệu của z"
      ],
      "metadata": {
        "colab": {
          "base_uri": "https://localhost:8080/"
        },
        "id": "69GjVIE7Cn6h",
        "outputId": "2c183f4e-9efb-4104-b3a0-699c4e0328be"
      },
      "execution_count": 1,
      "outputs": [
        {
          "output_type": "stream",
          "name": "stdout",
          "text": [
            "3 <class 'str'>\n",
            "3 <class 'int'>\n",
            "3.0 <class 'float'>\n"
          ]
        }
      ]
    },
    {
      "cell_type": "markdown",
      "source": [
        "**PYTHON NUMBERS**"
      ],
      "metadata": {
        "id": "m1QsSFJ0Danu"
      }
    },
    {
      "cell_type": "code",
      "source": [
        "x = 2       # int (số nguyên)\n",
        "y = 3.4     # float (số thực/thập phân)\n",
        "z = 7j      # complex (số phức, có phần ảo)\n",
        "print(x, type(x))\n",
        "print(y, type(y))\n",
        "print(z, type(z))"
      ],
      "metadata": {
        "colab": {
          "base_uri": "https://localhost:8080/"
        },
        "id": "SauCJZJfCzog",
        "outputId": "30318d5b-211a-4a4d-9745-e5d942b40522"
      },
      "execution_count": 2,
      "outputs": [
        {
          "output_type": "stream",
          "name": "stdout",
          "text": [
            "2 <class 'int'>\n",
            "3.4 <class 'float'>\n",
            "7j <class 'complex'>\n"
          ]
        }
      ]
    },
    {
      "cell_type": "markdown",
      "source": [
        "**PYTHON ARITHMETIC OPERATORS**"
      ],
      "metadata": {
        "id": "7L2oblFCDe5I"
      }
    },
    {
      "cell_type": "markdown",
      "source": [
        "| **Operator** | **Tên** | **Ví dụ** | **Kết quả** | **Giải thích** |\n",
        "|--------------|---------|------------|--------------|----------------|\n",
        "| ``+`` | Cộng (Addition) | `7 + 2` | `9` | Cộng hai số lại |\n",
        "| ``-`` | Trừ (Subtraction) | `7 - 2` | `5` | Lấy số thứ nhất trừ số thứ hai |\n",
        "| ``*`` | Nhân (Multiplication) | `7 * 2` | `14` | Nhân hai số |\n",
        "| ``/`` | Chia (Division) | `7 / 2` | `3.5` | Chia bình thường, luôn ra **float** |\n",
        "| ``//`` | Chia lấy phần nguyên (Floor division) | `7 // 2` | `3` | Lấy **thương nguyên** (bỏ phần thập phân) |\n",
        "| ``%`` | Chia lấy dư (Modulus) | `7 % 2` | `1` | Lấy **phần dư** sau phép chia |\n",
        "| ``**`` | Lũy thừa (Exponentiation) | `7 ** 2` | `49` | 7 mũ 2 = 49 |\n"
      ],
      "metadata": {
        "id": "67zKdnOoDq7M"
      }
    },
    {
      "cell_type": "markdown",
      "source": [
        "**PYTHON BASIC OPERATORS**"
      ],
      "metadata": {
        "id": "-np4jko_Ejas"
      }
    },
    {
      "cell_type": "code",
      "source": [
        "# Minh họa các toán tử số học trong Python\n",
        "print('7 + 2 =', 7 + 2)    # Cộng\n",
        "print('7 - 2 =', 7 - 2)    # Trừ\n",
        "print('7 * 2 =', 7 * 2)    # Nhân\n",
        "print('7 / 2 =', 7 / 2)    # Chia thường (luôn ra float)\n",
        "print('7 // 2 =', 7 // 2)  # Chia lấy phần nguyên\n",
        "print('7 % 2 =', 7 % 2)    # Chia lấy dư\n",
        "print('7 ** 2 =', 7 ** 2)  # Lũy thừa\n"
      ],
      "metadata": {
        "colab": {
          "base_uri": "https://localhost:8080/"
        },
        "id": "-ABQkF-WEoWx",
        "outputId": "cfc27663-512b-49c8-daf9-fe2e61729fe6"
      },
      "execution_count": 3,
      "outputs": [
        {
          "output_type": "stream",
          "name": "stdout",
          "text": [
            "7 + 2 = 9\n",
            "7 - 2 = 5\n",
            "7 * 2 = 14\n",
            "7 / 2 = 3.5\n",
            "7 // 2 = 3\n",
            "7 % 2 = 1\n",
            "7 ** 2 = 49\n"
          ]
        }
      ]
    },
    {
      "cell_type": "markdown",
      "source": [
        "**PYTHON BOOLEANS: TRUE OR FALSE**"
      ],
      "metadata": {
        "id": "BkdGNBWCExCM"
      }
    },
    {
      "cell_type": "code",
      "source": [
        "# Python Booleans: True or False\n",
        "print(3 > 2)   # So sánh: 3 lớn hơn 2 → True\n",
        "print(3 == 2)  # So sánh: 3 có bằng 2 không → False\n",
        "print(3 < 2)   # So sánh: 3 nhỏ hơn 2 → False"
      ],
      "metadata": {
        "colab": {
          "base_uri": "https://localhost:8080/"
        },
        "id": "fSVsJwB7E5gI",
        "outputId": "f9002803-aed0-4307-d852-c9f2afdc4c5d"
      },
      "execution_count": 5,
      "outputs": [
        {
          "output_type": "stream",
          "name": "stdout",
          "text": [
            "True\n",
            "False\n",
            "False\n"
          ]
        }
      ]
    },
    {
      "cell_type": "markdown",
      "source": [
        "**PYTHON BMI CALCULATOR**"
      ],
      "metadata": {
        "id": "imyqW7QDEU-N"
      }
    },
    {
      "cell_type": "code",
      "source": [
        "# BMI Calculator in Python\n",
        "height_cm = 170       # chiều cao (cm)\n",
        "weight_kg = 60        # cân nặng (kg)\n",
        "height_m = height_cm / 100   # đổi chiều cao từ cm sang mét\n",
        "BMI = weight_kg / (height_m ** 2)  # công thức tính BMI\n",
        "\n",
        "print(\"Your BMI is: \" + str(round(BMI, 1)))  # in kết quả, làm tròn 1 chữ số thập phân\n"
      ],
      "metadata": {
        "colab": {
          "base_uri": "https://localhost:8080/"
        },
        "id": "Yuh4VjxeFIAi",
        "outputId": "ba29b6ff-e392-4caa-c488-8bea64a824c9"
      },
      "execution_count": 6,
      "outputs": [
        {
          "output_type": "stream",
          "name": "stdout",
          "text": [
            "Your BMI is: 20.8\n"
          ]
        }
      ]
    },
    {
      "cell_type": "markdown",
      "source": [
        "-------------------------------------------------------"
      ],
      "metadata": {
        "id": "ZqP5MWOGGdry"
      }
    },
    {
      "cell_type": "markdown",
      "source": [
        "***Future value of a specified principal amount, rate of interest, and a number of years***"
      ],
      "metadata": {
        "id": "8daYql9NF_WK"
      }
    },
    {
      "cell_type": "markdown",
      "source": [
        "***How much is your $100 worth after 7 years?***"
      ],
      "metadata": {
        "id": "kBiEi3AXGlJ_"
      }
    },
    {
      "cell_type": "code",
      "source": [
        "# How much is your $100 worth after 7 years?\n",
        "\n",
        "fv = 100 * 1.1 ** 7   # công thức FV = PV * (1 + r)^n\n",
        "print('fv = ', round(fv, 2))  # làm tròn 2 chữ số thập phân\n",
        "\n",
        "# output = 194.87"
      ],
      "metadata": {
        "colab": {
          "base_uri": "https://localhost:8080/"
        },
        "id": "-_pRDNmMGV9X",
        "outputId": "10853cea-d534-4750-e0bc-5ddd36653bfa"
      },
      "execution_count": 8,
      "outputs": [
        {
          "output_type": "stream",
          "name": "stdout",
          "text": [
            "fv =  194.87\n"
          ]
        }
      ]
    },
    {
      "cell_type": "markdown",
      "source": [
        "**FUTURE VALUE**"
      ],
      "metadata": {
        "id": "m8A09TKBGP3c"
      }
    },
    {
      "cell_type": "code",
      "source": [
        "# Future Value\n",
        "pv = 100         # Giá trị hiện tại (Present Value)\n",
        "r = 0.1          # Lãi suất hằng năm (10%)\n",
        "n = 7            # Số năm\n",
        "fv = pv * ((1 + r) ** n)   # Công thức FV = PV * (1 + r)^n\n",
        "print(round(fv, 2))  # In ra kết quả, làm tròn 2 chữ số thập phân\n"
      ],
      "metadata": {
        "colab": {
          "base_uri": "https://localhost:8080/"
        },
        "id": "Wa88a7ZnHBUG",
        "outputId": "5028ceaf-c20b-46ff-907a-b6067b0adc02"
      },
      "execution_count": 9,
      "outputs": [
        {
          "output_type": "stream",
          "name": "stdout",
          "text": [
            "194.87\n"
          ]
        }
      ]
    },
    {
      "cell_type": "code",
      "source": [
        "# Future Value\n",
        "amount = 100        # Số tiền gốc ban đầu (PV)\n",
        "interest = 10       # Lãi suất phần trăm (%), ở đây là 10%\n",
        "years = 7           # Số năm\n",
        "# Công thức FV = PV * (1 + r)^n\n",
        "# r = 0.01 * interest để đổi từ % sang số thập phân\n",
        "future_value = amount * ((1 + (0.01 * interest)) ** years)\n",
        "\n",
        "print(round(future_value, 2))  # In kết quả, làm tròn 2 chữ số thập phân\n"
      ],
      "metadata": {
        "colab": {
          "base_uri": "https://localhost:8080/"
        },
        "id": "ZPNeWuTjHUV9",
        "outputId": "b0859505-d3bc-4213-c9be-89ea77ede63e"
      },
      "execution_count": 10,
      "outputs": [
        {
          "output_type": "stream",
          "name": "stdout",
          "text": [
            "194.87\n"
          ]
        }
      ]
    },
    {
      "cell_type": "markdown",
      "source": [
        "# **PYTHON DATA STRUCTURES**"
      ],
      "metadata": {
        "id": "4HZKwQk6HbrW"
      }
    },
    {
      "cell_type": "markdown",
      "source": [
        "**PYTHON DATA TYPES**"
      ],
      "metadata": {
        "id": "sV9RndpHHgUL"
      }
    },
    {
      "cell_type": "code",
      "source": [
        "x = [\"apple\", \"banana\", \"cherry\"]   # list (danh sách)\n",
        "x = (\"apple\", \"banana\", \"cherry\")   # tuple (bộ giá trị)\n",
        "x = {\"name\": \"Tom\", \"age\": 20}      # dict (từ điển)\n",
        "x = {\"apple\", \"banana\", \"cherry\"}   # set (tập hợp)"
      ],
      "metadata": {
        "id": "dzaC35zlHwpd"
      },
      "execution_count": 11,
      "outputs": []
    },
    {
      "cell_type": "markdown",
      "source": [
        "**Python Collections**\n",
        "\n",
        "Có 4 kiểu dữ liệu tập hợp chính trong Python:\n",
        "\n",
        "1. **List `[]`**\n",
        "   - Có thứ tự, thay đổi được.\n",
        "   - Cho phép trùng lặp.\n",
        "\n",
        "2. **Tuple `()`**\n",
        "   - Có thứ tự, **không** thay đổi được.\n",
        "   - Cho phép trùng lặp.\n",
        "\n",
        "3. **Set `{}`**\n",
        "   - Không có thứ tự, không trùng lặp.\n",
        "\n",
        "4. **Dictionary `{k:v}`**\n",
        "   - Dạng cặp `key:value`.\n",
        "   - Có thứ tự (Python 3.7+), thay đổi được.\n",
        "   - Key không trùng, Value có thể trùng.\n"
      ],
      "metadata": {
        "id": "z6bDKiIlIbxF"
      }
    },
    {
      "cell_type": "markdown",
      "source": [
        "**LIST[]**"
      ],
      "metadata": {
        "id": "sdv1ZIhyIest"
      }
    },
    {
      "cell_type": "markdown",
      "source": [
        "- **`len()`** : cho biết số phần tử trong list  \n",
        "- **`type()`** : cho biết kiểu dữ liệu  \n",
        "- **`list()` constructor** : tạo một list mới"
      ],
      "metadata": {
        "id": "fkSzboAlJmUl"
      }
    },
    {
      "cell_type": "code",
      "source": [
        "x = [60, 70, 80, 90]   # tạo list gồm 4 phần tử\n",
        "print(len(x))          # độ dài list (số phần tử)\n",
        "print(x[0])            # phần tử ở vị trí 0 (đầu tiên)\n",
        "print(x[1])            # phần tử ở vị trí 1\n",
        "print(x[-1])           # phần tử ở vị trí -1 (cuối cùng)\n"
      ],
      "metadata": {
        "colab": {
          "base_uri": "https://localhost:8080/"
        },
        "id": "rUaydDSmJD90",
        "outputId": "d49695e9-2a5e-4bf0-8977-72fe0b36f227"
      },
      "execution_count": 13,
      "outputs": [
        {
          "output_type": "stream",
          "name": "stdout",
          "text": [
            "4\n",
            "60\n",
            "70\n",
            "90\n"
          ]
        }
      ]
    },
    {
      "cell_type": "markdown",
      "source": [
        "**PYTHON LIST METHODS**"
      ],
      "metadata": {
        "id": "jSNalbNKJriZ"
      }
    },
    {
      "cell_type": "markdown",
      "source": [
        "Các phương thức của List trong Python:\n",
        "\n",
        "- append() : Thêm một phần tử vào cuối danh sách  \n",
        "- clear() : Xóa tất cả các phần tử trong danh sách  \n",
        "- copy() : Trả về một bản sao của danh sách  \n",
        "- count() : Trả về số lần xuất hiện của một giá trị chỉ định  \n",
        "- extend() : Thêm các phần tử của một danh sách (hoặc iterable khác) vào cuối danh sách hiện tại  \n",
        "- index() : Trả về chỉ số của phần tử đầu tiên có giá trị chỉ định  \n",
        "- insert() : Thêm một phần tử tại vị trí chỉ định  \n",
        "- pop() : Xóa phần tử tại vị trí chỉ định (mặc định là phần tử cuối)  \n",
        "- remove() : Xóa phần tử có giá trị chỉ định  \n",
        "- reverse() : Đảo ngược thứ tự của danh sách  \n",
        "- sort() : Sắp xếp danh sách  \n"
      ],
      "metadata": {
        "id": "doRzQSHnK9mX"
      }
    },
    {
      "cell_type": "markdown",
      "source": [
        "**TUPLES()**\n",
        "+ Một tuple trong Python là một tập hợp không thể được thay đổi.\n",
        "+ Một tuple được định nghĩa bằng dấu ngoặc tròn."
      ],
      "metadata": {
        "id": "EYqKkRxvKPvV"
      }
    },
    {
      "cell_type": "code",
      "source": [
        "x = (10, 20, 30, 40, 50)   # Tạo một tuple gồm 5 phần tử\n",
        "print(x[0])   # In ra phần tử ở vị trí 0 (phần tử đầu tiên) → 10\n",
        "print(x[1])   # In ra phần tử ở vị trí 1 (phần tử thứ hai) → 20\n",
        "print(x[2])   # In ra phần tử ở vị trí 2 (phần tử thứ ba) → 30\n",
        "print(x[-1])  # In ra phần tử ở vị trí -1 (phần tử cuối cùng) → 50\n"
      ],
      "metadata": {
        "colab": {
          "base_uri": "https://localhost:8080/"
        },
        "id": "BuVkLDdFLQ07",
        "outputId": "b2db5b20-3637-46ed-88c8-dc14a60dde37"
      },
      "execution_count": 14,
      "outputs": [
        {
          "output_type": "stream",
          "name": "stdout",
          "text": [
            "10\n",
            "20\n",
            "30\n",
            "50\n"
          ]
        }
      ]
    },
    {
      "cell_type": "markdown",
      "source": [
        "**SET{}**"
      ],
      "metadata": {
        "id": "ep1LA-M7LaTt"
      }
    },
    {
      "cell_type": "code",
      "source": [
        "animals = {'cat', 'dog'}        # Tạo một set gồm \"cat\" và \"dog\"\n",
        "print('cat' in animals)         # True vì \"cat\" có trong set\n",
        "print('fish' in animals)        # False vì \"fish\" chưa có trong set\n",
        "animals.add('fish')             # Thêm \"fish\" vào set\n",
        "print('fish' in animals)        # True vì \"fish\" đã được thêm\n",
        "print(len(animals))             # 3 phần tử: {\"cat\", \"dog\", \"fish\"}\n",
        "animals.add('cat')              # Thêm \"cat\" lần nữa -> không thay đổi (set không chứa trùng lặp)\n",
        "print(len(animals))             # Vẫn = 3\n",
        "animals.remove('cat')           # Xóa \"cat\" khỏi set\n",
        "print(len(animals))             # Còn lại 2 phần tử\n"
      ],
      "metadata": {
        "colab": {
          "base_uri": "https://localhost:8080/"
        },
        "id": "MnMOIYQ_LeDH",
        "outputId": "6e2bce36-6821-4d04-f215-48ebfd1bc1a3"
      },
      "execution_count": 15,
      "outputs": [
        {
          "output_type": "stream",
          "name": "stdout",
          "text": [
            "True\n",
            "False\n",
            "True\n",
            "3\n",
            "3\n",
            "2\n"
          ]
        }
      ]
    },
    {
      "cell_type": "markdown",
      "source": [
        "**DICTIONARY {KEY : VALUE}**"
      ],
      "metadata": {
        "id": "XPEhO7I2McBM"
      }
    },
    {
      "cell_type": "markdown",
      "source": [
        "Python Dictionary\n",
        "\n",
        "Key → Value\n",
        "\n",
        "'EN’ → 'English’\n",
        "\n",
        "'FR’ → 'French'"
      ],
      "metadata": {
        "id": "p61MnigHMtut"
      }
    },
    {
      "cell_type": "code",
      "source": [
        "k = { 'EN': 'English',          # Tạo dictionary với key 'EN' có value 'English'\n",
        "      'FR': 'French' }          # Key 'FR' có value 'French'\n",
        "\n",
        "print(k['EN'])                  # Truy xuất value theo key 'EN' → English\n"
      ],
      "metadata": {
        "colab": {
          "base_uri": "https://localhost:8080/"
        },
        "id": "HKeMLPJ5MfIG",
        "outputId": "3e854dee-17e4-481d-c117-ce8b1f1c0c36"
      },
      "execution_count": 16,
      "outputs": [
        {
          "output_type": "stream",
          "name": "stdout",
          "text": [
            "English\n"
          ]
        }
      ]
    },
    {
      "cell_type": "markdown",
      "source": [
        "**PYTHON DATA STRUCTURES**"
      ],
      "metadata": {
        "id": "wEMthqyBNL5e"
      }
    },
    {
      "cell_type": "code",
      "source": [
        "fruits = [\"apple\", \"banana\", \"cherry\"]    # List []: có thứ tự, thay đổi được, cho phép trùng lặp\n",
        "colors = (\"red\", \"green\", \"blue\")         # Tuple (): có thứ tự, KHÔNG thay đổi, cho phép trùng lặp\n",
        "animals = {'cat', 'dog'}                  # Set {}: không có thứ tự, không cho phép trùng lặp\n",
        "person = {\"name\": \"Tom\", \"age\": 20}       # Dictionary {k:v}: lưu theo cặp Key–Value, key không trùng\n"
      ],
      "metadata": {
        "id": "Rv55Fdq5NA3i"
      },
      "execution_count": 18,
      "outputs": []
    },
    {
      "cell_type": "markdown",
      "source": [
        "**PYTHON FOR FINANCE APPLICATIONS**"
      ],
      "metadata": {
        "id": "p4KMIgQHNTyC"
      }
    },
    {
      "cell_type": "code",
      "source": [
        "# Python Lists\n",
        "expenses = [72.50, 80.75, 50.00, 90.25]   # Tạo một list gồm các chi phí\n",
        "total_expenses = sum(expenses)            # Hàm sum() tính tổng các phần tử trong list\n",
        "print(\"Total expenses:\", total_expenses)  # In ra tổng chi phí\n"
      ],
      "metadata": {
        "colab": {
          "base_uri": "https://localhost:8080/"
        },
        "id": "xWBXPIjKNQSz",
        "outputId": "aa8fe3d2-5f61-4b83-c1c5-34d3a0c0d8aa"
      },
      "execution_count": 19,
      "outputs": [
        {
          "output_type": "stream",
          "name": "stdout",
          "text": [
            "Total expenses: 293.5\n"
          ]
        }
      ]
    },
    {
      "cell_type": "markdown",
      "source": [
        "**PYTHON FOR FINANCE APPLICATIONS**"
      ],
      "metadata": {
        "id": "VJB7mSWPPIpj"
      }
    },
    {
      "cell_type": "code",
      "source": [
        "# Python Tuples\n",
        "accounts = ((\"Cash\", 1001),\n",
        "            (\"Accounts Receivable\", 1002),\n",
        "            (\"Inventory\", 1003))   # Tạo một tuple gồm các tuple con (tên tài khoản, số tài khoản)\n",
        "\n",
        "for account in accounts:                 # Lặp qua từng tuple con trong accounts\n",
        "    print(\"Account name:\", account[0], \"Account number:\", account[1])\n",
        "    # account[0] → tên tài khoản, account[1] → số tài khoản\n"
      ],
      "metadata": {
        "colab": {
          "base_uri": "https://localhost:8080/"
        },
        "id": "fq1Ml55zO_7J",
        "outputId": "9e649ef6-a636-443f-e1d3-a25a9397dc6b"
      },
      "execution_count": 20,
      "outputs": [
        {
          "output_type": "stream",
          "name": "stdout",
          "text": [
            "Account name: Cash Account number: 1001\n",
            "Account name: Accounts Receivable Account number: 1002\n",
            "Account name: Inventory Account number: 1003\n"
          ]
        }
      ]
    },
    {
      "cell_type": "code",
      "source": [
        "# Python Sets\n",
        "account_numbers = {1001, 1002, 1003}   # Tạo một set gồm các số tài khoản\n",
        "new_account_number = 1004               # Số tài khoản mới cần kiểm tra\n",
        "\n",
        "if new_account_number not in account_numbers:   # Kiểm tra số mới có trong set không\n",
        "    print(\"Account number\", new_account_number, \"is not in use.\")\n",
        "    # Nếu không có trong set → in thông báo\n"
      ],
      "metadata": {
        "colab": {
          "base_uri": "https://localhost:8080/"
        },
        "id": "KoqP90QeP-WG",
        "outputId": "4ca564be-3dfd-4ee8-bb82-966835a0f825"
      },
      "execution_count": 22,
      "outputs": [
        {
          "output_type": "stream",
          "name": "stdout",
          "text": [
            "Account number 1004 is not in use.\n"
          ]
        }
      ]
    },
    {
      "cell_type": "code",
      "source": [
        "# Python Dictionaries\n",
        "accounts = {\n",
        "    \"1001\": {\"name\": \"Cash\", \"balance\": 500.00, \"type\": \"Asset\"},\n",
        "    \"1002\": {\"name\": \"Accounts Receivable\", \"balance\": 1000.00, \"type\": \"Asset\"},\n",
        "    \"2001\": {\"name\": \"Accounts Payable\", \"balance\": 750.00, \"type\": \"Liability\"}\n",
        "}  # Dictionary lồng nhau: key là account_number, value là dictionary thông tin tài khoản\n",
        "\n",
        "for account_number, account_info in accounts.items():  # Lặp qua từng cặp key:value\n",
        "    print(\"Account number:\", account_number)\n",
        "    print(\"Account name:\", account_info[\"name\"])       # Truy xuất giá trị \"name\"\n",
        "    print(\"Account balance:\", account_info[\"balance\"]) # Truy xuất giá trị \"balance\"\n",
        "    print(\"Account type:\", account_info[\"type\"])       # Truy xuất giá trị \"type\"\n"
      ],
      "metadata": {
        "colab": {
          "base_uri": "https://localhost:8080/"
        },
        "id": "cKmMVTI0QM5F",
        "outputId": "3476bc19-8a97-4d10-88ea-a36c72aab3ca"
      },
      "execution_count": 23,
      "outputs": [
        {
          "output_type": "stream",
          "name": "stdout",
          "text": [
            "Account number: 1001\n",
            "Account name: Cash\n",
            "Account balance: 500.0\n",
            "Account type: Asset\n",
            "Account number: 1002\n",
            "Account name: Accounts Receivable\n",
            "Account balance: 1000.0\n",
            "Account type: Asset\n",
            "Account number: 2001\n",
            "Account name: Accounts Payable\n",
            "Account balance: 750.0\n",
            "Account type: Liability\n"
          ]
        }
      ]
    },
    {
      "cell_type": "markdown",
      "source": [
        "# **PYTHON CONTROL LOGIC AND LOOPS**"
      ],
      "metadata": {
        "id": "g_DXhAc9QYQy"
      }
    },
    {
      "cell_type": "markdown",
      "source": [
        "**PYTHON IF**"
      ],
      "metadata": {
        "id": "SOW65n5JQeoA"
      }
    },
    {
      "cell_type": "code",
      "source": [
        "# Python if\n",
        "score = 80   # Điểm số của học sinh\n",
        "\n",
        "if score >= 60:   # Nếu điểm >= 60\n",
        "    print(\"Pass\")  # In ra \"Pass\"\n"
      ],
      "metadata": {
        "colab": {
          "base_uri": "https://localhost:8080/"
        },
        "id": "St9UAIglQN2O",
        "outputId": "89f28c52-dd21-4efb-cd31-9fbdc5c781c5"
      },
      "execution_count": 24,
      "outputs": [
        {
          "output_type": "stream",
          "name": "stdout",
          "text": [
            "Pass\n"
          ]
        }
      ]
    },
    {
      "cell_type": "markdown",
      "source": [
        "**PYTHON IF ELSE**"
      ],
      "metadata": {
        "id": "I3HihRfhQ-dX"
      }
    },
    {
      "cell_type": "code",
      "source": [
        "# Python if else\n",
        "score = 80   # Điểm số của học sinh\n",
        "\n",
        "if score >= 60:          # Nếu điểm >= 60\n",
        "    print(\"Pass\")        # In ra \"Pass\"\n",
        "else:                    # Ngược lại\n",
        "    print(\"Fail\")        # In ra \"Fail\"\n"
      ],
      "metadata": {
        "colab": {
          "base_uri": "https://localhost:8080/"
        },
        "id": "RVhPFjbXRA6v",
        "outputId": "0af7547c-3eb9-4b51-ae26-cc9faa6b8000"
      },
      "execution_count": 25,
      "outputs": [
        {
          "output_type": "stream",
          "name": "stdout",
          "text": [
            "Pass\n"
          ]
        }
      ]
    },
    {
      "cell_type": "markdown",
      "source": [
        "**PYTHON IF ELIF ELSE**"
      ],
      "metadata": {
        "id": "h7wXM0UGRHEW"
      }
    },
    {
      "cell_type": "code",
      "source": [
        "score = 95   # Điểm số của học sinh\n",
        "\n",
        "if score >= 90:          # Nếu điểm >= 90\n",
        "    print(\"A\")           # In ra \"A\"\n",
        "elif score >= 60:        # Nếu điểm >= 60 nhưng < 90\n",
        "    print(\"Pass\")        # In ra \"Pass\"\n",
        "else:                    # Nếu điểm < 60\n",
        "    print(\"Fail\")        # In ra \"Fail\"\n"
      ],
      "metadata": {
        "colab": {
          "base_uri": "https://localhost:8080/"
        },
        "id": "BynhJDnYRFrd",
        "outputId": "1a8aa055-e5ff-4024-c369-2570b194eb36"
      },
      "execution_count": 26,
      "outputs": [
        {
          "output_type": "stream",
          "name": "stdout",
          "text": [
            "A\n"
          ]
        }
      ]
    },
    {
      "cell_type": "code",
      "source": [
        "# Python if elif else\n",
        "score = 90          # Điểm số của học sinh\n",
        "grade = \"\"          # Khởi tạo biến grade\n",
        "\n",
        "if score >= 90:     # Nếu điểm >= 90\n",
        "    grade = \"A\"\n",
        "elif score >= 80:   # Nếu điểm >= 80 nhưng < 90\n",
        "    grade = \"B\"\n",
        "elif score >= 70:   # Nếu điểm >= 70 nhưng < 80\n",
        "    grade = \"C\"\n",
        "elif score >= 60:   # Nếu điểm >= 60 nhưng < 70\n",
        "    grade = \"D\"\n",
        "else:               # Nếu điểm < 60\n",
        "    grade = \"E\"\n",
        "\n",
        "print(grade)        # In ra kết quả\n"
      ],
      "metadata": {
        "colab": {
          "base_uri": "https://localhost:8080/"
        },
        "id": "88vCbwsIRQ9I",
        "outputId": "962f67c0-67ce-4eeb-b884-50a4fbfb9303"
      },
      "execution_count": 27,
      "outputs": [
        {
          "output_type": "stream",
          "name": "stdout",
          "text": [
            "A\n"
          ]
        }
      ]
    },
    {
      "cell_type": "markdown",
      "source": [
        "**PYTHON FOR LOOPS**"
      ],
      "metadata": {
        "id": "IV2T74NARbby"
      }
    },
    {
      "cell_type": "code",
      "source": [
        "# Vòng lặp for với range\n",
        "for i in range(1, 6):   # Lặp i từ 1 đến 5 (range(1,6) không bao gồm 6)\n",
        "    print(i)            # In ra giá trị i mỗi vòng lặp\n"
      ],
      "metadata": {
        "colab": {
          "base_uri": "https://localhost:8080/"
        },
        "id": "EVBlF-DzRdwM",
        "outputId": "6b284174-b33a-478b-af5f-e4ce2154a511"
      },
      "execution_count": 28,
      "outputs": [
        {
          "output_type": "stream",
          "name": "stdout",
          "text": [
            "1\n",
            "2\n",
            "3\n",
            "4\n",
            "5\n"
          ]
        }
      ]
    },
    {
      "cell_type": "code",
      "source": [
        "# Vòng lặp for lồng nhau in bảng cửu chương\n",
        "for i in range(1, 10):           # Lặp i từ 1 đến 9\n",
        "    for j in range(1, 10):       # Lặp j từ 1 đến 9\n",
        "        print(i, '*', j, '=', i*j)  # In ra i * j\n"
      ],
      "metadata": {
        "colab": {
          "base_uri": "https://localhost:8080/"
        },
        "id": "WlcoNEmPRYpR",
        "outputId": "eb0e17bf-e358-47db-fd86-eb13005d0494"
      },
      "execution_count": 29,
      "outputs": [
        {
          "output_type": "stream",
          "name": "stdout",
          "text": [
            "1 * 1 = 1\n",
            "1 * 2 = 2\n",
            "1 * 3 = 3\n",
            "1 * 4 = 4\n",
            "1 * 5 = 5\n",
            "1 * 6 = 6\n",
            "1 * 7 = 7\n",
            "1 * 8 = 8\n",
            "1 * 9 = 9\n",
            "2 * 1 = 2\n",
            "2 * 2 = 4\n",
            "2 * 3 = 6\n",
            "2 * 4 = 8\n",
            "2 * 5 = 10\n",
            "2 * 6 = 12\n",
            "2 * 7 = 14\n",
            "2 * 8 = 16\n",
            "2 * 9 = 18\n",
            "3 * 1 = 3\n",
            "3 * 2 = 6\n",
            "3 * 3 = 9\n",
            "3 * 4 = 12\n",
            "3 * 5 = 15\n",
            "3 * 6 = 18\n",
            "3 * 7 = 21\n",
            "3 * 8 = 24\n",
            "3 * 9 = 27\n",
            "4 * 1 = 4\n",
            "4 * 2 = 8\n",
            "4 * 3 = 12\n",
            "4 * 4 = 16\n",
            "4 * 5 = 20\n",
            "4 * 6 = 24\n",
            "4 * 7 = 28\n",
            "4 * 8 = 32\n",
            "4 * 9 = 36\n",
            "5 * 1 = 5\n",
            "5 * 2 = 10\n",
            "5 * 3 = 15\n",
            "5 * 4 = 20\n",
            "5 * 5 = 25\n",
            "5 * 6 = 30\n",
            "5 * 7 = 35\n",
            "5 * 8 = 40\n",
            "5 * 9 = 45\n",
            "6 * 1 = 6\n",
            "6 * 2 = 12\n",
            "6 * 3 = 18\n",
            "6 * 4 = 24\n",
            "6 * 5 = 30\n",
            "6 * 6 = 36\n",
            "6 * 7 = 42\n",
            "6 * 8 = 48\n",
            "6 * 9 = 54\n",
            "7 * 1 = 7\n",
            "7 * 2 = 14\n",
            "7 * 3 = 21\n",
            "7 * 4 = 28\n",
            "7 * 5 = 35\n",
            "7 * 6 = 42\n",
            "7 * 7 = 49\n",
            "7 * 8 = 56\n",
            "7 * 9 = 63\n",
            "8 * 1 = 8\n",
            "8 * 2 = 16\n",
            "8 * 3 = 24\n",
            "8 * 4 = 32\n",
            "8 * 5 = 40\n",
            "8 * 6 = 48\n",
            "8 * 7 = 56\n",
            "8 * 8 = 64\n",
            "8 * 9 = 72\n",
            "9 * 1 = 9\n",
            "9 * 2 = 18\n",
            "9 * 3 = 27\n",
            "9 * 4 = 36\n",
            "9 * 5 = 45\n",
            "9 * 6 = 54\n",
            "9 * 7 = 63\n",
            "9 * 8 = 72\n",
            "9 * 9 = 81\n"
          ]
        }
      ]
    },
    {
      "cell_type": "markdown",
      "source": [
        "**PYTHON WJILE LOOPS**"
      ],
      "metadata": {
        "id": "n7iYnXypR4jk"
      }
    },
    {
      "cell_type": "code",
      "source": [
        "# Vòng lặp while\n",
        "age = 10                 # Khởi tạo biến age\n",
        "\n",
        "while age < 20:          # Lặp khi age < 20\n",
        "    print(age)           # In giá trị hiện tại của age\n",
        "    age = age + 1        # Tăng age lên 1 mỗi vòng lặp\n"
      ],
      "metadata": {
        "colab": {
          "base_uri": "https://localhost:8080/"
        },
        "id": "yZsTXYUwR2tv",
        "outputId": "3677a76a-31dc-4be9-f8e8-addde8206f97"
      },
      "execution_count": 30,
      "outputs": [
        {
          "output_type": "stream",
          "name": "stdout",
          "text": [
            "10\n",
            "11\n",
            "12\n",
            "13\n",
            "14\n",
            "15\n",
            "16\n",
            "17\n",
            "18\n",
            "19\n"
          ]
        }
      ]
    },
    {
      "cell_type": "markdown",
      "source": [
        "# **PYTHON FUNCTIONS**"
      ],
      "metadata": {
        "id": "yxN0Yw5DSA8h"
      }
    },
    {
      "cell_type": "markdown",
      "source": [
        "**PYTHON FUNCTION DEF**"
      ],
      "metadata": {
        "id": "zcWRow8eSF_I"
      }
    },
    {
      "cell_type": "code",
      "source": [
        "# Python Function (hàm)\n",
        "# Lưu ý: indentation (4 spaces) để xác định khối lệnh\n",
        "\n",
        "def getfv(pv, r, n):                   # Định nghĩa hàm getfv với 3 tham số: pv, r, n\n",
        "    fv = pv * ((1 + r) ** n)           # Tính giá trị tương lai (Future Value)\n",
        "    return fv                          # Trả về giá trị fv\n",
        "\n",
        "fv = getfv(100, 0.1, 7)                # Gọi hàm với pv=100, r=0.1, n=7\n",
        "print(round(fv, 2))                     # In kết quả làm tròn 2 chữ số thập phân\n"
      ],
      "metadata": {
        "colab": {
          "base_uri": "https://localhost:8080/"
        },
        "id": "dvnqmsHfR9o8",
        "outputId": "08f7eab4-6918-404a-c6dd-7d89008569aa"
      },
      "execution_count": 31,
      "outputs": [
        {
          "output_type": "stream",
          "name": "stdout",
          "text": [
            "194.87\n"
          ]
        }
      ]
    },
    {
      "cell_type": "markdown",
      "source": [
        "# **PYTHON CLASSES/OBJECTS**"
      ],
      "metadata": {
        "id": "shRbJG6CSoxS"
      }
    },
    {
      "cell_type": "markdown",
      "source": [
        "**class MyClass:**"
      ],
      "metadata": {
        "id": "2O7fWUgTTKL8"
      }
    },
    {
      "cell_type": "code",
      "source": [
        "# Python class\n",
        "class MyClass:\n",
        "    x = 5           # Thuộc tính (attribute) của class\n",
        "\n",
        "c1 = MyClass()      # Tạo một đối tượng (instance) c1 của MyClass\n",
        "print(c1.x)         # Truy xuất thuộc tính x của đối tượng c1 → 5\n"
      ],
      "metadata": {
        "colab": {
          "base_uri": "https://localhost:8080/"
        },
        "id": "OV5tYNhtTO6p",
        "outputId": "242f4940-4c89-4a4b-f8ec-d3ba03e008a8"
      },
      "execution_count": 32,
      "outputs": [
        {
          "output_type": "stream",
          "name": "stdout",
          "text": [
            "5\n"
          ]
        }
      ]
    },
    {
      "cell_type": "code",
      "source": [
        "class Person:\n",
        "    def __init__(self, name, age):  # Constructor (__init__) khởi tạo đối tượng\n",
        "        self.name = name            # Thuộc tính name\n",
        "        self.age = age              # Thuộc tính age\n",
        "\n",
        "p1 = Person(\"Alan\", 20)            # Tạo đối tượng p1 với name=\"Alan\", age=20\n",
        "\n",
        "print(p1.name)                      # Truy xuất thuộc tính name → Alan\n",
        "print(p1.age)                       # Truy xuất thuộc tính age → 20\n"
      ],
      "metadata": {
        "colab": {
          "base_uri": "https://localhost:8080/"
        },
        "id": "gB4cKcCGTTGs",
        "outputId": "34830611-3a1c-481f-a789-63a1943d8396"
      },
      "execution_count": 33,
      "outputs": [
        {
          "output_type": "stream",
          "name": "stdout",
          "text": [
            "Alan\n",
            "20\n"
          ]
        }
      ]
    },
    {
      "cell_type": "code",
      "source": [
        "class Person:\n",
        "    def __init__(self, name, age):      # Constructor (__init__) khởi tạo đối tượng\n",
        "        self.name = name                # Thuộc tính name\n",
        "        self.age = age                  # Thuộc tính age\n",
        "\n",
        "    def myfunc(self):                   # Phương thức của class\n",
        "        print(\"Hello my name is \" + self.name)  # In ra tên của đối tượng\n",
        "\n",
        "p1 = Person(\"Alan\", 20)                # Tạo đối tượng p1\n",
        "p1.myfunc()                             # Gọi phương thức myfunc từ đối tượng p1\n"
      ],
      "metadata": {
        "colab": {
          "base_uri": "https://localhost:8080/"
        },
        "id": "85QSpp_DTpkt",
        "outputId": "ae707698-3b45-434a-d083-e213e9533d5d"
      },
      "execution_count": 34,
      "outputs": [
        {
          "output_type": "stream",
          "name": "stdout",
          "text": [
            "Hello my name is Alan\n"
          ]
        }
      ]
    },
    {
      "cell_type": "code",
      "source": [
        "# Python class với phương thức và thuộc tính\n",
        "class Person:\n",
        "    def __init__(self, name, age):       # Constructor (__init__) khởi tạo đối tượng\n",
        "        self.name = name                 # Thuộc tính name\n",
        "        self.age = age                   # Thuộc tính age\n",
        "\n",
        "    def myfunc(self):                    # Phương thức của class\n",
        "        print(\"Hello my name is \" + self.name)  # In ra tên của đối tượng\n",
        "\n",
        "p1 = Person(\"Alan\", 20)                 # Tạo đối tượng p1\n",
        "p1.myfunc()                              # Gọi phương thức myfunc từ đối tượng p1\n",
        "\n",
        "print(p1.name)                           # Truy xuất thuộc tính name → Alan\n",
        "print(p1.age)                            # Truy xuất thuộc tính age → 20\n"
      ],
      "metadata": {
        "colab": {
          "base_uri": "https://localhost:8080/"
        },
        "id": "GmjJl2ZOT0VK",
        "outputId": "d640e117-1eb0-4c46-d90f-7c42764ef6ab"
      },
      "execution_count": 35,
      "outputs": [
        {
          "output_type": "stream",
          "name": "stdout",
          "text": [
            "Hello my name is Alan\n",
            "Alan\n",
            "20\n"
          ]
        }
      ]
    },
    {
      "cell_type": "code",
      "source": [
        "# Tạo các đối tượng Vehicle\n",
        "car1 = Vehicle()\n",
        "car1.name = \"Fer\"                  # Gán tên xe\n",
        "car1.color = \"red\"                 # Gán màu xe\n",
        "car1.kind = \"convertible\"          # Gán loại xe\n",
        "car1.value = 60000.00              # Gán giá trị xe\n",
        "\n",
        "car2 = Vehicle()\n",
        "car2.name = \"Jump\"\n",
        "car2.color = \"blue\"\n",
        "car2.kind = \"van\"\n",
        "car2.value = 10000.00\n",
        "\n",
        "# Gọi phương thức description và truy xuất thuộc tính\n",
        "print(car1.description())           # In mô tả xe car1\n",
        "print(car1.name)                    # In tên xe car1\n",
        "print(car2.description())           # In mô tả xe car2\n",
        "print(car2.name)                    # In tên xe car2\n",
        "\n",
        "\n",
        "# Python class với phương thức trả về chuỗi mô tả\n",
        "class Vehicle:\n",
        "    name = \"\"             # Tên xe\n",
        "    kind = \"car\"          # Loại xe\n",
        "    color = \"\"            # Màu xe\n",
        "    value = 100.00        # Giá trị xe\n",
        "\n",
        "    def description(self):\n",
        "        # Tạo chuỗi mô tả xe\n",
        "        desc_str = \"%s is a %s %s worth $%.2f.\" % (self.name, self.color, self.kind, self.value)\n",
        "        return desc_str    # Trả về chuỗi mô tả\n"
      ],
      "metadata": {
        "colab": {
          "base_uri": "https://localhost:8080/"
        },
        "id": "Vf39-I9uUGUV",
        "outputId": "cf4f8360-4792-45e8-e3a9-b3e6628fa6df"
      },
      "execution_count": 37,
      "outputs": [
        {
          "output_type": "stream",
          "name": "stdout",
          "text": [
            "Fer is a red convertible worth $60000.00.\n",
            "Fer\n",
            "Jump is a blue van worth $10000.00.\n",
            "Jump\n"
          ]
        }
      ]
    },
    {
      "cell_type": "markdown",
      "source": [
        "# **PYTHON MODULES**"
      ],
      "metadata": {
        "id": "xT1I85kWWJZ2"
      }
    },
    {
      "cell_type": "code",
      "source": [
        "%%writefile mymodule.py\n",
        "def greeting(name):                    # Định nghĩa hàm greeting nhận tham số name\n",
        "    print(\"Hello, \" + name)           # In ra lời chào với name\n"
      ],
      "metadata": {
        "colab": {
          "base_uri": "https://localhost:8080/"
        },
        "id": "pgnd22n6UVLc",
        "outputId": "9da4ea2c-ca16-45cd-fd58-32171a9120b7"
      },
      "execution_count": 40,
      "outputs": [
        {
          "output_type": "stream",
          "name": "stdout",
          "text": [
            "Writing mymodule.py\n"
          ]
        }
      ]
    },
    {
      "cell_type": "code",
      "source": [
        "import mymodule                        # Nhập module mymodule\n",
        "mymodule.greeting(\"Alan\")              # Gọi hàm greeting từ module\n"
      ],
      "metadata": {
        "colab": {
          "base_uri": "https://localhost:8080/"
        },
        "id": "Ler-6F30WflX",
        "outputId": "3f10363b-c908-40af-e673-16fdaf1611bf"
      },
      "execution_count": 41,
      "outputs": [
        {
          "output_type": "stream",
          "name": "stdout",
          "text": [
            "Hello, Alan\n"
          ]
        }
      ]
    },
    {
      "cell_type": "markdown",
      "source": [
        "**PYTHON FILE INPUT/OUTPUT**"
      ],
      "metadata": {
        "id": "StGeMDwrXhkf"
      }
    },
    {
      "cell_type": "code",
      "source": [
        "# Python File Input / Output\n",
        "\n",
        "# Mở file 'myfile.txt' ở chế độ ghi ('w') → nếu chưa có file, Python sẽ tạo mới\n",
        "with open('myfile.txt', 'w') as file:\n",
        "    file.write('Hello World\\nThis is Python File Input Output\\n')\n",
        "    # Ghi nội dung vào file\n",
        "\n",
        "# Mở file 'myfile.txt' ở chế độ đọc ('r')\n",
        "with open('myfile.txt', 'r') as file:\n",
        "    text = file.read()      # Đọc toàn bộ nội dung file vào biến text\n",
        "\n",
        "print(text)                 # In nội dung vừa đọc được\n"
      ],
      "metadata": {
        "colab": {
          "base_uri": "https://localhost:8080/"
        },
        "id": "gyS60hO5Xl6h",
        "outputId": "0256dcb9-9886-45f2-85d0-7e6695b48042"
      },
      "execution_count": 42,
      "outputs": [
        {
          "output_type": "stream",
          "name": "stdout",
          "text": [
            "Hello World\n",
            "This is Python File Input Output\n",
            "\n"
          ]
        }
      ]
    },
    {
      "cell_type": "code",
      "source": [
        "# Python File Input / Output: Tạo và đọc file module\n",
        "\n",
        "filename = 'mymodule.py'\n",
        "\n",
        "# Ghi nội dung vào file\n",
        "with open(filename, 'w') as file:\n",
        "    text = '''def greeting(name):\n",
        "    print(\"Hello, \" + name)\n",
        "'''\n",
        "    file.write(text)    # Ghi nội dung vào file\n",
        "\n",
        "# Đọc lại nội dung file\n",
        "with open(filename, 'r') as file:\n",
        "    text = file.read()  # Đọc toàn bộ nội dung file\n",
        "\n",
        "# In ra tên file và nội dung vừa ghi\n",
        "print(filename)\n",
        "print(text)\n"
      ],
      "metadata": {
        "colab": {
          "base_uri": "https://localhost:8080/"
        },
        "id": "S0U7DapJWiRf",
        "outputId": "27c7b08a-86e4-4a6d-c371-c4e7eef67e47"
      },
      "execution_count": 43,
      "outputs": [
        {
          "output_type": "stream",
          "name": "stdout",
          "text": [
            "mymodule.py\n",
            "def greeting(name):\n",
            "    print(\"Hello, \" + name)\n",
            "\n"
          ]
        }
      ]
    },
    {
      "cell_type": "markdown",
      "source": [
        "**PYTHON main() function**"
      ],
      "metadata": {
        "id": "TJX951-GXxa6"
      }
    },
    {
      "cell_type": "code",
      "source": [
        "# Python main() function\n",
        "\n",
        "def main():                  # Định nghĩa hàm main\n",
        "    print(\"Hello World!\")    # In ra \"Hello World!\"\n",
        "\n",
        "# Kiểm tra xem file này có được chạy trực tiếp không\n",
        "if __name__ == \"__main__\":\n",
        "    main()                   # Gọi hàm main nếu chạy trực tiếp\n"
      ],
      "metadata": {
        "colab": {
          "base_uri": "https://localhost:8080/"
        },
        "id": "iH2SmEtoXtdH",
        "outputId": "ad038394-b179-4a09-daf0-ec78aa7b6f1e"
      },
      "execution_count": 44,
      "outputs": [
        {
          "output_type": "stream",
          "name": "stdout",
          "text": [
            "Hello World!\n"
          ]
        }
      ]
    },
    {
      "cell_type": "markdown",
      "source": [
        "# **FILES AND EXCEPTION HANDLING**"
      ],
      "metadata": {
        "id": "RE7iBP9lYyQg"
      }
    },
    {
      "cell_type": "markdown",
      "source": [
        "**PYTHON FILES (FILE HANDLING)**"
      ],
      "metadata": {
        "id": "imF3_F6GY4i_"
      }
    },
    {
      "cell_type": "code",
      "source": [
        "# Python File Input / Output (cách mở và đóng file thủ công)\n",
        "\n",
        "# Mở file 'myfile.txt' ở chế độ ghi ('w')\n",
        "f = open(\"myfile.txt\", \"w\")\n",
        "f.write(\"Hello World\")  # Ghi nội dung vào file\n",
        "f.close()               # Đóng file sau khi ghi\n",
        "\n",
        "# Mở file 'myfile.txt' ở chế độ đọc ('r')\n",
        "f = open(\"myfile.txt\", \"r\")\n",
        "text = f.read()         # Đọc toàn bộ nội dung file\n",
        "print(text)             # In ra nội dung vừa đọc\n",
        "f.close()               # Đóng file sau khi đọc\n"
      ],
      "metadata": {
        "colab": {
          "base_uri": "https://localhost:8080/"
        },
        "id": "Gi_uo-kvX77N",
        "outputId": "f383b13f-2c53-419e-b3f2-6ab29ef8f52f"
      },
      "execution_count": 45,
      "outputs": [
        {
          "output_type": "stream",
          "name": "stdout",
          "text": [
            "Hello World\n"
          ]
        }
      ]
    },
    {
      "cell_type": "code",
      "source": [
        "# Python File Input / Output (dùng with → tự động đóng file)\n",
        "\n",
        "# Mở file 'myfile.txt' ở chế độ ghi ('w'), Python tự tạo file nếu chưa có\n",
        "with open('myfile.txt', 'w') as file:\n",
        "    file.write('Hello World')    # Ghi nội dung vào file\n",
        "\n",
        "# Mở file 'myfile.txt' ở chế độ đọc ('r')\n",
        "with open('myfile.txt', 'r') as file:\n",
        "    text = file.read()           # Đọc toàn bộ nội dung file\n",
        "\n",
        "print(text)                      # In nội dung vừa đọc\n"
      ],
      "metadata": {
        "colab": {
          "base_uri": "https://localhost:8080/"
        },
        "id": "r-EGBKkYZEBK",
        "outputId": "25fa3269-321d-4aee-8a8b-bb245d881393"
      },
      "execution_count": 46,
      "outputs": [
        {
          "output_type": "stream",
          "name": "stdout",
          "text": [
            "Hello World\n"
          ]
        }
      ]
    },
    {
      "cell_type": "code",
      "source": [
        "# Python File Input / Output với nhiều dòng\n",
        "\n",
        "# Mở file 'myfile.txt' ở chế độ ghi ('w')\n",
        "with open('myfile.txt', 'w') as file:\n",
        "    file.write('Hello World\\nPython File IO')  # Ghi 2 dòng vào file\n",
        "\n",
        "# Mở file 'myfile.txt' ở chế độ đọc ('r')\n",
        "with open('myfile.txt', 'r') as file:\n",
        "    text = file.read()       # Đọc toàn bộ nội dung file\n",
        "\n",
        "print(text)                  # In nội dung vừa đọc\n"
      ],
      "metadata": {
        "colab": {
          "base_uri": "https://localhost:8080/"
        },
        "id": "BqbVC-4MZJhD",
        "outputId": "c7285061-074f-4c57-a898-edaeb2240b91"
      },
      "execution_count": 47,
      "outputs": [
        {
          "output_type": "stream",
          "name": "stdout",
          "text": [
            "Hello World\n",
            "Python File IO\n"
          ]
        }
      ]
    },
    {
      "cell_type": "code",
      "source": [
        "# Python File Input / Output: append (thêm vào cuối file)\n",
        "\n",
        "# Mở file 'myfile.txt' ở chế độ 'a+' → ghi thêm dữ liệu và đọc được\n",
        "with open('myfile.txt', 'a+') as file:\n",
        "    file.write('\\n' + 'New line')   # Thêm dòng mới vào cuối file\n",
        "\n",
        "# Mở file 'myfile.txt' ở chế độ đọc ('r')\n",
        "with open('myfile.txt', 'r') as file:\n",
        "    text = file.read()               # Đọc toàn bộ nội dung file\n",
        "\n",
        "print(text)                          # In nội dung vừa đọc\n"
      ],
      "metadata": {
        "colab": {
          "base_uri": "https://localhost:8080/"
        },
        "id": "Smo22n1UZON6",
        "outputId": "376ffd6c-1fef-4e68-c4ed-4d0467a95f0d"
      },
      "execution_count": 48,
      "outputs": [
        {
          "output_type": "stream",
          "name": "stdout",
          "text": [
            "Hello World\n",
            "Python File IO\n",
            "New line\n"
          ]
        }
      ]
    },
    {
      "cell_type": "code",
      "source": [
        "# !ls → liệt kê file trong thư mục hiện tại\n",
        "!ls\n"
      ],
      "metadata": {
        "colab": {
          "base_uri": "https://localhost:8080/"
        },
        "id": "U-QcATlkZTKk",
        "outputId": "6173ad24-720b-4103-ae71-da838616d151"
      },
      "execution_count": 49,
      "outputs": [
        {
          "output_type": "stream",
          "name": "stdout",
          "text": [
            "myfile.txt  mymodule.py  __pycache__  sample_data\n"
          ]
        }
      ]
    },
    {
      "cell_type": "markdown",
      "source": [
        "**PYTHON OS, IO, FILES, AND GOOGLE DRIVE**"
      ],
      "metadata": {
        "id": "b0vfdMFeZgtF"
      }
    },
    {
      "cell_type": "code",
      "source": [
        "import os   # Import module os để thao tác với hệ thống file\n",
        "\n",
        "cwd = os.getcwd()  # Lấy đường dẫn thư mục hiện tại (current working directory)\n",
        "print(cwd)         # In ra đường dẫn\n"
      ],
      "metadata": {
        "colab": {
          "base_uri": "https://localhost:8080/"
        },
        "id": "wvh6xLjoZsS2",
        "outputId": "b0b9c935-cb33-48da-f3e1-436105b587ac"
      },
      "execution_count": 50,
      "outputs": [
        {
          "output_type": "stream",
          "name": "stdout",
          "text": [
            "/content\n"
          ]
        }
      ]
    },
    {
      "cell_type": "markdown",
      "source": [
        "`os.listdir()`"
      ],
      "metadata": {
        "id": "p_bnpNWWZwK6"
      }
    },
    {
      "cell_type": "code",
      "source": [
        "os.listdir(cwd)  # Liệt kê tất cả file và thư mục trong cwd"
      ],
      "metadata": {
        "colab": {
          "base_uri": "https://localhost:8080/"
        },
        "id": "owv0Oe_1ZcBk",
        "outputId": "7a1d78a8-ac6a-4027-b08c-468f56a895d1"
      },
      "execution_count": 51,
      "outputs": [
        {
          "output_type": "execute_result",
          "data": {
            "text/plain": [
              "['.config', 'mymodule.py', 'myfile.txt', '__pycache__', 'sample_data']"
            ]
          },
          "metadata": {},
          "execution_count": 51
        }
      ]
    },
    {
      "cell_type": "markdown",
      "source": [
        "`os.path.join()`"
      ],
      "metadata": {
        "id": "FwTvr8ZjZ9Hg"
      }
    },
    {
      "cell_type": "code",
      "source": [
        "import os\n",
        "\n",
        "cwd = os.getcwd()                        # Lấy thư mục hiện tại\n",
        "path = os.path.join(cwd, 'sample_data')  # Kết hợp đường dẫn tới thư mục con 'sample_data'\n",
        "\n",
        "print(path)                              # In đường dẫn đầy đủ\n",
        "print(os.listdir(path))                   # Liệt kê tất cả file trong 'sample_data'\n"
      ],
      "metadata": {
        "colab": {
          "base_uri": "https://localhost:8080/"
        },
        "id": "8owXwXIUZ6im",
        "outputId": "4324b33b-446b-4c7c-9f71-f8e982fad0dc"
      },
      "execution_count": 52,
      "outputs": [
        {
          "output_type": "stream",
          "name": "stdout",
          "text": [
            "/content/sample_data\n",
            "['anscombe.json', 'README.md', 'california_housing_test.csv', 'mnist_test.csv', 'mnist_train_small.csv', 'california_housing_train.csv']\n"
          ]
        }
      ]
    },
    {
      "cell_type": "markdown",
      "source": [
        "`from google.colab import files`"
      ],
      "metadata": {
        "id": "9Zid96QhaIfX"
      }
    },
    {
      "cell_type": "code",
      "source": [
        "# Google Colab: Tạo file và tải về máy local\n",
        "\n",
        "from google.colab import files\n",
        "import time\n",
        "\n",
        "# Ghi nội dung vào file 'io_file_myday.txt'\n",
        "with open('io_file_myday.txt', 'w') as f:\n",
        "    f.write('Google Colab File Write Text some content Myday')\n",
        "\n",
        "# Tạm dừng 1 giây\n",
        "time.sleep(1)\n",
        "\n",
        "# Tải file vừa tạo về máy local\n",
        "files.download('io_file_myday.txt')\n",
        "print('downloaded')\n"
      ],
      "metadata": {
        "colab": {
          "base_uri": "https://localhost:8080/",
          "height": 35
        },
        "id": "EwZ1n1RAaGDq",
        "outputId": "95951576-9be2-41df-92c3-932de257eb95"
      },
      "execution_count": 53,
      "outputs": [
        {
          "output_type": "display_data",
          "data": {
            "text/plain": [
              "<IPython.core.display.Javascript object>"
            ],
            "application/javascript": [
              "\n",
              "    async function download(id, filename, size) {\n",
              "      if (!google.colab.kernel.accessAllowed) {\n",
              "        return;\n",
              "      }\n",
              "      const div = document.createElement('div');\n",
              "      const label = document.createElement('label');\n",
              "      label.textContent = `Downloading \"${filename}\": `;\n",
              "      div.appendChild(label);\n",
              "      const progress = document.createElement('progress');\n",
              "      progress.max = size;\n",
              "      div.appendChild(progress);\n",
              "      document.body.appendChild(div);\n",
              "\n",
              "      const buffers = [];\n",
              "      let downloaded = 0;\n",
              "\n",
              "      const channel = await google.colab.kernel.comms.open(id);\n",
              "      // Send a message to notify the kernel that we're ready.\n",
              "      channel.send({})\n",
              "\n",
              "      for await (const message of channel.messages) {\n",
              "        // Send a message to notify the kernel that we're ready.\n",
              "        channel.send({})\n",
              "        if (message.buffers) {\n",
              "          for (const buffer of message.buffers) {\n",
              "            buffers.push(buffer);\n",
              "            downloaded += buffer.byteLength;\n",
              "            progress.value = downloaded;\n",
              "          }\n",
              "        }\n",
              "      }\n",
              "      const blob = new Blob(buffers, {type: 'application/binary'});\n",
              "      const a = document.createElement('a');\n",
              "      a.href = window.URL.createObjectURL(blob);\n",
              "      a.download = filename;\n",
              "      div.appendChild(a);\n",
              "      a.click();\n",
              "      div.remove();\n",
              "    }\n",
              "  "
            ]
          },
          "metadata": {}
        },
        {
          "output_type": "display_data",
          "data": {
            "text/plain": [
              "<IPython.core.display.Javascript object>"
            ],
            "application/javascript": [
              "download(\"download_8fee7420-dec3-4c5e-babe-d88da48cbae9\", \"io_file_myday.txt\", 47)"
            ]
          },
          "metadata": {}
        },
        {
          "output_type": "stream",
          "name": "stdout",
          "text": [
            "downloaded\n"
          ]
        }
      ]
    },
    {
      "cell_type": "code",
      "source": [
        "# Google Colab: Tải file từ máy local lên Colab\n",
        "from google.colab import files\n",
        "\n",
        "# Mở popup để user chọn file tải lên\n",
        "uploaded = files.upload()\n",
        "\n",
        "# Lặp qua các file vừa tải lên và in thông tin\n",
        "for fn in uploaded.keys():\n",
        "    print('User uploaded file \"{name}\" with length {length} bytes'.format(\n",
        "        name=fn, length=len(uploaded[fn])\n",
        "    ))\n"
      ],
      "metadata": {
        "colab": {
          "base_uri": "https://localhost:8080/",
          "height": 91
        },
        "id": "MVBX-xuSaVce",
        "outputId": "6d370e7d-1951-4694-e58f-4274c9d45366"
      },
      "execution_count": 55,
      "outputs": [
        {
          "output_type": "display_data",
          "data": {
            "text/plain": [
              "<IPython.core.display.HTML object>"
            ],
            "text/html": [
              "\n",
              "     <input type=\"file\" id=\"files-683ef8b2-c0e1-4cc9-b472-e9389aa268eb\" name=\"files[]\" multiple disabled\n",
              "        style=\"border:none\" />\n",
              "     <output id=\"result-683ef8b2-c0e1-4cc9-b472-e9389aa268eb\">\n",
              "      Upload widget is only available when the cell has been executed in the\n",
              "      current browser session. Please rerun this cell to enable.\n",
              "      </output>\n",
              "      <script>// Copyright 2017 Google LLC\n",
              "//\n",
              "// Licensed under the Apache License, Version 2.0 (the \"License\");\n",
              "// you may not use this file except in compliance with the License.\n",
              "// You may obtain a copy of the License at\n",
              "//\n",
              "//      http://www.apache.org/licenses/LICENSE-2.0\n",
              "//\n",
              "// Unless required by applicable law or agreed to in writing, software\n",
              "// distributed under the License is distributed on an \"AS IS\" BASIS,\n",
              "// WITHOUT WARRANTIES OR CONDITIONS OF ANY KIND, either express or implied.\n",
              "// See the License for the specific language governing permissions and\n",
              "// limitations under the License.\n",
              "\n",
              "/**\n",
              " * @fileoverview Helpers for google.colab Python module.\n",
              " */\n",
              "(function(scope) {\n",
              "function span(text, styleAttributes = {}) {\n",
              "  const element = document.createElement('span');\n",
              "  element.textContent = text;\n",
              "  for (const key of Object.keys(styleAttributes)) {\n",
              "    element.style[key] = styleAttributes[key];\n",
              "  }\n",
              "  return element;\n",
              "}\n",
              "\n",
              "// Max number of bytes which will be uploaded at a time.\n",
              "const MAX_PAYLOAD_SIZE = 100 * 1024;\n",
              "\n",
              "function _uploadFiles(inputId, outputId) {\n",
              "  const steps = uploadFilesStep(inputId, outputId);\n",
              "  const outputElement = document.getElementById(outputId);\n",
              "  // Cache steps on the outputElement to make it available for the next call\n",
              "  // to uploadFilesContinue from Python.\n",
              "  outputElement.steps = steps;\n",
              "\n",
              "  return _uploadFilesContinue(outputId);\n",
              "}\n",
              "\n",
              "// This is roughly an async generator (not supported in the browser yet),\n",
              "// where there are multiple asynchronous steps and the Python side is going\n",
              "// to poll for completion of each step.\n",
              "// This uses a Promise to block the python side on completion of each step,\n",
              "// then passes the result of the previous step as the input to the next step.\n",
              "function _uploadFilesContinue(outputId) {\n",
              "  const outputElement = document.getElementById(outputId);\n",
              "  const steps = outputElement.steps;\n",
              "\n",
              "  const next = steps.next(outputElement.lastPromiseValue);\n",
              "  return Promise.resolve(next.value.promise).then((value) => {\n",
              "    // Cache the last promise value to make it available to the next\n",
              "    // step of the generator.\n",
              "    outputElement.lastPromiseValue = value;\n",
              "    return next.value.response;\n",
              "  });\n",
              "}\n",
              "\n",
              "/**\n",
              " * Generator function which is called between each async step of the upload\n",
              " * process.\n",
              " * @param {string} inputId Element ID of the input file picker element.\n",
              " * @param {string} outputId Element ID of the output display.\n",
              " * @return {!Iterable<!Object>} Iterable of next steps.\n",
              " */\n",
              "function* uploadFilesStep(inputId, outputId) {\n",
              "  const inputElement = document.getElementById(inputId);\n",
              "  inputElement.disabled = false;\n",
              "\n",
              "  const outputElement = document.getElementById(outputId);\n",
              "  outputElement.innerHTML = '';\n",
              "\n",
              "  const pickedPromise = new Promise((resolve) => {\n",
              "    inputElement.addEventListener('change', (e) => {\n",
              "      resolve(e.target.files);\n",
              "    });\n",
              "  });\n",
              "\n",
              "  const cancel = document.createElement('button');\n",
              "  inputElement.parentElement.appendChild(cancel);\n",
              "  cancel.textContent = 'Cancel upload';\n",
              "  const cancelPromise = new Promise((resolve) => {\n",
              "    cancel.onclick = () => {\n",
              "      resolve(null);\n",
              "    };\n",
              "  });\n",
              "\n",
              "  // Wait for the user to pick the files.\n",
              "  const files = yield {\n",
              "    promise: Promise.race([pickedPromise, cancelPromise]),\n",
              "    response: {\n",
              "      action: 'starting',\n",
              "    }\n",
              "  };\n",
              "\n",
              "  cancel.remove();\n",
              "\n",
              "  // Disable the input element since further picks are not allowed.\n",
              "  inputElement.disabled = true;\n",
              "\n",
              "  if (!files) {\n",
              "    return {\n",
              "      response: {\n",
              "        action: 'complete',\n",
              "      }\n",
              "    };\n",
              "  }\n",
              "\n",
              "  for (const file of files) {\n",
              "    const li = document.createElement('li');\n",
              "    li.append(span(file.name, {fontWeight: 'bold'}));\n",
              "    li.append(span(\n",
              "        `(${file.type || 'n/a'}) - ${file.size} bytes, ` +\n",
              "        `last modified: ${\n",
              "            file.lastModifiedDate ? file.lastModifiedDate.toLocaleDateString() :\n",
              "                                    'n/a'} - `));\n",
              "    const percent = span('0% done');\n",
              "    li.appendChild(percent);\n",
              "\n",
              "    outputElement.appendChild(li);\n",
              "\n",
              "    const fileDataPromise = new Promise((resolve) => {\n",
              "      const reader = new FileReader();\n",
              "      reader.onload = (e) => {\n",
              "        resolve(e.target.result);\n",
              "      };\n",
              "      reader.readAsArrayBuffer(file);\n",
              "    });\n",
              "    // Wait for the data to be ready.\n",
              "    let fileData = yield {\n",
              "      promise: fileDataPromise,\n",
              "      response: {\n",
              "        action: 'continue',\n",
              "      }\n",
              "    };\n",
              "\n",
              "    // Use a chunked sending to avoid message size limits. See b/62115660.\n",
              "    let position = 0;\n",
              "    do {\n",
              "      const length = Math.min(fileData.byteLength - position, MAX_PAYLOAD_SIZE);\n",
              "      const chunk = new Uint8Array(fileData, position, length);\n",
              "      position += length;\n",
              "\n",
              "      const base64 = btoa(String.fromCharCode.apply(null, chunk));\n",
              "      yield {\n",
              "        response: {\n",
              "          action: 'append',\n",
              "          file: file.name,\n",
              "          data: base64,\n",
              "        },\n",
              "      };\n",
              "\n",
              "      let percentDone = fileData.byteLength === 0 ?\n",
              "          100 :\n",
              "          Math.round((position / fileData.byteLength) * 100);\n",
              "      percent.textContent = `${percentDone}% done`;\n",
              "\n",
              "    } while (position < fileData.byteLength);\n",
              "  }\n",
              "\n",
              "  // All done.\n",
              "  yield {\n",
              "    response: {\n",
              "      action: 'complete',\n",
              "    }\n",
              "  };\n",
              "}\n",
              "\n",
              "scope.google = scope.google || {};\n",
              "scope.google.colab = scope.google.colab || {};\n",
              "scope.google.colab._files = {\n",
              "  _uploadFiles,\n",
              "  _uploadFilesContinue,\n",
              "};\n",
              "})(self);\n",
              "</script> "
            ]
          },
          "metadata": {}
        },
        {
          "output_type": "stream",
          "name": "stdout",
          "text": [
            "Saving io_file_myday.txt to io_file_myday (1).txt\n",
            "User uploaded file \"io_file_myday (1).txt\" with length 47 bytes\n"
          ]
        }
      ]
    },
    {
      "cell_type": "markdown",
      "source": [
        "`os.remove()`"
      ],
      "metadata": {
        "id": "0B_Dt72Faub3"
      }
    },
    {
      "cell_type": "code",
      "source": [
        "# Python: Kiểm tra và xóa file nếu tồn tại\n",
        "import os\n",
        "\n",
        "if os.path.exists(\"myfile.txt\"):   # Kiểm tra xem file có tồn tại không\n",
        "    os.remove(\"myfile.txt\")        # Xóa file\n",
        "    print(\"myfile.txt removed\")    # Thông báo đã xóa\n",
        "else:\n",
        "    print(\"The file does not exist\")  # Thông báo file không tồn tại\n"
      ],
      "metadata": {
        "colab": {
          "base_uri": "https://localhost:8080/"
        },
        "id": "rd06oVCMah5f",
        "outputId": "959fc348-7391-483d-fadd-2c43681147cf"
      },
      "execution_count": 56,
      "outputs": [
        {
          "output_type": "stream",
          "name": "stdout",
          "text": [
            "myfile.txt removed\n"
          ]
        }
      ]
    },
    {
      "cell_type": "markdown",
      "source": [
        "`os.mkdir(\"myfolder1\")`\n",
        "\n",
        "`os.rmdir(\"myfolder1\")`\n",
        "\n"
      ],
      "metadata": {
        "id": "IL6JH5UJa1mr"
      }
    },
    {
      "cell_type": "code",
      "source": [
        "# Python: Tạo và xóa thư mục, liệt kê file\n",
        "import os\n",
        "\n",
        "# Liệt kê tất cả file và thư mục trong thư mục hiện tại\n",
        "print(\"Trước khi tạo folder:\", os.listdir())\n",
        "\n",
        "# Tạo thư mục mới tên \"myfolder1\"\n",
        "os.mkdir(\"myfolder1\")\n",
        "print(\"Sau khi tạo folder:\", os.listdir())\n",
        "\n",
        "# Xóa thư mục \"myfolder1\"\n",
        "os.rmdir(\"myfolder1\")\n",
        "print(\"Sau khi xóa folder:\", os.listdir())\n"
      ],
      "metadata": {
        "colab": {
          "base_uri": "https://localhost:8080/"
        },
        "id": "17CoXrYyazgc",
        "outputId": "5c893174-7dd3-41d6-98f8-ec730f3ed372"
      },
      "execution_count": 57,
      "outputs": [
        {
          "output_type": "stream",
          "name": "stdout",
          "text": [
            "Trước khi tạo folder: ['.config', 'mymodule.py', 'io_file_myday (1).txt', '__pycache__', 'io_file_myday.txt', 'sample_data']\n",
            "Sau khi tạo folder: ['.config', 'mymodule.py', 'myfolder1', 'io_file_myday (1).txt', '__pycache__', 'io_file_myday.txt', 'sample_data']\n",
            "Sau khi xóa folder: ['.config', 'mymodule.py', 'io_file_myday (1).txt', '__pycache__', 'io_file_myday.txt', 'sample_data']\n"
          ]
        }
      ]
    },
    {
      "cell_type": "markdown",
      "source": [
        "**PYTHON TRY EXCEPT (EXCEPTION HANDLING)**"
      ],
      "metadata": {
        "id": "y5KMTnSgbuKY"
      }
    },
    {
      "cell_type": "markdown",
      "source": [
        "`try: except:`"
      ],
      "metadata": {
        "id": "cTZNgqL8b2-a"
      }
    },
    {
      "cell_type": "code",
      "source": [
        "# Python: Xử lý lỗi với try...except\n",
        "\n",
        "try:\n",
        "    print(x)          # Thử in biến x (có thể chưa được định nghĩa)\n",
        "except:\n",
        "    print(\"Exception Error\")   # Nếu có lỗi xảy ra, in thông báo lỗi\n"
      ],
      "metadata": {
        "id": "CaZZi4pJbmK8",
        "outputId": "5f79590f-d337-4e4e-a8e1-55283aacbb08",
        "colab": {
          "base_uri": "https://localhost:8080/"
        }
      },
      "execution_count": 58,
      "outputs": [
        {
          "output_type": "stream",
          "name": "stdout",
          "text": [
            "(10, 20, 30, 40, 50)\n"
          ]
        }
      ]
    },
    {
      "cell_type": "markdown",
      "source": [
        "`try: except: finally:`"
      ],
      "metadata": {
        "id": "W6U8o54xcCvh"
      }
    },
    {
      "cell_type": "code",
      "source": [
        "# Python: Xử lý lỗi với try...except...finally\n",
        "\n",
        "try:\n",
        "    print(\"Hello\")         # Khối lệnh có thể gây lỗi\n",
        "except:\n",
        "    print(\"Exception Error\")   # Xử lý lỗi nếu xảy ra\n",
        "finally:\n",
        "    print(\"Finally process\")   # Luôn chạy sau try/except, dùng để dọn dẹp\n"
      ],
      "metadata": {
        "id": "RCf-_QGsb_CT",
        "outputId": "d2c03fc2-4097-431e-b318-9a5a80a37351",
        "colab": {
          "base_uri": "https://localhost:8080/"
        }
      },
      "execution_count": 59,
      "outputs": [
        {
          "output_type": "stream",
          "name": "stdout",
          "text": [
            "Hello\n",
            "Finally process\n"
          ]
        }
      ]
    },
    {
      "cell_type": "markdown",
      "source": [
        "`try: except: else:`"
      ],
      "metadata": {
        "id": "D-Ea1Sq1cMwz"
      }
    },
    {
      "cell_type": "code",
      "source": [
        "# Python: Xử lý lỗi với try...except...else\n",
        "\n",
        "try:\n",
        "    print(\"Hello\")            # Khối lệnh có thể gây lỗi\n",
        "except:\n",
        "    print(\"Exception Error\")  # Xử lý nếu có lỗi xảy ra\n",
        "else:\n",
        "    print(\"No exception\")     # Chạy nếu không có lỗi trong try\n"
      ],
      "metadata": {
        "id": "NVU8YtqUcK6z",
        "outputId": "563e785f-d8ed-461b-cf7c-a68079a224bc",
        "colab": {
          "base_uri": "https://localhost:8080/"
        }
      },
      "execution_count": 60,
      "outputs": [
        {
          "output_type": "stream",
          "name": "stdout",
          "text": [
            "Hello\n",
            "No exception\n"
          ]
        }
      ]
    },
    {
      "cell_type": "markdown",
      "source": [
        "`try: except: else: finally:`"
      ],
      "metadata": {
        "id": "PBzyMzHacfJG"
      }
    },
    {
      "cell_type": "code",
      "source": [
        "# Python: try...except...else...finally\n",
        "\n",
        "try:\n",
        "    print(\"Hello\")            # Khối lệnh có thể gây lỗi\n",
        "except:\n",
        "    print(\"Exception Error\")  # Chạy nếu có lỗi\n",
        "else:\n",
        "    print(\"No exception\")     # Chạy nếu không có lỗi\n",
        "finally:\n",
        "    print(\"Finally process\")  # Luôn chạy, bất kể lỗi hay không\n"
      ],
      "metadata": {
        "id": "EVg4DxfLcdPW",
        "outputId": "8274e568-d798-41cf-aff0-9f5c230a9f5a",
        "colab": {
          "base_uri": "https://localhost:8080/"
        }
      },
      "execution_count": 61,
      "outputs": [
        {
          "output_type": "stream",
          "name": "stdout",
          "text": [
            "Hello\n",
            "No exception\n",
            "Finally process\n"
          ]
        }
      ]
    },
    {
      "cell_type": "code",
      "source": [
        "# Python: try...except...else...finally với input\n",
        "\n",
        "try:\n",
        "    price = float(input(\"Enter the price of the stock (e.g. 10): \"))\n",
        "    shares = int(input(\"Enter the number of shares (e.g. 2): \"))\n",
        "    total = price * shares           # Tính tổng giá trị\n",
        "except Exception as e:\n",
        "    print(\"Exception error:\", str(e))  # Xử lý lỗi nếu input không hợp lệ\n",
        "else:\n",
        "    print(\"The total value of the shares is:\", total)  # Chạy nếu không có lỗi\n",
        "finally:\n",
        "    print(\"Thank you.\")             # Luôn chạy, dùng để kết thúc\n"
      ],
      "metadata": {
        "id": "vJSJWF3Ecrai",
        "outputId": "77f3b198-a394-495a-dec2-4a9c6c6ba705",
        "colab": {
          "base_uri": "https://localhost:8080/"
        }
      },
      "execution_count": 62,
      "outputs": [
        {
          "output_type": "stream",
          "name": "stdout",
          "text": [
            "Enter the price of the stock (e.g. 10): 15\n",
            "Enter the number of shares (e.g. 2): 4\n",
            "The total value of the shares is: 60.0\n",
            "Thank you.\n"
          ]
        }
      ]
    },
    {
      "cell_type": "code",
      "source": [
        "# Python: Xử lý lỗi khi ghi file bằng try...except\n",
        "\n",
        "try:\n",
        "    file = open(\"myfile.txt\", \"r\")  # Mở file ở chế độ đọc\n",
        "    file.write(\"Python write file\")  # Thử ghi dữ liệu (sẽ lỗi)\n",
        "    print(\"file saved\")\n",
        "except:\n",
        "    print(\"Exception file Error\")    # Bắt lỗi nếu file không ghi được\n"
      ],
      "metadata": {
        "id": "ZuA_JNypc17L",
        "outputId": "3a5bde06-354d-4a4f-da3e-64e58a0e9f75",
        "colab": {
          "base_uri": "https://localhost:8080/"
        }
      },
      "execution_count": 63,
      "outputs": [
        {
          "output_type": "stream",
          "name": "stdout",
          "text": [
            "Exception file Error\n"
          ]
        }
      ]
    },
    {
      "cell_type": "code",
      "source": [
        "# Python: try...except...finally khi ghi file\n",
        "\n",
        "try:\n",
        "    file = open(\"myfile.txt\")          # Mở file ở chế độ đọc (mặc định 'r')\n",
        "    file.write(\"Python write file\")    # Thử ghi dữ liệu → sẽ lỗi\n",
        "    print(\"file saved\")\n",
        "except:\n",
        "    print(\"Exception file Error\")      # Bắt lỗi nếu ghi file thất bại\n",
        "finally:\n",
        "    file.close()                       # Luôn đóng file\n",
        "    print(\"Finally process\")           # Thông báo hoàn tất\n"
      ],
      "metadata": {
        "id": "BJx4JqkLe_cZ",
        "outputId": "b976af5f-1908-418e-a2a7-db87eff7b3be",
        "colab": {
          "base_uri": "https://localhost:8080/"
        }
      },
      "execution_count": 64,
      "outputs": [
        {
          "output_type": "stream",
          "name": "stdout",
          "text": [
            "Exception file Error\n",
            "Finally process\n"
          ]
        }
      ]
    },
    {
      "cell_type": "code",
      "source": [
        "# Python: try...except...finally khi ghi file\n",
        "\n",
        "try:\n",
        "    file = open(\"myfile.txt\", 'w')      # Mở file ở chế độ ghi\n",
        "    file.write(\"Python write file\")     # Ghi dữ liệu vào file\n",
        "    print(\"file saved\")\n",
        "except:\n",
        "    print(\"Exception file Error\")       # Xử lý nếu có lỗi xảy ra\n",
        "finally:\n",
        "    file.close()                        # Luôn đóng file\n",
        "    print(\"Finally process\")            # Thông báo hoàn tất\n"
      ],
      "metadata": {
        "id": "Y-91g6tJfE1c",
        "outputId": "d09fe994-cf9f-4381-ab43-b95306928376",
        "colab": {
          "base_uri": "https://localhost:8080/"
        }
      },
      "execution_count": 65,
      "outputs": [
        {
          "output_type": "stream",
          "name": "stdout",
          "text": [
            "file saved\n",
            "Finally process\n"
          ]
        }
      ]
    },
    {
      "cell_type": "code",
      "source": [],
      "metadata": {
        "id": "Bwf7T30YfLWx"
      },
      "execution_count": null,
      "outputs": []
    }
  ]
}
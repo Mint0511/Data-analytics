{
  "nbformat": 4,
  "nbformat_minor": 0,
  "metadata": {
    "colab": {
      "provenance": [],
      "authorship_tag": "ABX9TyNKY5MR3D4BWSxLO45sort2",
      "include_colab_link": true
    },
    "kernelspec": {
      "name": "python3",
      "display_name": "Python 3"
    },
    "language_info": {
      "name": "python"
    }
  },
  "cells": [
    {
      "cell_type": "markdown",
      "metadata": {
        "id": "view-in-github",
        "colab_type": "text"
      },
      "source": [
        "<a href=\"https://colab.research.google.com/github/Mint0511/Data-analytics/blob/main/lab2_NguyenVanMinh_3122410242%20/%20slide_thamkhao_code.ipynb\" target=\"_parent\"><img src=\"https://colab.research.google.com/assets/colab-badge.svg\" alt=\"Open In Colab\"/></a>"
      ]
    },
    {
      "cell_type": "markdown",
      "source": [
        "# **NGÔN NGỮ PYTHON**"
      ],
      "metadata": {
        "id": "K7MBkJpD5SxB"
      }
    },
    {
      "cell_type": "markdown",
      "source": [
        "# **NHẬP VÀ XUẤT DỮ LIỆU**"
      ],
      "metadata": {
        "id": "oC7VqPwj5kNx"
      }
    },
    {
      "cell_type": "markdown",
      "source": [
        "*Sử dụng hàm print để in dữ liệu ra màn hình*"
      ],
      "metadata": {
        "id": "Be8ZSmO95nad"
      }
    },
    {
      "cell_type": "code",
      "execution_count": null,
      "metadata": {
        "id": "N4nKWJGL3Wnf",
        "outputId": "ff0c7be7-7353-4341-e210-4c57bf64fff8",
        "colab": {
          "base_uri": "https://localhost:8080/"
        }
      },
      "outputs": [
        {
          "output_type": "stream",
          "name": "stdout",
          "text": [
            "42\n"
          ]
        }
      ],
      "source": [
        "print(42)"
      ]
    },
    {
      "cell_type": "code",
      "source": [
        "a = 3.564\n",
        "print(\"a = \", a)"
      ],
      "metadata": {
        "id": "JgSaZXfb5x0I",
        "outputId": "22da23c5-0bc8-4df2-f3a5-3cb4c1b741c2",
        "colab": {
          "base_uri": "https://localhost:8080/"
        }
      },
      "execution_count": null,
      "outputs": [
        {
          "output_type": "stream",
          "name": "stdout",
          "text": [
            "a =  3.564\n"
          ]
        }
      ]
    },
    {
      "cell_type": "code",
      "source": [
        "print(\"a = \\n\", a)"
      ],
      "metadata": {
        "id": "bR_snkqy50SZ",
        "outputId": "44015737-e402-4703-8690-a869e5b57202",
        "colab": {
          "base_uri": "https://localhost:8080/"
        }
      },
      "execution_count": null,
      "outputs": [
        {
          "output_type": "stream",
          "name": "stdout",
          "text": [
            "a = \n",
            " 3.564\n"
          ]
        }
      ]
    },
    {
      "cell_type": "code",
      "source": [
        "print(\"a\",\"b\")"
      ],
      "metadata": {
        "id": "cz_ruX8q6BO9",
        "outputId": "ba76e00d-dd47-40a4-9f02-c0b35c458f4b",
        "colab": {
          "base_uri": "https://localhost:8080/"
        }
      },
      "execution_count": null,
      "outputs": [
        {
          "output_type": "stream",
          "name": "stdout",
          "text": [
            "a b\n"
          ]
        }
      ]
    },
    {
      "cell_type": "code",
      "source": [
        "print(\"a\",\"b\",sep=\"\")"
      ],
      "metadata": {
        "id": "FcS4mLZz6He2",
        "outputId": "f32d0e43-9387-4b36-e943-fa4f8f35616e",
        "colab": {
          "base_uri": "https://localhost:8080/"
        }
      },
      "execution_count": null,
      "outputs": [
        {
          "output_type": "stream",
          "name": "stdout",
          "text": [
            "ab\n"
          ]
        }
      ]
    },
    {
      "cell_type": "code",
      "source": [
        "print(192,168,178,42,sep=\".\")"
      ],
      "metadata": {
        "id": "xaoIQ8NI6JmA",
        "outputId": "ae288229-ad1a-4476-8b78-e590a9cb7720",
        "colab": {
          "base_uri": "https://localhost:8080/"
        }
      },
      "execution_count": null,
      "outputs": [
        {
          "output_type": "stream",
          "name": "stdout",
          "text": [
            "192.168.178.42\n"
          ]
        }
      ]
    },
    {
      "cell_type": "code",
      "source": [
        "print(\"a\",\"b\",sep=\":-)\")"
      ],
      "metadata": {
        "id": "UTotAsGF6LVc",
        "outputId": "5f125c41-e2bb-4871-8e48-27bcce93a0b1",
        "colab": {
          "base_uri": "https://localhost:8080/"
        }
      },
      "execution_count": null,
      "outputs": [
        {
          "output_type": "stream",
          "name": "stdout",
          "text": [
            "a:-)b\n"
          ]
        }
      ]
    },
    {
      "cell_type": "markdown",
      "source": [
        "*Sử dụng hàm input để nhập dữ liệu từ bàn phím*"
      ],
      "metadata": {
        "id": "ECfcPofb6Psv"
      }
    },
    {
      "cell_type": "code",
      "source": [
        "name = input(\"What's your name? \")\n",
        "print(\"Nice to meet you \" + name + \"!\")\n",
        "age = input(\"Your age? \")\n",
        "print(\"You are already \" + age + \" years old, \" + name\n",
        "+ \"!\")"
      ],
      "metadata": {
        "id": "wqJBwtWP6NMX",
        "outputId": "f5de1104-882b-46a5-9f08-7ab1b06fd330",
        "colab": {
          "base_uri": "https://localhost:8080/"
        }
      },
      "execution_count": null,
      "outputs": [
        {
          "output_type": "stream",
          "name": "stdout",
          "text": [
            "What's your name? Nam\n",
            "Nice to meet you Nam!\n",
            "Your age? 12\n",
            "You are already 12 years old, Nam!\n"
          ]
        }
      ]
    },
    {
      "cell_type": "markdown",
      "source": [
        "*Có thể kết hợp chuyển kiểu nếu muốn tường minh*"
      ],
      "metadata": {
        "id": "zL3C5zpw6bjr"
      }
    },
    {
      "cell_type": "code",
      "source": [
        "age = int(input(\"Your age? \"))\n",
        "print(\"You are already %d years old!\", age)"
      ],
      "metadata": {
        "id": "62Mpvfnq6WGH",
        "outputId": "4ca3de69-5f47-4736-f0de-5238fded227e",
        "colab": {
          "base_uri": "https://localhost:8080/"
        }
      },
      "execution_count": null,
      "outputs": [
        {
          "output_type": "stream",
          "name": "stdout",
          "text": [
            "Your age? 12\n",
            "You are already %d years old! 12\n"
          ]
        }
      ]
    },
    {
      "cell_type": "markdown",
      "source": [
        "*Giải phương trình bậc 2*"
      ],
      "metadata": {
        "id": "R3JjDwRZiO4f"
      }
    },
    {
      "cell_type": "code",
      "source": [
        "a = float(input(\"A = \"))\n",
        "b = float(input(\"B = \"))\n",
        "c = float(input(\"C = \"))\n",
        "delta = b*b-4*a*c\n",
        "\n",
        "if delta==0:\n",
        "  print(\"Nghiem kep: x = \", str(-b/2/a))\n",
        "\n",
        "if delta<0:\n",
        "  print(\"Phuong trinh vo nghiem\")\n",
        "\n",
        "if delta>0:\n",
        "  print(\"X1 = \" + str((-b+delta**0.5)/2/a))\n",
        "  print(\"X2 = \" + str((-b-delta**0.5)/2/a))"
      ],
      "metadata": {
        "id": "x8QqqekC6dql",
        "outputId": "9217b2c1-5747-4d54-e1ad-051542454c56",
        "colab": {
          "base_uri": "https://localhost:8080/"
        }
      },
      "execution_count": 2,
      "outputs": [
        {
          "output_type": "stream",
          "name": "stdout",
          "text": [
            "A = 2\n",
            "B = 5\n",
            "C = 8\n",
            "Phuong trinh vo nghiem\n"
          ]
        }
      ]
    },
    {
      "cell_type": "code",
      "source": [],
      "metadata": {
        "id": "kCvsRA4EiUhQ"
      },
      "execution_count": null,
      "outputs": []
    },
    {
      "cell_type": "markdown",
      "source": [
        "# **CẤU TRÚC RẼ NHÁNH**"
      ],
      "metadata": {
        "id": "6jVK033Oiuwi"
      }
    },
    {
      "cell_type": "markdown",
      "source": [
        "**CẤU TRÚC RẼ NHÁNH if - else**"
      ],
      "metadata": {
        "id": "uw7L9V4li1kC"
      }
    },
    {
      "cell_type": "code",
      "source": [
        "name = input(\"What's your name? \")\n",
        "print(\"Nice to meet you \" + name + \"!\")\n",
        "age = int(input(\"Your age? \"))\n",
        "print(\"You are already\", age, \"years old,\",\n",
        "name, \"!\")\n",
        "if age>=18:\n",
        "  print(\"Đủ tuổi đi bầu cử\")\n",
        "if age>100:\n",
        "  print(\"Có vẻ sai sai!\")\n",
        "else:\n",
        "  print(\"Nhỏ quá\")"
      ],
      "metadata": {
        "id": "twUBB-IIjJX_",
        "outputId": "53ba436a-1bd5-41d4-90db-f2064767c5d4",
        "colab": {
          "base_uri": "https://localhost:8080/"
        }
      },
      "execution_count": 3,
      "outputs": [
        {
          "output_type": "stream",
          "name": "stdout",
          "text": [
            "What's your name? Min\n",
            "Nice to meet you Min!\n",
            "Your age? 12\n",
            "You are already 12 years old, Min !\n",
            "Nhỏ quá\n"
          ]
        }
      ]
    },
    {
      "cell_type": "markdown",
      "source": [
        "# **VÒNG LẶP**"
      ],
      "metadata": {
        "id": "T-uEp1HQkGgG"
      }
    },
    {
      "cell_type": "markdown",
      "source": [
        "**VÒNG LẶP for**"
      ],
      "metadata": {
        "id": "kENcQkjTjjij"
      }
    },
    {
      "cell_type": "code",
      "source": [
        "for d in range(10,20): # in các số từ 10 đến 19\n",
        "  print(d)\n",
        "for d in range(20,10,-1):\n",
        "  print(d)"
      ],
      "metadata": {
        "id": "jRTEo8hdjUrK",
        "outputId": "403da30f-42d1-4fbb-c85f-64eef23c9445",
        "colab": {
          "base_uri": "https://localhost:8080/"
        }
      },
      "execution_count": 6,
      "outputs": [
        {
          "output_type": "stream",
          "name": "stdout",
          "text": [
            "10\n",
            "11\n",
            "12\n",
            "13\n",
            "14\n",
            "15\n",
            "16\n",
            "17\n",
            "18\n",
            "19\n",
            "20\n",
            "19\n",
            "18\n",
            "17\n",
            "16\n",
            "15\n",
            "14\n",
            "13\n",
            "12\n",
            "11\n"
          ]
        }
      ]
    },
    {
      "cell_type": "markdown",
      "source": [
        "# **HÀM**"
      ],
      "metadata": {
        "id": "ukIrTSbojyFp"
      }
    },
    {
      "cell_type": "markdown",
      "source": [
        "*Hàm tính tích 2 số*"
      ],
      "metadata": {
        "id": "tiWwC37VkRTX"
      }
    },
    {
      "cell_type": "code",
      "source": [
        "def tich(a, b):\n",
        " return a*b"
      ],
      "metadata": {
        "id": "Lz7hQvedjmlc"
      },
      "execution_count": 7,
      "outputs": []
    },
    {
      "cell_type": "markdown",
      "source": [
        "Hàm trả về kết quả bằng lệnh return, nếu không trả\n",
        "về thì coi như trả về None"
      ],
      "metadata": {
        "id": "withTTMnkZEw"
      }
    },
    {
      "cell_type": "markdown",
      "source": [
        "*Hàm có thể chỉ ra giá trị mặc định của tham số*"
      ],
      "metadata": {
        "id": "JCQfP74Zkc1o"
      }
    },
    {
      "cell_type": "code",
      "source": [
        "def tich(a, b = 1):\n",
        " return a*b"
      ],
      "metadata": {
        "id": "tMUtP1CGkVxq"
      },
      "execution_count": 9,
      "outputs": []
    },
    {
      "cell_type": "markdown",
      "source": [
        "*Như vậy với hàm trên ta có thể gọi thực hiện nó*"
      ],
      "metadata": {
        "id": "Nyjy_QAykhzs"
      }
    },
    {
      "cell_type": "code",
      "source": [
        "print(tich(10, 20)) # 200\n",
        "print(tich(10)) # 10\n",
        "print(tich(a=5)) # 5\n",
        "print(tich(b=6, a=5)) # 30"
      ],
      "metadata": {
        "id": "WIh64kYxkmjT",
        "outputId": "edb27be9-8699-400b-89c0-33550ab16ca0",
        "colab": {
          "base_uri": "https://localhost:8080/"
        }
      },
      "execution_count": 10,
      "outputs": [
        {
          "output_type": "stream",
          "name": "stdout",
          "text": [
            "200\n",
            "10\n",
            "5\n",
            "30\n"
          ]
        }
      ]
    },
    {
      "cell_type": "markdown",
      "source": [
        "# **CHUỖI VÀ DANH SÁCH**"
      ],
      "metadata": {
        "id": "7-dqSG2Pkujp"
      }
    },
    {
      "cell_type": "markdown",
      "source": [
        "# **STRING**"
      ],
      "metadata": {
        "id": "xdBE_wpSk5Q0"
      }
    },
    {
      "cell_type": "markdown",
      "source": [
        "**Kiểu chuỗi**"
      ],
      "metadata": {
        "id": "ORNXvoAyk-AM"
      }
    },
    {
      "cell_type": "code",
      "source": [
        "#Phép nối chuỗi (+):\n",
        "s = \"Good\" + \" \" + \"Morning!\"\n",
        "print(s)"
      ],
      "metadata": {
        "id": "-VEr1oNAktzQ",
        "outputId": "db82a625-a852-4dba-d685-45fd9cff731c",
        "colab": {
          "base_uri": "https://localhost:8080/"
        }
      },
      "execution_count": 14,
      "outputs": [
        {
          "output_type": "stream",
          "name": "stdout",
          "text": [
            "Good Morning!\n"
          ]
        }
      ]
    },
    {
      "cell_type": "code",
      "source": [
        "#Phép nhân bản (*):\n",
        "s = \"AB\" * 3 # số nguyên\n",
        "print(s)"
      ],
      "metadata": {
        "id": "6-1qdhcdkn7N",
        "outputId": "e9b9acd1-d007-48c7-c630-994329deca8c",
        "colab": {
          "base_uri": "https://localhost:8080/"
        }
      },
      "execution_count": 15,
      "outputs": [
        {
          "output_type": "stream",
          "name": "stdout",
          "text": [
            "ABABAB\n"
          ]
        }
      ]
    },
    {
      "cell_type": "code",
      "source": [
        "#Kiểm tra nội dung:\n",
        "s in '1ABABABCD' # True\n",
        "print()"
      ],
      "metadata": {
        "id": "diBYk9EZlOZ9",
        "outputId": "a72ad025-3f61-4ffb-e029-a16fe52d91a2",
        "colab": {
          "base_uri": "https://localhost:8080/"
        }
      },
      "execution_count": 17,
      "outputs": [
        {
          "output_type": "stream",
          "name": "stdout",
          "text": [
            "\n"
          ]
        }
      ]
    },
    {
      "cell_type": "markdown",
      "source": [
        "**Cắt chuỗi**"
      ],
      "metadata": {
        "id": "dxHjvd2QllwH"
      }
    },
    {
      "cell_type": "code",
      "source": [
        "s = '0123456789'\n",
        "\n",
        "print(s[3:6])        # 345\n",
        "print(s[3:])         # 3456789\n",
        "print(s[:6])         # 012345\n",
        "print(s[-7:-4])      # 345\n",
        "print(s[-4:-7])      #\n",
        "print(s[-4:-7:-1])   # 654\n",
        "print(s[:len(s)])    # 0123456789\n",
        "print(s[:len(s)-1])  # 012345678\n",
        "print(s[:])          # 0123456789\n",
        "print(s[len(s)::-1])       # 9876543210\n",
        "print(s[len(s)-1::-1])     # 9876543210\n",
        "print(s[len(s)-2::-1])     # 876543210\n"
      ],
      "metadata": {
        "id": "IfAvLnlllTtt",
        "outputId": "87666176-4bf7-455f-84ee-437848323961",
        "colab": {
          "base_uri": "https://localhost:8080/"
        }
      },
      "execution_count": 19,
      "outputs": [
        {
          "output_type": "stream",
          "name": "stdout",
          "text": [
            "345\n",
            "3456789\n",
            "012345\n",
            "345\n",
            "\n",
            "654\n",
            "0123456789\n",
            "012345678\n",
            "0123456789\n",
            "9876543210\n",
            "9876543210\n",
            "876543210\n"
          ]
        }
      ]
    },
    {
      "cell_type": "markdown",
      "source": [
        "**Định dạng chuỗi**"
      ],
      "metadata": {
        "id": "VVMOhpwpmFrO"
      }
    },
    {
      "cell_type": "code",
      "source": [
        "\"Chao %s, gio la %d gio\" % ('txnam', 10)\n",
        "\"Can bac 2 cua 2 = %f\" % (2**0.5)\n",
        "\"Can bac 2 cua 2 = %10.3f\" % (2**0.5)\n",
        "\"Can bac 2 cua 2 = %10f\" % (2**0.5)\n",
        "\"Can bac 2 cua 2 = %.7f\" % (2**0.5)"
      ],
      "metadata": {
        "id": "y94CqwS-lqgw",
        "outputId": "489c6e23-c9ea-46ec-d2ad-7665c978757e",
        "colab": {
          "base_uri": "https://localhost:8080/",
          "height": 35
        }
      },
      "execution_count": 20,
      "outputs": [
        {
          "output_type": "execute_result",
          "data": {
            "text/plain": [
              "'Can bac 2 cua 2 = 1.4142136'"
            ],
            "application/vnd.google.colaboratory.intrinsic+json": {
              "type": "string"
            }
          },
          "metadata": {},
          "execution_count": 20
        }
      ]
    },
    {
      "cell_type": "markdown",
      "source": [
        "*Định dạng chuỗi dạng f-string*"
      ],
      "metadata": {
        "id": "bcQ3_tyrmOlQ"
      }
    },
    {
      "cell_type": "code",
      "source": [
        "myname = 'DHNTT'\n",
        "s = f'This is {myname}.' # 'This is DHNTT.'\n",
        "w = f'{s} {myname}' # 'This is DHNTT. DHNTT '\n",
        "z = f'{{s}} {s}' # '{s} This is DHNTT.‘\n",
        "print(s,w,z)"
      ],
      "metadata": {
        "id": "H_9F7zLMmRnA",
        "outputId": "804f256f-a17c-4bf8-db6a-bfa7470dfe8e",
        "colab": {
          "base_uri": "https://localhost:8080/"
        }
      },
      "execution_count": 22,
      "outputs": [
        {
          "output_type": "stream",
          "name": "stdout",
          "text": [
            "This is DHNTT. This is DHNTT. DHNTT {s} This is DHNTT.\n"
          ]
        }
      ]
    },
    {
      "cell_type": "markdown",
      "source": [
        "*Định dạng bằng fomat*"
      ],
      "metadata": {
        "id": "ArrDlCMdmiib"
      }
    },
    {
      "cell_type": "code",
      "source": [
        "# điền lần lượt từng giá trị vào giữa cặp ngoặc nhọn\n",
        "'a: {}, b: {}, c: {}'.format(1, 2, 3)\n",
        "# điền nhưng không lần lượt\n",
        "'a: {1}, b: {2}, c: {0}'.format('one', 'two', 'three')\n",
        "'two same values: {0}, {0}'.format(1, 2)\n",
        "# điền và chỉ định từng giá trị\n",
        "'1: {one}, 2: {two}'.format(one=111, two=222)"
      ],
      "metadata": {
        "id": "OPkR4LpSmDE-",
        "outputId": "b2b46534-963a-4ddc-9d5e-91a4be8666c9",
        "colab": {
          "base_uri": "https://localhost:8080/",
          "height": 35
        }
      },
      "execution_count": 23,
      "outputs": [
        {
          "output_type": "execute_result",
          "data": {
            "text/plain": [
              "'1: 111, 2: 222'"
            ],
            "application/vnd.google.colaboratory.intrinsic+json": {
              "type": "string"
            }
          },
          "metadata": {},
          "execution_count": 23
        }
      ]
    },
    {
      "cell_type": "markdown",
      "source": [
        "*Định dạng căn lề*"
      ],
      "metadata": {
        "id": "Da0solwQmpKR"
      }
    },
    {
      "cell_type": "code",
      "source": [
        "# căn giữa: ' aaaa '\n",
        "'{:^10}'.format('aaaa')\n",
        "# căn lề trái: 'aaaa '\n",
        "'{:<10}'.format('aaaa')\n",
        "# căn lề phải ' aaaa'\n",
        "'{:>10}'.format('aaaa')\n",
        "# căn lề phải, thay khoảng trắng bằng -: '------aaaa'\n",
        "'{:->10}'.format('aaaa')\n",
        "# căn lề trái, thay khoảng trắng *: 'aaa******'\n",
        "'{:*<10}'.format('aaaa')\n",
        "# căn giữa, thay khoảng trắng bằng +: '+++aaaa+++'\n",
        "'{:+^10}'.format('aaaa')"
      ],
      "metadata": {
        "id": "uBWNnwwtmk9h"
      },
      "execution_count": null,
      "outputs": []
    },
    {
      "cell_type": "markdown",
      "source": [
        "# **LIST**"
      ],
      "metadata": {
        "id": "JQtRPTenmwoI"
      }
    },
    {
      "cell_type": "markdown",
      "source": [
        "*Tạo bằng constructor*"
      ],
      "metadata": {
        "id": "yyVD7GR3m4gC"
      }
    },
    {
      "cell_type": "code",
      "source": [
        "l1 = list([1, 2, 3, 4]) # list 4 số nguyên\n",
        "l2 = list('abc') # list 3 chuỗi con\n",
        "l3 = list() # list rỗng\n",
        "\n",
        "print(l1,l2,l3)"
      ],
      "metadata": {
        "id": "JjblAXyIm3yA",
        "outputId": "139fa113-e95a-4311-b401-fac05d67d134",
        "colab": {
          "base_uri": "https://localhost:8080/"
        }
      },
      "execution_count": 26,
      "outputs": [
        {
          "output_type": "stream",
          "name": "stdout",
          "text": [
            "[1, 2, 3, 4] ['a', 'b', 'c'] []\n"
          ]
        }
      ]
    },
    {
      "cell_type": "markdown",
      "source": [
        "*Tạo bằng list comprehension*"
      ],
      "metadata": {
        "id": "FARB1JqVnGMe"
      }
    },
    {
      "cell_type": "code",
      "source": [
        "# list 1000 số nguyên từ 0 đến 999\n",
        "X = [n for n in range(1000)]\n",
        "# list gồm 10 list con là các cặp [x, x2]\n",
        "# với x chạy từ 0 đến 9\n",
        "Y = [[x, x*x] for x in range(10)]\n",
        "\n",
        "print(f\"{X}\\n{Y}\")"
      ],
      "metadata": {
        "id": "8cXi75HTmwSh",
        "outputId": "04c0a96f-2772-445a-d42b-bfc6c49fd255",
        "colab": {
          "base_uri": "https://localhost:8080/"
        }
      },
      "execution_count": 31,
      "outputs": [
        {
          "output_type": "stream",
          "name": "stdout",
          "text": [
            "[0, 1, 2, 3, 4, 5, 6, 7, 8, 9, 10, 11, 12, 13, 14, 15, 16, 17, 18, 19, 20, 21, 22, 23, 24, 25, 26, 27, 28, 29, 30, 31, 32, 33, 34, 35, 36, 37, 38, 39, 40, 41, 42, 43, 44, 45, 46, 47, 48, 49, 50, 51, 52, 53, 54, 55, 56, 57, 58, 59, 60, 61, 62, 63, 64, 65, 66, 67, 68, 69, 70, 71, 72, 73, 74, 75, 76, 77, 78, 79, 80, 81, 82, 83, 84, 85, 86, 87, 88, 89, 90, 91, 92, 93, 94, 95, 96, 97, 98, 99, 100, 101, 102, 103, 104, 105, 106, 107, 108, 109, 110, 111, 112, 113, 114, 115, 116, 117, 118, 119, 120, 121, 122, 123, 124, 125, 126, 127, 128, 129, 130, 131, 132, 133, 134, 135, 136, 137, 138, 139, 140, 141, 142, 143, 144, 145, 146, 147, 148, 149, 150, 151, 152, 153, 154, 155, 156, 157, 158, 159, 160, 161, 162, 163, 164, 165, 166, 167, 168, 169, 170, 171, 172, 173, 174, 175, 176, 177, 178, 179, 180, 181, 182, 183, 184, 185, 186, 187, 188, 189, 190, 191, 192, 193, 194, 195, 196, 197, 198, 199, 200, 201, 202, 203, 204, 205, 206, 207, 208, 209, 210, 211, 212, 213, 214, 215, 216, 217, 218, 219, 220, 221, 222, 223, 224, 225, 226, 227, 228, 229, 230, 231, 232, 233, 234, 235, 236, 237, 238, 239, 240, 241, 242, 243, 244, 245, 246, 247, 248, 249, 250, 251, 252, 253, 254, 255, 256, 257, 258, 259, 260, 261, 262, 263, 264, 265, 266, 267, 268, 269, 270, 271, 272, 273, 274, 275, 276, 277, 278, 279, 280, 281, 282, 283, 284, 285, 286, 287, 288, 289, 290, 291, 292, 293, 294, 295, 296, 297, 298, 299, 300, 301, 302, 303, 304, 305, 306, 307, 308, 309, 310, 311, 312, 313, 314, 315, 316, 317, 318, 319, 320, 321, 322, 323, 324, 325, 326, 327, 328, 329, 330, 331, 332, 333, 334, 335, 336, 337, 338, 339, 340, 341, 342, 343, 344, 345, 346, 347, 348, 349, 350, 351, 352, 353, 354, 355, 356, 357, 358, 359, 360, 361, 362, 363, 364, 365, 366, 367, 368, 369, 370, 371, 372, 373, 374, 375, 376, 377, 378, 379, 380, 381, 382, 383, 384, 385, 386, 387, 388, 389, 390, 391, 392, 393, 394, 395, 396, 397, 398, 399, 400, 401, 402, 403, 404, 405, 406, 407, 408, 409, 410, 411, 412, 413, 414, 415, 416, 417, 418, 419, 420, 421, 422, 423, 424, 425, 426, 427, 428, 429, 430, 431, 432, 433, 434, 435, 436, 437, 438, 439, 440, 441, 442, 443, 444, 445, 446, 447, 448, 449, 450, 451, 452, 453, 454, 455, 456, 457, 458, 459, 460, 461, 462, 463, 464, 465, 466, 467, 468, 469, 470, 471, 472, 473, 474, 475, 476, 477, 478, 479, 480, 481, 482, 483, 484, 485, 486, 487, 488, 489, 490, 491, 492, 493, 494, 495, 496, 497, 498, 499, 500, 501, 502, 503, 504, 505, 506, 507, 508, 509, 510, 511, 512, 513, 514, 515, 516, 517, 518, 519, 520, 521, 522, 523, 524, 525, 526, 527, 528, 529, 530, 531, 532, 533, 534, 535, 536, 537, 538, 539, 540, 541, 542, 543, 544, 545, 546, 547, 548, 549, 550, 551, 552, 553, 554, 555, 556, 557, 558, 559, 560, 561, 562, 563, 564, 565, 566, 567, 568, 569, 570, 571, 572, 573, 574, 575, 576, 577, 578, 579, 580, 581, 582, 583, 584, 585, 586, 587, 588, 589, 590, 591, 592, 593, 594, 595, 596, 597, 598, 599, 600, 601, 602, 603, 604, 605, 606, 607, 608, 609, 610, 611, 612, 613, 614, 615, 616, 617, 618, 619, 620, 621, 622, 623, 624, 625, 626, 627, 628, 629, 630, 631, 632, 633, 634, 635, 636, 637, 638, 639, 640, 641, 642, 643, 644, 645, 646, 647, 648, 649, 650, 651, 652, 653, 654, 655, 656, 657, 658, 659, 660, 661, 662, 663, 664, 665, 666, 667, 668, 669, 670, 671, 672, 673, 674, 675, 676, 677, 678, 679, 680, 681, 682, 683, 684, 685, 686, 687, 688, 689, 690, 691, 692, 693, 694, 695, 696, 697, 698, 699, 700, 701, 702, 703, 704, 705, 706, 707, 708, 709, 710, 711, 712, 713, 714, 715, 716, 717, 718, 719, 720, 721, 722, 723, 724, 725, 726, 727, 728, 729, 730, 731, 732, 733, 734, 735, 736, 737, 738, 739, 740, 741, 742, 743, 744, 745, 746, 747, 748, 749, 750, 751, 752, 753, 754, 755, 756, 757, 758, 759, 760, 761, 762, 763, 764, 765, 766, 767, 768, 769, 770, 771, 772, 773, 774, 775, 776, 777, 778, 779, 780, 781, 782, 783, 784, 785, 786, 787, 788, 789, 790, 791, 792, 793, 794, 795, 796, 797, 798, 799, 800, 801, 802, 803, 804, 805, 806, 807, 808, 809, 810, 811, 812, 813, 814, 815, 816, 817, 818, 819, 820, 821, 822, 823, 824, 825, 826, 827, 828, 829, 830, 831, 832, 833, 834, 835, 836, 837, 838, 839, 840, 841, 842, 843, 844, 845, 846, 847, 848, 849, 850, 851, 852, 853, 854, 855, 856, 857, 858, 859, 860, 861, 862, 863, 864, 865, 866, 867, 868, 869, 870, 871, 872, 873, 874, 875, 876, 877, 878, 879, 880, 881, 882, 883, 884, 885, 886, 887, 888, 889, 890, 891, 892, 893, 894, 895, 896, 897, 898, 899, 900, 901, 902, 903, 904, 905, 906, 907, 908, 909, 910, 911, 912, 913, 914, 915, 916, 917, 918, 919, 920, 921, 922, 923, 924, 925, 926, 927, 928, 929, 930, 931, 932, 933, 934, 935, 936, 937, 938, 939, 940, 941, 942, 943, 944, 945, 946, 947, 948, 949, 950, 951, 952, 953, 954, 955, 956, 957, 958, 959, 960, 961, 962, 963, 964, 965, 966, 967, 968, 969, 970, 971, 972, 973, 974, 975, 976, 977, 978, 979, 980, 981, 982, 983, 984, 985, 986, 987, 988, 989, 990, 991, 992, 993, 994, 995, 996, 997, 998, 999]\n",
            "[[0, 0], [1, 1], [2, 4], [3, 9], [4, 16], [5, 25], [6, 36], [7, 49], [8, 64], [9, 81]]\n"
          ]
        }
      ]
    },
    {
      "cell_type": "code",
      "source": [],
      "metadata": {
        "id": "rh9o0-yFn-93"
      },
      "execution_count": 27,
      "outputs": []
    }
  ]
}
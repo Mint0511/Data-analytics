





# lenh 1 - xuat chu
print( "Hello, Python World" )





!python ex0_hello_world.py


%run ex0_hello_world.py





%run ex1_calc.py





%run ex3_circle




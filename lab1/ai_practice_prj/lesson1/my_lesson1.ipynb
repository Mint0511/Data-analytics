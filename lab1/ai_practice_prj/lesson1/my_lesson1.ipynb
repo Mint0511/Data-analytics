{
 "cells": [
  {
   "cell_type": "markdown",
   "id": "c704363c-3787-4090-a5aa-0ea92ad3d531",
   "metadata": {},
   "source": [
    "# Thuc hanh tri tue nhan tao buoi 1\n",
    "## Noi dung thuc hanh "
   ]
  },
  {
   "cell_type": "markdown",
   "id": "2095c09e-882a-44e6-9d7f-c36b023ab1de",
   "metadata": {},
   "source": [
    "### In chu ra man hinh"
   ]
  },
  {
   "cell_type": "code",
   "execution_count": 4,
   "id": "6fb8e9aa-bbbc-49be-af78-537a9b93b36b",
   "metadata": {},
   "outputs": [
    {
     "name": "stdout",
     "output_type": "stream",
     "text": [
      "Hello, Python World\n"
     ]
    }
   ],
   "source": [
    "# lenh 1 - xuat chu\n",
    "print( \"Hello, Python World\" )"
   ]
  },
  {
   "cell_type": "markdown",
   "id": "19cf63b3-3464-478e-af9c-fbb653c0eee2",
   "metadata": {},
   "source": [
    "## Chay tap tin Python"
   ]
  },
  {
   "cell_type": "code",
   "execution_count": 9,
   "id": "4c0d4c32-a9ad-4140-8bbd-a8ffe749e715",
   "metadata": {},
   "outputs": [
    {
     "name": "stdout",
     "output_type": "stream",
     "text": [
      "Hello, Python World\n"
     ]
    }
   ],
   "source": [
    "!python ex0_hello_world.py"
   ]
  },
  {
   "cell_type": "code",
   "execution_count": 11,
   "id": "21e4703b-94c7-44bb-bddd-3e0f80a29cb8",
   "metadata": {},
   "outputs": [
    {
     "name": "stdout",
     "output_type": "stream",
     "text": [
      "Hello, Python World\n"
     ]
    }
   ],
   "source": [
    "%run ex0_hello_world.py"
   ]
  },
  {
   "cell_type": "markdown",
   "id": "a33fc5d5-3f07-4f03-90fe-5036e61a278c",
   "metadata": {},
   "source": [
    "## Chay bai ex1_calc"
   ]
  },
  {
   "cell_type": "code",
   "execution_count": 8,
   "id": "11d7642b-b380-4523-aa84-71fd04fdfd69",
   "metadata": {},
   "outputs": [
    {
     "name": "stdout",
     "output_type": "stream",
     "text": [
      "Calculator Basic\n"
     ]
    },
    {
     "name": "stdin",
     "output_type": "stream",
     "text": [
      "Moi ban nhap so a: 5\n",
      "Moi ban nhap so b: 6\n"
     ]
    },
    {
     "name": "stdout",
     "output_type": "stream",
     "text": [
      "c = 5 + 6 = 11\n"
     ]
    }
   ],
   "source": [
    "%run ex1_calc.py"
   ]
  },
  {
   "cell_type": "markdown",
   "id": "711f97f6-c1d5-455e-93d5-73427e43c5f7",
   "metadata": {},
   "source": [
    "## Chay bai ex3_circle"
   ]
  },
  {
   "cell_type": "code",
   "execution_count": 1,
   "id": "aa55937d-f422-4118-bb5d-cf2a8598a45c",
   "metadata": {},
   "outputs": [
    {
     "name": "stdin",
     "output_type": "stream",
     "text": [
      "Nhập bán kính r:  5\n"
     ]
    },
    {
     "name": "stdout",
     "output_type": "stream",
     "text": [
      "Chu vi hình tròn: 31.42\n",
      "Diện tích hình tròn: 78.54\n"
     ]
    }
   ],
   "source": [
    "%run ex3_circle"
   ]
  },
  {
   "cell_type": "markdown",
   "id": "087c9069-385f-45e6-889c-1a3068452cce",
   "metadata": {},
   "source": [
    "# Ket thuc"
   ]
  }
 ],
 "metadata": {
  "kernelspec": {
   "display_name": "Python 3 (ipykernel)",
   "language": "python",
   "name": "python3"
  },
  "language_info": {
   "codemirror_mode": {
    "name": "ipython",
    "version": 3
   },
   "file_extension": ".py",
   "mimetype": "text/x-python",
   "name": "python",
   "nbconvert_exporter": "python",
   "pygments_lexer": "ipython3",
   "version": "3.13.5"
  }
 },
 "nbformat": 4,
 "nbformat_minor": 5
}

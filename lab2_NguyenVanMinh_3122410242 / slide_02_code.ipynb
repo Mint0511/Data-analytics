{
  "nbformat": 4,
  "nbformat_minor": 0,
  "metadata": {
    "colab": {
      "provenance": [],
      "gpuType": "T4",
      "authorship_tag": "ABX9TyPoGA5WJ+zmq+FPp9UvBGsw",
      "include_colab_link": true
    },
    "kernelspec": {
      "name": "python3",
      "display_name": "Python 3"
    },
    "language_info": {
      "name": "python"
    }
  },
  "cells": [
    {
      "cell_type": "markdown",
      "metadata": {
        "id": "view-in-github",
        "colab_type": "text"
      },
      "source": [
        "<a href=\"https://colab.research.google.com/github/Mint0511/Data-analytics/blob/main/lab2_NguyenVanMinh_3122410242%20/%20slide_02_code.ipynb\" target=\"_parent\"><img src=\"https://colab.research.google.com/assets/colab-badge.svg\" alt=\"Open In Colab\"/></a>"
      ]
    },
    {
      "cell_type": "markdown",
      "source": [
        "# **PYTHON PROGRAMMING**"
      ],
      "metadata": {
        "id": "qEWZ6QlSrT2V"
      }
    },
    {
      "cell_type": "markdown",
      "source": [
        "**PYTHON HELLO WORLD**"
      ],
      "metadata": {
        "id": "KA_TJrejs4by"
      }
    },
    {
      "cell_type": "code",
      "source": [
        "print(\"Hello World\")"
      ],
      "metadata": {
        "colab": {
          "base_uri": "https://localhost:8080/"
        },
        "id": "1mWsLlBBs-Tp",
        "outputId": "9814e19d-ff11-4c6d-acde-a488ff139160"
      },
      "execution_count": null,
      "outputs": [
        {
          "output_type": "stream",
          "name": "stdout",
          "text": [
            "Hello World\n"
          ]
        }
      ]
    },
    {
      "cell_type": "code",
      "source": [
        "#Future Value\n",
        "pv = 100 #Giá trị hiện tại\n",
        "r = 0.1 #Lãi suất 10% (nhập trực tiếp dạng thập phân 0.1)\n",
        "n = 7 #Số kỳ (năm)\n",
        "fv = pv * ((1+(r))**n) # Công thức fv=pv*(1+r)^n\n",
        "print(round(fv,2)) #In kết quả và làm tròn 2 chữ số"
      ],
      "metadata": {
        "colab": {
          "base_uri": "https://localhost:8080/"
        },
        "id": "QmR-8TStuPvC",
        "outputId": "4b9e9a82-9edc-44b8-f8e4-aa91b81dfb03"
      },
      "execution_count": null,
      "outputs": [
        {
          "output_type": "stream",
          "name": "stdout",
          "text": [
            "194.87\n"
          ]
        }
      ]
    },
    {
      "cell_type": "code",
      "source": [
        "# Future Value\n",
        "amount = 100 # Số tiền ban đầu\n",
        "interest = 10 #10% = 0.01 * 10 #Lãi suất dạng phần trăm\n",
        "years = 7 #Số kỳ (năm)\n",
        "\n",
        "#Đổi lãi suất phần trăm sang dạng thập phân bằng cách nhân 0.\n",
        "future_value = amount * ((1+ (0.01 * interest))**years)\n",
        "print (round(future_value,2)) #In kết quả và làm tròn 2 chữ số"
      ],
      "metadata": {
        "colab": {
          "base_uri": "https://localhost:8080/"
        },
        "id": "bT4A6U1Bu0-A",
        "outputId": "88479cb4-8a5d-4eb4-ebe3-26293f81a3d7"
      },
      "execution_count": null,
      "outputs": [
        {
          "output_type": "stream",
          "name": "stdout",
          "text": [
            "194.87\n"
          ]
        }
      ]
    },
    {
      "cell_type": "markdown",
      "source": [
        "**PYTHON SYNTAX**"
      ],
      "metadata": {
        "id": "ZZCF7BSB2aRC"
      }
    },
    {
      "cell_type": "markdown",
      "source": [
        "* Dùng #comment để ghi chú lại trong\n",
        "code\n",
        "* **Thụt lề (Indentation):** *khoảng trắng ở đầu một dòng code. Mặc định là 4 khoảng trắng*"
      ],
      "metadata": {
        "id": "0M6igEilznzs"
      }
    },
    {
      "cell_type": "code",
      "source": [
        "#Python Function def\n",
        "#Định nghĩa hàm tính fv\n",
        "def getfv(pv,r,n):\n",
        "  fv=pv*((1+(r))**n)\n",
        "  return fv\n",
        "fv=getfv(100,0.1,7) #Gọi hàm với tham số cụ thể\n",
        "print(round(fv,2)) #In kết quả"
      ],
      "metadata": {
        "colab": {
          "base_uri": "https://localhost:8080/"
        },
        "id": "NmSonGREw9Tk",
        "outputId": "4651002c-a2a5-4e41-c0a7-d6727b792557"
      },
      "execution_count": null,
      "outputs": [
        {
          "output_type": "stream",
          "name": "stdout",
          "text": [
            "194.87\n"
          ]
        }
      ]
    },
    {
      "cell_type": "code",
      "source": [
        "#Python if else\n",
        "score = 80 #Điểm hiện tại\n",
        "if score >=60 : #Nếu điểm >=60\n",
        "  print(\"Pass\") # In kết quả \"Pass\"\n",
        "else:\n",
        "  print(\"Fail\") # Nếu không thỏa in \"Fail\""
      ],
      "metadata": {
        "colab": {
          "base_uri": "https://localhost:8080/"
        },
        "id": "lDQ47BV9yQJX",
        "outputId": "de5bd3da-a9b7-48fa-f1fe-cf9adf1e9988"
      },
      "execution_count": null,
      "outputs": [
        {
          "output_type": "stream",
          "name": "stdout",
          "text": [
            "Pass\n"
          ]
        }
      ]
    },
    {
      "cell_type": "markdown",
      "source": [
        "**PYTHON VARIABLES**"
      ],
      "metadata": {
        "id": "dyfvOsyF2M5U"
      }
    },
    {
      "cell_type": "code",
      "source": [
        "# Python Variables\n",
        "x = 2 #Biến x kiểu số nguyên (int)\n",
        "price = 2.5 #Biến price kiểu số thực (float)\n",
        "word = 'Hello' #Biến word kiểu chuỗi (String) với dấu nháy đơn\n",
        "\n",
        "word = 'Hello' #Chuỗi với dấu nháy đơn\n",
        "word = \"Hello\" #Chuỗi với dấu nháy kép\n",
        "word = '''Hello''' #Chuỗi với 3 dấu nháy đơn (dùng với chuỗi nhiều dòng)"
      ],
      "metadata": {
        "id": "D_cNpQxc0baw"
      },
      "execution_count": null,
      "outputs": []
    },
    {
      "cell_type": "code",
      "source": [
        "x = 2 #Gán giá trị 2 cho biến x\n",
        "y = x + 1 #Tạo biến y, giá trị là x+1 (2+1)"
      ],
      "metadata": {
        "id": "s8UKS54D1oRd"
      },
      "execution_count": null,
      "outputs": []
    },
    {
      "cell_type": "markdown",
      "source": [
        "PYTHON_VERSION()"
      ],
      "metadata": {
        "id": "CH9L1ymW6dz8"
      }
    },
    {
      "cell_type": "code",
      "source": [
        "# In ra phiên bản Python hiện tại\n",
        "from platform import python_version\n",
        "print(\"Python Version:\", python_version())\n"
      ],
      "metadata": {
        "colab": {
          "base_uri": "https://localhost:8080/"
        },
        "id": "1ssV_PYZ2Hyz",
        "outputId": "8d4cffc6-2463-4202-a906-0292b04989d7"
      },
      "execution_count": null,
      "outputs": [
        {
          "output_type": "stream",
          "name": "stdout",
          "text": [
            "Python Version: 3.12.11\n"
          ]
        }
      ]
    },
    {
      "cell_type": "markdown",
      "source": [
        "PYTHON DATA TYPES"
      ],
      "metadata": {
        "id": "fMEwcrJK6klw"
      }
    },
    {
      "cell_type": "code",
      "source": [
        "x = \"Hello World\" # chuỗi (strig)\n",
        "x = 2 # số nguyên (int)\n",
        "x = 2.5 # số thực (float)\n",
        "x = 7j # số phức (complex)"
      ],
      "metadata": {
        "id": "wAcQ1vxZ6nhv"
      },
      "execution_count": null,
      "outputs": []
    },
    {
      "cell_type": "code",
      "source": [
        "x = [\"apple\", \"banana\", \"cherry\"] #list : danh sách có thể thay đổi, cho phép trùng lặp\n",
        "x = (\"apple\", \"banana\", \"cherry\") #tuple : danh sách không thể thay đổi, cho phép trùng lặp\n",
        "x = range(6) #range : dãy số\n",
        "x = {\"name\" : \"Tom\", \"age\" : 20} #dict : từ điển\n",
        "x = {\"apple\", \"banana\", \"cherry\"} #set : tập hợp không trùng lặp, không có thứ tự\n",
        "x = frozenset({\"apple\", \"banana\", \"cherry\"}) #frozenset : tập hợp bất biến"
      ],
      "metadata": {
        "id": "eC0xlo_176B2"
      },
      "execution_count": null,
      "outputs": []
    },
    {
      "cell_type": "code",
      "source": [
        "x = True #bool : giá trị logic (True/False)\n",
        "x = b\"Hello\" #bytes : chuỗi byte (dùng cho dữ liệu nhị phân)\n",
        "x = bytearray(5) #bytearray : mảng byte có thể thay đổi\n",
        "x = memoryview(bytes(5)) #memoryview: đối tượng cho phép thao tác trực tiếp trên vùng nhớ của bytes/bytearray\n",
        "x = None #NoneType: giá trị \"rỗng\""
      ],
      "metadata": {
        "id": "Tq3wuCLRBSPv"
      },
      "execution_count": null,
      "outputs": []
    },
    {
      "cell_type": "markdown",
      "source": [
        "**PYTHON CASTING**"
      ],
      "metadata": {
        "id": "imSblf7eCkWM"
      }
    },
    {
      "cell_type": "code",
      "source": [
        "x = str(3)     # Ép số 3 thành chuỗi -> '3'\n",
        "y = int(3)     # Ép thành số nguyên -> 3\n",
        "z = float(3)   # Ép thành số thực -> 3.0\n",
        "\n",
        "print(x, type(x))   # In giá trị và kiểu dữ liệu của x\n",
        "print(y, type(y))   # In giá trị và kiểu dữ liệu của y\n",
        "print(z, type(z))   # In giá trị và kiểu dữ liệu của z"
      ],
      "metadata": {
        "id": "69GjVIE7Cn6h",
        "outputId": "2c183f4e-9efb-4104-b3a0-699c4e0328be",
        "colab": {
          "base_uri": "https://localhost:8080/"
        }
      },
      "execution_count": 1,
      "outputs": [
        {
          "output_type": "stream",
          "name": "stdout",
          "text": [
            "3 <class 'str'>\n",
            "3 <class 'int'>\n",
            "3.0 <class 'float'>\n"
          ]
        }
      ]
    },
    {
      "cell_type": "markdown",
      "source": [
        "**PYTHON NUMBERS**"
      ],
      "metadata": {
        "id": "m1QsSFJ0Danu"
      }
    },
    {
      "cell_type": "code",
      "source": [
        "x = 2       # int (số nguyên)\n",
        "y = 3.4     # float (số thực/thập phân)\n",
        "z = 7j      # complex (số phức, có phần ảo)\n",
        "print(x, type(x))\n",
        "print(y, type(y))\n",
        "print(z, type(z))"
      ],
      "metadata": {
        "id": "SauCJZJfCzog",
        "outputId": "30318d5b-211a-4a4d-9745-e5d942b40522",
        "colab": {
          "base_uri": "https://localhost:8080/"
        }
      },
      "execution_count": 2,
      "outputs": [
        {
          "output_type": "stream",
          "name": "stdout",
          "text": [
            "2 <class 'int'>\n",
            "3.4 <class 'float'>\n",
            "7j <class 'complex'>\n"
          ]
        }
      ]
    },
    {
      "cell_type": "markdown",
      "source": [
        "**PYTHON ARITHMETIC OPERATORS**"
      ],
      "metadata": {
        "id": "7L2oblFCDe5I"
      }
    },
    {
      "cell_type": "markdown",
      "source": [
        "| **Operator** | **Tên** | **Ví dụ** | **Kết quả** | **Giải thích** |\n",
        "|--------------|---------|------------|--------------|----------------|\n",
        "| ``+`` | Cộng (Addition) | `7 + 2` | `9` | Cộng hai số lại |\n",
        "| ``-`` | Trừ (Subtraction) | `7 - 2` | `5` | Lấy số thứ nhất trừ số thứ hai |\n",
        "| ``*`` | Nhân (Multiplication) | `7 * 2` | `14` | Nhân hai số |\n",
        "| ``/`` | Chia (Division) | `7 / 2` | `3.5` | Chia bình thường, luôn ra **float** |\n",
        "| ``//`` | Chia lấy phần nguyên (Floor division) | `7 // 2` | `3` | Lấy **thương nguyên** (bỏ phần thập phân) |\n",
        "| ``%`` | Chia lấy dư (Modulus) | `7 % 2` | `1` | Lấy **phần dư** sau phép chia |\n",
        "| ``**`` | Lũy thừa (Exponentiation) | `7 ** 2` | `49` | 7 mũ 2 = 49 |\n"
      ],
      "metadata": {
        "id": "67zKdnOoDq7M"
      }
    },
    {
      "cell_type": "markdown",
      "source": [
        "**PYTHON BASIC OPERATORS**"
      ],
      "metadata": {
        "id": "-np4jko_Ejas"
      }
    },
    {
      "cell_type": "code",
      "source": [
        "# Minh họa các toán tử số học trong Python\n",
        "print('7 + 2 =', 7 + 2)    # Cộng\n",
        "print('7 - 2 =', 7 - 2)    # Trừ\n",
        "print('7 * 2 =', 7 * 2)    # Nhân\n",
        "print('7 / 2 =', 7 / 2)    # Chia thường (luôn ra float)\n",
        "print('7 // 2 =', 7 // 2)  # Chia lấy phần nguyên\n",
        "print('7 % 2 =', 7 % 2)    # Chia lấy dư\n",
        "print('7 ** 2 =', 7 ** 2)  # Lũy thừa\n"
      ],
      "metadata": {
        "id": "-ABQkF-WEoWx",
        "outputId": "cfc27663-512b-49c8-daf9-fe2e61729fe6",
        "colab": {
          "base_uri": "https://localhost:8080/"
        }
      },
      "execution_count": 3,
      "outputs": [
        {
          "output_type": "stream",
          "name": "stdout",
          "text": [
            "7 + 2 = 9\n",
            "7 - 2 = 5\n",
            "7 * 2 = 14\n",
            "7 / 2 = 3.5\n",
            "7 // 2 = 3\n",
            "7 % 2 = 1\n",
            "7 ** 2 = 49\n"
          ]
        }
      ]
    },
    {
      "cell_type": "markdown",
      "source": [
        "**PYTHON BOOLEANS: TRUE OR FALSE**"
      ],
      "metadata": {
        "id": "BkdGNBWCExCM"
      }
    },
    {
      "cell_type": "code",
      "source": [
        "# Python Booleans: True or False\n",
        "print(3 > 2)   # So sánh: 3 lớn hơn 2 → True\n",
        "print(3 == 2)  # So sánh: 3 có bằng 2 không → False\n",
        "print(3 < 2)   # So sánh: 3 nhỏ hơn 2 → False"
      ],
      "metadata": {
        "id": "fSVsJwB7E5gI",
        "outputId": "f9002803-aed0-4307-d852-c9f2afdc4c5d",
        "colab": {
          "base_uri": "https://localhost:8080/"
        }
      },
      "execution_count": 5,
      "outputs": [
        {
          "output_type": "stream",
          "name": "stdout",
          "text": [
            "True\n",
            "False\n",
            "False\n"
          ]
        }
      ]
    },
    {
      "cell_type": "markdown",
      "source": [
        "**PYTHON BMI CALCULATOR**"
      ],
      "metadata": {
        "id": "imyqW7QDEU-N"
      }
    },
    {
      "cell_type": "code",
      "source": [
        "# BMI Calculator in Python\n",
        "height_cm = 170       # chiều cao (cm)\n",
        "weight_kg = 60        # cân nặng (kg)\n",
        "height_m = height_cm / 100   # đổi chiều cao từ cm sang mét\n",
        "BMI = weight_kg / (height_m ** 2)  # công thức tính BMI\n",
        "\n",
        "print(\"Your BMI is: \" + str(round(BMI, 1)))  # in kết quả, làm tròn 1 chữ số thập phân\n"
      ],
      "metadata": {
        "id": "Yuh4VjxeFIAi",
        "outputId": "ba29b6ff-e392-4caa-c488-8bea64a824c9",
        "colab": {
          "base_uri": "https://localhost:8080/"
        }
      },
      "execution_count": 6,
      "outputs": [
        {
          "output_type": "stream",
          "name": "stdout",
          "text": [
            "Your BMI is: 20.8\n"
          ]
        }
      ]
    }
  ]
}
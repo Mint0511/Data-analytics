{
  "nbformat": 4,
  "nbformat_minor": 0,
  "metadata": {
    "colab": {
      "provenance": [],
      "gpuType": "T4",
      "authorship_tag": "ABX9TyPF9DgpIvr0dN0B+nQljvV0",
      "include_colab_link": true
    },
    "kernelspec": {
      "name": "python3",
      "display_name": "Python 3"
    },
    "language_info": {
      "name": "python"
    }
  },
  "cells": [
    {
      "cell_type": "markdown",
      "metadata": {
        "id": "view-in-github",
        "colab_type": "text"
      },
      "source": [
        "<a href=\"https://colab.research.google.com/github/Mint0511/Data-analytics/blob/main/lab2_NguyenVanMinh_3122410242%20/%20slide_02_code.ipynb\" target=\"_parent\"><img src=\"https://colab.research.google.com/assets/colab-badge.svg\" alt=\"Open In Colab\"/></a>"
      ]
    },
    {
      "cell_type": "markdown",
      "source": [
        "# **PYTHON PROGRAMMING**"
      ],
      "metadata": {
        "id": "qEWZ6QlSrT2V"
      }
    },
    {
      "cell_type": "markdown",
      "source": [
        "**PYTHON HELLO WORLD**"
      ],
      "metadata": {
        "id": "KA_TJrejs4by"
      }
    },
    {
      "cell_type": "code",
      "source": [
        "print(\"Hello World\")"
      ],
      "metadata": {
        "colab": {
          "base_uri": "https://localhost:8080/"
        },
        "id": "1mWsLlBBs-Tp",
        "outputId": "9814e19d-ff11-4c6d-acde-a488ff139160"
      },
      "execution_count": null,
      "outputs": [
        {
          "output_type": "stream",
          "name": "stdout",
          "text": [
            "Hello World\n"
          ]
        }
      ]
    },
    {
      "cell_type": "code",
      "source": [
        "#Future Value\n",
        "pv = 100 #Giá trị hiện tại\n",
        "r = 0.1 #Lãi suất 10% (nhập trực tiếp dạng thập phân 0.1)\n",
        "n = 7 #Số kỳ (năm)\n",
        "fv = pv * ((1+(r))**n) # Công thức fv=pv*(1+r)^n\n",
        "print(round(fv,2)) #In kết quả và làm tròn 2 chữ số"
      ],
      "metadata": {
        "colab": {
          "base_uri": "https://localhost:8080/"
        },
        "id": "QmR-8TStuPvC",
        "outputId": "4b9e9a82-9edc-44b8-f8e4-aa91b81dfb03"
      },
      "execution_count": null,
      "outputs": [
        {
          "output_type": "stream",
          "name": "stdout",
          "text": [
            "194.87\n"
          ]
        }
      ]
    },
    {
      "cell_type": "code",
      "source": [
        "# Future Value\n",
        "amount = 100 # Số tiền ban đầu\n",
        "interest = 10 #10% = 0.01 * 10 #Lãi suất dạng phần trăm\n",
        "years = 7 #Số kỳ (năm)\n",
        "\n",
        "#Đổi lãi suất phần trăm sang dạng thập phân bằng cách nhân 0.\n",
        "future_value = amount * ((1+ (0.01 * interest))**years)\n",
        "print (round(future_value,2)) #In kết quả và làm tròn 2 chữ số"
      ],
      "metadata": {
        "colab": {
          "base_uri": "https://localhost:8080/"
        },
        "id": "bT4A6U1Bu0-A",
        "outputId": "88479cb4-8a5d-4eb4-ebe3-26293f81a3d7"
      },
      "execution_count": null,
      "outputs": [
        {
          "output_type": "stream",
          "name": "stdout",
          "text": [
            "194.87\n"
          ]
        }
      ]
    },
    {
      "cell_type": "markdown",
      "source": [
        "**PYTHON SYNTAX**"
      ],
      "metadata": {
        "id": "ZZCF7BSB2aRC"
      }
    },
    {
      "cell_type": "markdown",
      "source": [
        "* Dùng #comment để ghi chú lại trong\n",
        "code\n",
        "* **Thụt lề (Indentation):** *khoảng trắng ở đầu một dòng code. Mặc định là 4 khoảng trắng*"
      ],
      "metadata": {
        "id": "0M6igEilznzs"
      }
    },
    {
      "cell_type": "code",
      "source": [
        "#Python Function def\n",
        "#Định nghĩa hàm tính fv\n",
        "def getfv(pv,r,n):\n",
        "  fv=pv*((1+(r))**n)\n",
        "  return fv\n",
        "fv=getfv(100,0.1,7) #Gọi hàm với tham số cụ thể\n",
        "print(round(fv,2)) #In kết quả"
      ],
      "metadata": {
        "colab": {
          "base_uri": "https://localhost:8080/"
        },
        "id": "NmSonGREw9Tk",
        "outputId": "4651002c-a2a5-4e41-c0a7-d6727b792557"
      },
      "execution_count": null,
      "outputs": [
        {
          "output_type": "stream",
          "name": "stdout",
          "text": [
            "194.87\n"
          ]
        }
      ]
    },
    {
      "cell_type": "code",
      "source": [
        "#Python if else\n",
        "score = 80 #Điểm hiện tại\n",
        "if score >=60 : #Nếu điểm >=60\n",
        "  print(\"Pass\") # In kết quả \"Pass\"\n",
        "else:\n",
        "  print(\"Fail\") # Nếu không thỏa in \"Fail\""
      ],
      "metadata": {
        "colab": {
          "base_uri": "https://localhost:8080/"
        },
        "id": "lDQ47BV9yQJX",
        "outputId": "de5bd3da-a9b7-48fa-f1fe-cf9adf1e9988"
      },
      "execution_count": null,
      "outputs": [
        {
          "output_type": "stream",
          "name": "stdout",
          "text": [
            "Pass\n"
          ]
        }
      ]
    },
    {
      "cell_type": "markdown",
      "source": [
        "**PYTHON VARIABLES**"
      ],
      "metadata": {
        "id": "dyfvOsyF2M5U"
      }
    },
    {
      "cell_type": "code",
      "source": [
        "# Python Variables\n",
        "x = 2 #Biến x kiểu số nguyên (int)\n",
        "price = 2.5 #Biến price kiểu số thực (float)\n",
        "word = 'Hello' #Biến word kiểu chuỗi (String) với dấu nháy đơn\n",
        "\n",
        "word = 'Hello' #Chuỗi với dấu nháy đơn\n",
        "word = \"Hello\" #Chuỗi với dấu nháy kép\n",
        "word = '''Hello''' #Chuỗi với 3 dấu nháy đơn (dùng với chuỗi nhiều dòng)"
      ],
      "metadata": {
        "id": "D_cNpQxc0baw"
      },
      "execution_count": null,
      "outputs": []
    },
    {
      "cell_type": "code",
      "source": [
        "x = 2 #Gán giá trị 2 cho biến x\n",
        "y = x + 1 #Tạo biến y, giá trị là x+1 (2+1)"
      ],
      "metadata": {
        "id": "s8UKS54D1oRd"
      },
      "execution_count": null,
      "outputs": []
    },
    {
      "cell_type": "markdown",
      "source": [
        "PYTHON_VERSION()"
      ],
      "metadata": {
        "id": "CH9L1ymW6dz8"
      }
    },
    {
      "cell_type": "code",
      "source": [
        "# In ra phiên bản Python hiện tại\n",
        "from platform import python_version\n",
        "print(\"Python Version:\", python_version())\n"
      ],
      "metadata": {
        "colab": {
          "base_uri": "https://localhost:8080/"
        },
        "id": "1ssV_PYZ2Hyz",
        "outputId": "8d4cffc6-2463-4202-a906-0292b04989d7"
      },
      "execution_count": null,
      "outputs": [
        {
          "output_type": "stream",
          "name": "stdout",
          "text": [
            "Python Version: 3.12.11\n"
          ]
        }
      ]
    },
    {
      "cell_type": "markdown",
      "source": [
        "PYTHON DATA TYPES"
      ],
      "metadata": {
        "id": "fMEwcrJK6klw"
      }
    },
    {
      "cell_type": "code",
      "source": [
        "x = \"Hello World\" # chuỗi (strig)\n",
        "x = 2 # số nguyên (int)\n",
        "x = 2.5 # số thực (float)\n",
        "x = 7j # số phức (complex)"
      ],
      "metadata": {
        "id": "wAcQ1vxZ6nhv"
      },
      "execution_count": null,
      "outputs": []
    },
    {
      "cell_type": "code",
      "source": [
        "x = [\"apple\", \"banana\", \"cherry\"] #list : danh sách có thể thay đổi, cho phép trùng lặp\n",
        "x = (\"apple\", \"banana\", \"cherry\") #tuple : danh sách không thể thay đổi, cho phép trùng lặp\n",
        "x = range(6) #range : dãy số\n",
        "x = {\"name\" : \"Tom\", \"age\" : 20} #dict : từ điển\n",
        "x = {\"apple\", \"banana\", \"cherry\"} #set : tập hợp không trùng lặp, không có thứ tự\n",
        "x = frozenset({\"apple\", \"banana\", \"cherry\"}) #frozenset : tập hợp bất biến"
      ],
      "metadata": {
        "id": "eC0xlo_176B2"
      },
      "execution_count": null,
      "outputs": []
    },
    {
      "cell_type": "code",
      "source": [
        "x = True #bool : giá trị logic (True/False)\n",
        "x = b\"Hello\" #bytes : chuỗi byte (dùng cho dữ liệu nhị phân)\n",
        "x = bytearray(5) #bytearray : mảng byte có thể thay đổi\n",
        "x = memoryview(bytes(5)) #memoryview: đối tượng cho phép thao tác trực tiếp trên vùng nhớ của bytes/bytearray\n",
        "x = None #NoneType: giá trị \"rỗng\""
      ],
      "metadata": {
        "id": "Tq3wuCLRBSPv"
      },
      "execution_count": null,
      "outputs": []
    },
    {
      "cell_type": "markdown",
      "source": [
        "**PYTHON CASTING**"
      ],
      "metadata": {
        "id": "imSblf7eCkWM"
      }
    },
    {
      "cell_type": "code",
      "source": [
        "x = str(3)     # Ép số 3 thành chuỗi -> '3'\n",
        "y = int(3)     # Ép thành số nguyên -> 3\n",
        "z = float(3)   # Ép thành số thực -> 3.0\n",
        "\n",
        "print(x, type(x))   # In giá trị và kiểu dữ liệu của x\n",
        "print(y, type(y))   # In giá trị và kiểu dữ liệu của y\n",
        "print(z, type(z))   # In giá trị và kiểu dữ liệu của z"
      ],
      "metadata": {
        "colab": {
          "base_uri": "https://localhost:8080/"
        },
        "id": "69GjVIE7Cn6h",
        "outputId": "2c183f4e-9efb-4104-b3a0-699c4e0328be"
      },
      "execution_count": 1,
      "outputs": [
        {
          "output_type": "stream",
          "name": "stdout",
          "text": [
            "3 <class 'str'>\n",
            "3 <class 'int'>\n",
            "3.0 <class 'float'>\n"
          ]
        }
      ]
    },
    {
      "cell_type": "markdown",
      "source": [
        "**PYTHON NUMBERS**"
      ],
      "metadata": {
        "id": "m1QsSFJ0Danu"
      }
    },
    {
      "cell_type": "code",
      "source": [
        "x = 2       # int (số nguyên)\n",
        "y = 3.4     # float (số thực/thập phân)\n",
        "z = 7j      # complex (số phức, có phần ảo)\n",
        "print(x, type(x))\n",
        "print(y, type(y))\n",
        "print(z, type(z))"
      ],
      "metadata": {
        "colab": {
          "base_uri": "https://localhost:8080/"
        },
        "id": "SauCJZJfCzog",
        "outputId": "30318d5b-211a-4a4d-9745-e5d942b40522"
      },
      "execution_count": 2,
      "outputs": [
        {
          "output_type": "stream",
          "name": "stdout",
          "text": [
            "2 <class 'int'>\n",
            "3.4 <class 'float'>\n",
            "7j <class 'complex'>\n"
          ]
        }
      ]
    },
    {
      "cell_type": "markdown",
      "source": [
        "**PYTHON ARITHMETIC OPERATORS**"
      ],
      "metadata": {
        "id": "7L2oblFCDe5I"
      }
    },
    {
      "cell_type": "markdown",
      "source": [
        "| **Operator** | **Tên** | **Ví dụ** | **Kết quả** | **Giải thích** |\n",
        "|--------------|---------|------------|--------------|----------------|\n",
        "| ``+`` | Cộng (Addition) | `7 + 2` | `9` | Cộng hai số lại |\n",
        "| ``-`` | Trừ (Subtraction) | `7 - 2` | `5` | Lấy số thứ nhất trừ số thứ hai |\n",
        "| ``*`` | Nhân (Multiplication) | `7 * 2` | `14` | Nhân hai số |\n",
        "| ``/`` | Chia (Division) | `7 / 2` | `3.5` | Chia bình thường, luôn ra **float** |\n",
        "| ``//`` | Chia lấy phần nguyên (Floor division) | `7 // 2` | `3` | Lấy **thương nguyên** (bỏ phần thập phân) |\n",
        "| ``%`` | Chia lấy dư (Modulus) | `7 % 2` | `1` | Lấy **phần dư** sau phép chia |\n",
        "| ``**`` | Lũy thừa (Exponentiation) | `7 ** 2` | `49` | 7 mũ 2 = 49 |\n"
      ],
      "metadata": {
        "id": "67zKdnOoDq7M"
      }
    },
    {
      "cell_type": "markdown",
      "source": [
        "**PYTHON BASIC OPERATORS**"
      ],
      "metadata": {
        "id": "-np4jko_Ejas"
      }
    },
    {
      "cell_type": "code",
      "source": [
        "# Minh họa các toán tử số học trong Python\n",
        "print('7 + 2 =', 7 + 2)    # Cộng\n",
        "print('7 - 2 =', 7 - 2)    # Trừ\n",
        "print('7 * 2 =', 7 * 2)    # Nhân\n",
        "print('7 / 2 =', 7 / 2)    # Chia thường (luôn ra float)\n",
        "print('7 // 2 =', 7 // 2)  # Chia lấy phần nguyên\n",
        "print('7 % 2 =', 7 % 2)    # Chia lấy dư\n",
        "print('7 ** 2 =', 7 ** 2)  # Lũy thừa\n"
      ],
      "metadata": {
        "colab": {
          "base_uri": "https://localhost:8080/"
        },
        "id": "-ABQkF-WEoWx",
        "outputId": "cfc27663-512b-49c8-daf9-fe2e61729fe6"
      },
      "execution_count": 3,
      "outputs": [
        {
          "output_type": "stream",
          "name": "stdout",
          "text": [
            "7 + 2 = 9\n",
            "7 - 2 = 5\n",
            "7 * 2 = 14\n",
            "7 / 2 = 3.5\n",
            "7 // 2 = 3\n",
            "7 % 2 = 1\n",
            "7 ** 2 = 49\n"
          ]
        }
      ]
    },
    {
      "cell_type": "markdown",
      "source": [
        "**PYTHON BOOLEANS: TRUE OR FALSE**"
      ],
      "metadata": {
        "id": "BkdGNBWCExCM"
      }
    },
    {
      "cell_type": "code",
      "source": [
        "# Python Booleans: True or False\n",
        "print(3 > 2)   # So sánh: 3 lớn hơn 2 → True\n",
        "print(3 == 2)  # So sánh: 3 có bằng 2 không → False\n",
        "print(3 < 2)   # So sánh: 3 nhỏ hơn 2 → False"
      ],
      "metadata": {
        "colab": {
          "base_uri": "https://localhost:8080/"
        },
        "id": "fSVsJwB7E5gI",
        "outputId": "f9002803-aed0-4307-d852-c9f2afdc4c5d"
      },
      "execution_count": 5,
      "outputs": [
        {
          "output_type": "stream",
          "name": "stdout",
          "text": [
            "True\n",
            "False\n",
            "False\n"
          ]
        }
      ]
    },
    {
      "cell_type": "markdown",
      "source": [
        "**PYTHON BMI CALCULATOR**"
      ],
      "metadata": {
        "id": "imyqW7QDEU-N"
      }
    },
    {
      "cell_type": "code",
      "source": [
        "# BMI Calculator in Python\n",
        "height_cm = 170       # chiều cao (cm)\n",
        "weight_kg = 60        # cân nặng (kg)\n",
        "height_m = height_cm / 100   # đổi chiều cao từ cm sang mét\n",
        "BMI = weight_kg / (height_m ** 2)  # công thức tính BMI\n",
        "\n",
        "print(\"Your BMI is: \" + str(round(BMI, 1)))  # in kết quả, làm tròn 1 chữ số thập phân\n"
      ],
      "metadata": {
        "colab": {
          "base_uri": "https://localhost:8080/"
        },
        "id": "Yuh4VjxeFIAi",
        "outputId": "ba29b6ff-e392-4caa-c488-8bea64a824c9"
      },
      "execution_count": 6,
      "outputs": [
        {
          "output_type": "stream",
          "name": "stdout",
          "text": [
            "Your BMI is: 20.8\n"
          ]
        }
      ]
    },
    {
      "cell_type": "markdown",
      "source": [
        "-------------------------------------------------------"
      ],
      "metadata": {
        "id": "ZqP5MWOGGdry"
      }
    },
    {
      "cell_type": "markdown",
      "source": [
        "***Future value of a specified principal amount, rate of interest, and a number of years***"
      ],
      "metadata": {
        "id": "8daYql9NF_WK"
      }
    },
    {
      "cell_type": "markdown",
      "source": [
        "***How much is your $100 worth after 7 years?***"
      ],
      "metadata": {
        "id": "kBiEi3AXGlJ_"
      }
    },
    {
      "cell_type": "code",
      "source": [
        "# How much is your $100 worth after 7 years?\n",
        "\n",
        "fv = 100 * 1.1 ** 7   # công thức FV = PV * (1 + r)^n\n",
        "print('fv = ', round(fv, 2))  # làm tròn 2 chữ số thập phân\n",
        "\n",
        "# output = 194.87"
      ],
      "metadata": {
        "colab": {
          "base_uri": "https://localhost:8080/"
        },
        "id": "-_pRDNmMGV9X",
        "outputId": "10853cea-d534-4750-e0bc-5ddd36653bfa"
      },
      "execution_count": 8,
      "outputs": [
        {
          "output_type": "stream",
          "name": "stdout",
          "text": [
            "fv =  194.87\n"
          ]
        }
      ]
    },
    {
      "cell_type": "markdown",
      "source": [
        "**FUTURE VALUE**"
      ],
      "metadata": {
        "id": "m8A09TKBGP3c"
      }
    },
    {
      "cell_type": "code",
      "source": [
        "# Future Value\n",
        "pv = 100         # Giá trị hiện tại (Present Value)\n",
        "r = 0.1          # Lãi suất hằng năm (10%)\n",
        "n = 7            # Số năm\n",
        "fv = pv * ((1 + r) ** n)   # Công thức FV = PV * (1 + r)^n\n",
        "print(round(fv, 2))  # In ra kết quả, làm tròn 2 chữ số thập phân\n"
      ],
      "metadata": {
        "colab": {
          "base_uri": "https://localhost:8080/"
        },
        "id": "Wa88a7ZnHBUG",
        "outputId": "5028ceaf-c20b-46ff-907a-b6067b0adc02"
      },
      "execution_count": 9,
      "outputs": [
        {
          "output_type": "stream",
          "name": "stdout",
          "text": [
            "194.87\n"
          ]
        }
      ]
    },
    {
      "cell_type": "code",
      "source": [
        "# Future Value\n",
        "amount = 100        # Số tiền gốc ban đầu (PV)\n",
        "interest = 10       # Lãi suất phần trăm (%), ở đây là 10%\n",
        "years = 7           # Số năm\n",
        "# Công thức FV = PV * (1 + r)^n\n",
        "# r = 0.01 * interest để đổi từ % sang số thập phân\n",
        "future_value = amount * ((1 + (0.01 * interest)) ** years)\n",
        "\n",
        "print(round(future_value, 2))  # In kết quả, làm tròn 2 chữ số thập phân\n"
      ],
      "metadata": {
        "colab": {
          "base_uri": "https://localhost:8080/"
        },
        "id": "ZPNeWuTjHUV9",
        "outputId": "b0859505-d3bc-4213-c9be-89ea77ede63e"
      },
      "execution_count": 10,
      "outputs": [
        {
          "output_type": "stream",
          "name": "stdout",
          "text": [
            "194.87\n"
          ]
        }
      ]
    },
    {
      "cell_type": "markdown",
      "source": [
        "# **PYTHON DATA STRUCTURES**"
      ],
      "metadata": {
        "id": "4HZKwQk6HbrW"
      }
    },
    {
      "cell_type": "markdown",
      "source": [
        "**PYTHON DATA TYPES**"
      ],
      "metadata": {
        "id": "sV9RndpHHgUL"
      }
    },
    {
      "cell_type": "code",
      "source": [
        "x = [\"apple\", \"banana\", \"cherry\"]   # list (danh sách)\n",
        "x = (\"apple\", \"banana\", \"cherry\")   # tuple (bộ giá trị)\n",
        "x = {\"name\": \"Tom\", \"age\": 20}      # dict (từ điển)\n",
        "x = {\"apple\", \"banana\", \"cherry\"}   # set (tập hợp)"
      ],
      "metadata": {
        "id": "dzaC35zlHwpd"
      },
      "execution_count": 11,
      "outputs": []
    },
    {
      "cell_type": "markdown",
      "source": [
        "**Python Collections**\n",
        "\n",
        "Có 4 kiểu dữ liệu tập hợp chính trong Python:\n",
        "\n",
        "1. **List `[]`**\n",
        "   - Có thứ tự, thay đổi được.\n",
        "   - Cho phép trùng lặp.\n",
        "\n",
        "2. **Tuple `()`**\n",
        "   - Có thứ tự, **không** thay đổi được.\n",
        "   - Cho phép trùng lặp.\n",
        "\n",
        "3. **Set `{}`**\n",
        "   - Không có thứ tự, không trùng lặp.\n",
        "\n",
        "4. **Dictionary `{k:v}`**\n",
        "   - Dạng cặp `key:value`.\n",
        "   - Có thứ tự (Python 3.7+), thay đổi được.\n",
        "   - Key không trùng, Value có thể trùng.\n"
      ],
      "metadata": {
        "id": "z6bDKiIlIbxF"
      }
    },
    {
      "cell_type": "markdown",
      "source": [
        "**LIST[]**"
      ],
      "metadata": {
        "id": "sdv1ZIhyIest"
      }
    },
    {
      "cell_type": "markdown",
      "source": [
        "- **`len()`** : cho biết số phần tử trong list  \n",
        "- **`type()`** : cho biết kiểu dữ liệu  \n",
        "- **`list()` constructor** : tạo một list mới"
      ],
      "metadata": {
        "id": "fkSzboAlJmUl"
      }
    },
    {
      "cell_type": "code",
      "source": [
        "x = [60, 70, 80, 90]   # tạo list gồm 4 phần tử\n",
        "print(len(x))          # độ dài list (số phần tử)\n",
        "print(x[0])            # phần tử ở vị trí 0 (đầu tiên)\n",
        "print(x[1])            # phần tử ở vị trí 1\n",
        "print(x[-1])           # phần tử ở vị trí -1 (cuối cùng)\n"
      ],
      "metadata": {
        "colab": {
          "base_uri": "https://localhost:8080/"
        },
        "id": "rUaydDSmJD90",
        "outputId": "d49695e9-2a5e-4bf0-8977-72fe0b36f227"
      },
      "execution_count": 13,
      "outputs": [
        {
          "output_type": "stream",
          "name": "stdout",
          "text": [
            "4\n",
            "60\n",
            "70\n",
            "90\n"
          ]
        }
      ]
    },
    {
      "cell_type": "markdown",
      "source": [
        "**PYTHON LIST METHODS**"
      ],
      "metadata": {
        "id": "jSNalbNKJriZ"
      }
    },
    {
      "cell_type": "markdown",
      "source": [
        "Các phương thức của List trong Python:\n",
        "\n",
        "- append() : Thêm một phần tử vào cuối danh sách  \n",
        "- clear() : Xóa tất cả các phần tử trong danh sách  \n",
        "- copy() : Trả về một bản sao của danh sách  \n",
        "- count() : Trả về số lần xuất hiện của một giá trị chỉ định  \n",
        "- extend() : Thêm các phần tử của một danh sách (hoặc iterable khác) vào cuối danh sách hiện tại  \n",
        "- index() : Trả về chỉ số của phần tử đầu tiên có giá trị chỉ định  \n",
        "- insert() : Thêm một phần tử tại vị trí chỉ định  \n",
        "- pop() : Xóa phần tử tại vị trí chỉ định (mặc định là phần tử cuối)  \n",
        "- remove() : Xóa phần tử có giá trị chỉ định  \n",
        "- reverse() : Đảo ngược thứ tự của danh sách  \n",
        "- sort() : Sắp xếp danh sách  \n"
      ],
      "metadata": {
        "id": "doRzQSHnK9mX"
      }
    },
    {
      "cell_type": "markdown",
      "source": [
        "**TUPLES()**\n",
        "+ Một tuple trong Python là một tập hợp không thể được thay đổi.\n",
        "+ Một tuple được định nghĩa bằng dấu ngoặc tròn."
      ],
      "metadata": {
        "id": "EYqKkRxvKPvV"
      }
    },
    {
      "cell_type": "code",
      "source": [
        "x = (10, 20, 30, 40, 50)   # Tạo một tuple gồm 5 phần tử\n",
        "print(x[0])   # In ra phần tử ở vị trí 0 (phần tử đầu tiên) → 10\n",
        "print(x[1])   # In ra phần tử ở vị trí 1 (phần tử thứ hai) → 20\n",
        "print(x[2])   # In ra phần tử ở vị trí 2 (phần tử thứ ba) → 30\n",
        "print(x[-1])  # In ra phần tử ở vị trí -1 (phần tử cuối cùng) → 50\n"
      ],
      "metadata": {
        "colab": {
          "base_uri": "https://localhost:8080/"
        },
        "id": "BuVkLDdFLQ07",
        "outputId": "b2db5b20-3637-46ed-88c8-dc14a60dde37"
      },
      "execution_count": 14,
      "outputs": [
        {
          "output_type": "stream",
          "name": "stdout",
          "text": [
            "10\n",
            "20\n",
            "30\n",
            "50\n"
          ]
        }
      ]
    },
    {
      "cell_type": "markdown",
      "source": [
        "**SET{}**"
      ],
      "metadata": {
        "id": "ep1LA-M7LaTt"
      }
    },
    {
      "cell_type": "code",
      "source": [
        "animals = {'cat', 'dog'}        # Tạo một set gồm \"cat\" và \"dog\"\n",
        "print('cat' in animals)         # True vì \"cat\" có trong set\n",
        "print('fish' in animals)        # False vì \"fish\" chưa có trong set\n",
        "animals.add('fish')             # Thêm \"fish\" vào set\n",
        "print('fish' in animals)        # True vì \"fish\" đã được thêm\n",
        "print(len(animals))             # 3 phần tử: {\"cat\", \"dog\", \"fish\"}\n",
        "animals.add('cat')              # Thêm \"cat\" lần nữa -> không thay đổi (set không chứa trùng lặp)\n",
        "print(len(animals))             # Vẫn = 3\n",
        "animals.remove('cat')           # Xóa \"cat\" khỏi set\n",
        "print(len(animals))             # Còn lại 2 phần tử\n"
      ],
      "metadata": {
        "colab": {
          "base_uri": "https://localhost:8080/"
        },
        "id": "MnMOIYQ_LeDH",
        "outputId": "6e2bce36-6821-4d04-f215-48ebfd1bc1a3"
      },
      "execution_count": 15,
      "outputs": [
        {
          "output_type": "stream",
          "name": "stdout",
          "text": [
            "True\n",
            "False\n",
            "True\n",
            "3\n",
            "3\n",
            "2\n"
          ]
        }
      ]
    },
    {
      "cell_type": "markdown",
      "source": [
        "**DICTIONARY {KEY : VALUE}**"
      ],
      "metadata": {
        "id": "XPEhO7I2McBM"
      }
    },
    {
      "cell_type": "markdown",
      "source": [
        "Python Dictionary\n",
        "\n",
        "Key → Value\n",
        "\n",
        "'EN’ → 'English’\n",
        "\n",
        "'FR’ → 'French'"
      ],
      "metadata": {
        "id": "p61MnigHMtut"
      }
    },
    {
      "cell_type": "code",
      "source": [
        "k = { 'EN': 'English',          # Tạo dictionary với key 'EN' có value 'English'\n",
        "      'FR': 'French' }          # Key 'FR' có value 'French'\n",
        "\n",
        "print(k['EN'])                  # Truy xuất value theo key 'EN' → English\n"
      ],
      "metadata": {
        "id": "HKeMLPJ5MfIG",
        "outputId": "3e854dee-17e4-481d-c117-ce8b1f1c0c36",
        "colab": {
          "base_uri": "https://localhost:8080/"
        }
      },
      "execution_count": 16,
      "outputs": [
        {
          "output_type": "stream",
          "name": "stdout",
          "text": [
            "English\n"
          ]
        }
      ]
    },
    {
      "cell_type": "markdown",
      "source": [
        "**PYTHON DATA STRUCTURES**"
      ],
      "metadata": {
        "id": "wEMthqyBNL5e"
      }
    },
    {
      "cell_type": "code",
      "source": [
        "fruits = [\"apple\", \"banana\", \"cherry\"]    # List []: có thứ tự, thay đổi được, cho phép trùng lặp\n",
        "colors = (\"red\", \"green\", \"blue\")         # Tuple (): có thứ tự, KHÔNG thay đổi, cho phép trùng lặp\n",
        "animals = {'cat', 'dog'}                  # Set {}: không có thứ tự, không cho phép trùng lặp\n",
        "person = {\"name\": \"Tom\", \"age\": 20}       # Dictionary {k:v}: lưu theo cặp Key–Value, key không trùng\n"
      ],
      "metadata": {
        "id": "Rv55Fdq5NA3i"
      },
      "execution_count": 18,
      "outputs": []
    },
    {
      "cell_type": "markdown",
      "source": [
        "**PYTHON FOR FINANCE APPLICATIONS**"
      ],
      "metadata": {
        "id": "p4KMIgQHNTyC"
      }
    },
    {
      "cell_type": "code",
      "source": [
        "# Python Lists\n",
        "expenses = [72.50, 80.75, 50.00, 90.25]   # Tạo một list gồm các chi phí\n",
        "total_expenses = sum(expenses)            # Hàm sum() tính tổng các phần tử trong list\n",
        "print(\"Total expenses:\", total_expenses)  # In ra tổng chi phí\n"
      ],
      "metadata": {
        "id": "xWBXPIjKNQSz",
        "outputId": "aa8fe3d2-5f61-4b83-c1c5-34d3a0c0d8aa",
        "colab": {
          "base_uri": "https://localhost:8080/"
        }
      },
      "execution_count": 19,
      "outputs": [
        {
          "output_type": "stream",
          "name": "stdout",
          "text": [
            "Total expenses: 293.5\n"
          ]
        }
      ]
    },
    {
      "cell_type": "markdown",
      "source": [
        "**PYTHON FOR FINANCE APPLICATIONS**"
      ],
      "metadata": {
        "id": "VJB7mSWPPIpj"
      }
    },
    {
      "cell_type": "code",
      "source": [
        "# Python Tuples\n",
        "accounts = ((\"Cash\", 1001),\n",
        "            (\"Accounts Receivable\", 1002),\n",
        "            (\"Inventory\", 1003))   # Tạo một tuple gồm các tuple con (tên tài khoản, số tài khoản)\n",
        "\n",
        "for account in accounts:                 # Lặp qua từng tuple con trong accounts\n",
        "    print(\"Account name:\", account[0], \"Account number:\", account[1])\n",
        "    # account[0] → tên tài khoản, account[1] → số tài khoản\n"
      ],
      "metadata": {
        "id": "fq1Ml55zO_7J",
        "outputId": "9e649ef6-a636-443f-e1d3-a25a9397dc6b",
        "colab": {
          "base_uri": "https://localhost:8080/"
        }
      },
      "execution_count": 20,
      "outputs": [
        {
          "output_type": "stream",
          "name": "stdout",
          "text": [
            "Account name: Cash Account number: 1001\n",
            "Account name: Accounts Receivable Account number: 1002\n",
            "Account name: Inventory Account number: 1003\n"
          ]
        }
      ]
    }
  ]
}
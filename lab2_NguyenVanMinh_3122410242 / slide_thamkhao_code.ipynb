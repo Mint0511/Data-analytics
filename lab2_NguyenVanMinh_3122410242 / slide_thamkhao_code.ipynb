{
  "nbformat": 4,
  "nbformat_minor": 0,
  "metadata": {
    "colab": {
      "provenance": [],
      "authorship_tag": "ABX9TyOWoA9CwAO2SQCmEf/dZc51",
      "include_colab_link": true
    },
    "kernelspec": {
      "name": "python3",
      "display_name": "Python 3"
    },
    "language_info": {
      "name": "python"
    }
  },
  "cells": [
    {
      "cell_type": "markdown",
      "metadata": {
        "id": "view-in-github",
        "colab_type": "text"
      },
      "source": [
        "<a href=\"https://colab.research.google.com/github/Mint0511/Data-analytics/blob/main/lab2_NguyenVanMinh_3122410242%20/%20slide_thamkhao_code.ipynb\" target=\"_parent\"><img src=\"https://colab.research.google.com/assets/colab-badge.svg\" alt=\"Open In Colab\"/></a>"
      ]
    },
    {
      "cell_type": "markdown",
      "source": [
        "# **NGÔN NGỮ PYTHON**"
      ],
      "metadata": {
        "id": "K7MBkJpD5SxB"
      }
    },
    {
      "cell_type": "markdown",
      "source": [
        "**NHẬP VÀ XUẤT DỮ LIỆU**"
      ],
      "metadata": {
        "id": "oC7VqPwj5kNx"
      }
    },
    {
      "cell_type": "markdown",
      "source": [
        "*Sử dụng hàm print để in dữ liệu ra màn hình*"
      ],
      "metadata": {
        "id": "Be8ZSmO95nad"
      }
    },
    {
      "cell_type": "code",
      "execution_count": 1,
      "metadata": {
        "id": "N4nKWJGL3Wnf",
        "outputId": "ff0c7be7-7353-4341-e210-4c57bf64fff8",
        "colab": {
          "base_uri": "https://localhost:8080/"
        }
      },
      "outputs": [
        {
          "output_type": "stream",
          "name": "stdout",
          "text": [
            "42\n"
          ]
        }
      ],
      "source": [
        "print(42)"
      ]
    },
    {
      "cell_type": "code",
      "source": [
        "a = 3.564\n",
        "print(\"a = \", a)"
      ],
      "metadata": {
        "id": "JgSaZXfb5x0I",
        "outputId": "22da23c5-0bc8-4df2-f3a5-3cb4c1b741c2",
        "colab": {
          "base_uri": "https://localhost:8080/"
        }
      },
      "execution_count": 3,
      "outputs": [
        {
          "output_type": "stream",
          "name": "stdout",
          "text": [
            "a =  3.564\n"
          ]
        }
      ]
    },
    {
      "cell_type": "code",
      "source": [
        "print(\"a = \\n\", a)"
      ],
      "metadata": {
        "id": "bR_snkqy50SZ",
        "outputId": "44015737-e402-4703-8690-a869e5b57202",
        "colab": {
          "base_uri": "https://localhost:8080/"
        }
      },
      "execution_count": 5,
      "outputs": [
        {
          "output_type": "stream",
          "name": "stdout",
          "text": [
            "a = \n",
            " 3.564\n"
          ]
        }
      ]
    },
    {
      "cell_type": "code",
      "source": [
        "print(\"a\",\"b\")"
      ],
      "metadata": {
        "id": "cz_ruX8q6BO9",
        "outputId": "ba76e00d-dd47-40a4-9f02-c0b35c458f4b",
        "colab": {
          "base_uri": "https://localhost:8080/"
        }
      },
      "execution_count": 6,
      "outputs": [
        {
          "output_type": "stream",
          "name": "stdout",
          "text": [
            "a b\n"
          ]
        }
      ]
    },
    {
      "cell_type": "code",
      "source": [
        "print(\"a\",\"b\",sep=\"\")"
      ],
      "metadata": {
        "id": "FcS4mLZz6He2",
        "outputId": "f32d0e43-9387-4b36-e943-fa4f8f35616e",
        "colab": {
          "base_uri": "https://localhost:8080/"
        }
      },
      "execution_count": 7,
      "outputs": [
        {
          "output_type": "stream",
          "name": "stdout",
          "text": [
            "ab\n"
          ]
        }
      ]
    },
    {
      "cell_type": "code",
      "source": [
        "print(192,168,178,42,sep=\".\")"
      ],
      "metadata": {
        "id": "xaoIQ8NI6JmA",
        "outputId": "ae288229-ad1a-4476-8b78-e590a9cb7720",
        "colab": {
          "base_uri": "https://localhost:8080/"
        }
      },
      "execution_count": 8,
      "outputs": [
        {
          "output_type": "stream",
          "name": "stdout",
          "text": [
            "192.168.178.42\n"
          ]
        }
      ]
    },
    {
      "cell_type": "code",
      "source": [
        "print(\"a\",\"b\",sep=\":-)\")"
      ],
      "metadata": {
        "id": "UTotAsGF6LVc",
        "outputId": "5f125c41-e2bb-4871-8e48-27bcce93a0b1",
        "colab": {
          "base_uri": "https://localhost:8080/"
        }
      },
      "execution_count": 9,
      "outputs": [
        {
          "output_type": "stream",
          "name": "stdout",
          "text": [
            "a:-)b\n"
          ]
        }
      ]
    },
    {
      "cell_type": "markdown",
      "source": [
        "*Sử dụng hàm input để nhập dữ liệu từ bàn phím*"
      ],
      "metadata": {
        "id": "ECfcPofb6Psv"
      }
    },
    {
      "cell_type": "code",
      "source": [
        "name = input(\"What's your name? \")\n",
        "print(\"Nice to meet you \" + name + \"!\")\n",
        "age = input(\"Your age? \")\n",
        "print(\"You are already \" + age + \" years old, \" + name\n",
        "+ \"!\")"
      ],
      "metadata": {
        "id": "wqJBwtWP6NMX",
        "outputId": "f5de1104-882b-46a5-9f08-7ab1b06fd330",
        "colab": {
          "base_uri": "https://localhost:8080/"
        }
      },
      "execution_count": 10,
      "outputs": [
        {
          "output_type": "stream",
          "name": "stdout",
          "text": [
            "What's your name? Nam\n",
            "Nice to meet you Nam!\n",
            "Your age? 12\n",
            "You are already 12 years old, Nam!\n"
          ]
        }
      ]
    },
    {
      "cell_type": "markdown",
      "source": [
        "*Có thể kết hợp chuyển kiểu nếu muốn tường minh*"
      ],
      "metadata": {
        "id": "zL3C5zpw6bjr"
      }
    },
    {
      "cell_type": "code",
      "source": [
        "age = int(input(\"Your age? \"))\n",
        "print(\"You are already %d years old!\", age)"
      ],
      "metadata": {
        "id": "62Mpvfnq6WGH",
        "outputId": "4ca3de69-5f47-4736-f0de-5238fded227e",
        "colab": {
          "base_uri": "https://localhost:8080/"
        }
      },
      "execution_count": 11,
      "outputs": [
        {
          "output_type": "stream",
          "name": "stdout",
          "text": [
            "Your age? 12\n",
            "You are already %d years old! 12\n"
          ]
        }
      ]
    },
    {
      "cell_type": "code",
      "source": [],
      "metadata": {
        "id": "x8QqqekC6dql"
      },
      "execution_count": null,
      "outputs": []
    }
  ]
}
{
  "nbformat": 4,
  "nbformat_minor": 0,
  "metadata": {
    "colab": {
      "provenance": [],
      "authorship_tag": "ABX9TyM/P0mmitPZPUyjZ4ygMtIz",
      "include_colab_link": true
    },
    "kernelspec": {
      "name": "python3",
      "display_name": "Python 3"
    },
    "language_info": {
      "name": "python"
    }
  },
  "cells": [
    {
      "cell_type": "markdown",
      "metadata": {
        "id": "view-in-github",
        "colab_type": "text"
      },
      "source": [
        "<a href=\"https://colab.research.google.com/github/Mint0511/Data-analytics/blob/main/lab2_NguyenVanMinh_3122410242%20/%20slide_03_code.ipynb\" target=\"_parent\"><img src=\"https://colab.research.google.com/assets/colab-badge.svg\" alt=\"Open In Colab\"/></a>"
      ]
    },
    {
      "cell_type": "markdown",
      "source": [
        "# **DATA ANALYTICS AND VISUALIZATION WITH PYTHON**"
      ],
      "metadata": {
        "id": "MXm5-9NViMLA"
      }
    },
    {
      "cell_type": "markdown",
      "source": [
        "**NUMPY**"
      ],
      "metadata": {
        "id": "g7UjaKQoiUw-"
      }
    },
    {
      "cell_type": "code",
      "execution_count": 3,
      "metadata": {
        "id": "vnAPXBV_fobz",
        "colab": {
          "base_uri": "https://localhost:8080/"
        },
        "outputId": "00f59c1b-5760-48bd-f228-cf8d9521b7d7"
      },
      "outputs": [
        {
          "output_type": "stream",
          "name": "stdout",
          "text": [
            "[1, 2, 3, 4, 5]\n"
          ]
        }
      ],
      "source": [
        "# Tạo danh sách Python\n",
        "v = list(range(1, 6))  # Tạo list: [1, 2, 3, 4, 5]\n",
        "print(v)"
      ]
    },
    {
      "cell_type": "code",
      "source": [
        "# Nhân list với 2\n",
        "print(2 * v)  # [1,2,3,4,5,1,2,3,4,5] → Python list nhân với số → lặp lại danh sách"
      ],
      "metadata": {
        "colab": {
          "base_uri": "https://localhost:8080/"
        },
        "id": "ikx5nAgLimUz",
        "outputId": "94f03457-4a8c-4f12-a0cb-dc134e2a4f71"
      },
      "execution_count": 4,
      "outputs": [
        {
          "output_type": "stream",
          "name": "stdout",
          "text": [
            "[1, 2, 3, 4, 5, 1, 2, 3, 4, 5]\n"
          ]
        }
      ]
    },
    {
      "cell_type": "code",
      "source": [
        "# Dùng NumPy để tạo mảng\n",
        "import numpy as np\n",
        "v = np.arange(1, 6)  # Tạo numpy array: [1 2 3 4 5]\n",
        "print(v)"
      ],
      "metadata": {
        "colab": {
          "base_uri": "https://localhost:8080/"
        },
        "id": "z81PjfnNi5-N",
        "outputId": "5bb749e1-6d0f-420f-fa47-e712686e3447"
      },
      "execution_count": 5,
      "outputs": [
        {
          "output_type": "stream",
          "name": "stdout",
          "text": [
            "[1 2 3 4 5]\n"
          ]
        }
      ]
    },
    {
      "cell_type": "code",
      "source": [
        "# Nhân mảng với 2\n",
        "print(2 * v)  # [ 2  4  6  8 10 ] → NumPy array nhân với số → nhân từng phần tử"
      ],
      "metadata": {
        "colab": {
          "base_uri": "https://localhost:8080/"
        },
        "id": "l8RTtuG-i9Fg",
        "outputId": "448785b4-4986-4250-c359-3e3a28a78b51"
      },
      "execution_count": 6,
      "outputs": [
        {
          "output_type": "stream",
          "name": "stdout",
          "text": [
            "[ 2  4  6  8 10]\n"
          ]
        }
      ]
    },
    {
      "cell_type": "markdown",
      "source": [
        "**PYTHON DATA STRUCTURES**"
      ],
      "metadata": {
        "id": "i6H8AyikjBro"
      }
    },
    {
      "cell_type": "code",
      "source": [
        "# Python Collections\n",
        "\n",
        "fruits = [\"apple\", \"banana\", \"cherry\"]      # List: có thứ tự, thay đổi được, cho phép trùng lặp\n",
        "colors = (\"red\", \"green\", \"blue\")           # Tuple: có thứ tự, không thay đổi được, cho phép trùng lặp\n",
        "animals = {'cat', 'dog'}                    # Set: không có thứ tự, không trùng lặp, không thay đổi được\n",
        "person = {\"name\": \"Tom\", \"age\": 20}         # Dictionary: key-value, có thứ tự (Python 3.7+), key không trùng lặp\n"
      ],
      "metadata": {
        "id": "iw_4HwX6jGZ3"
      },
      "execution_count": 7,
      "outputs": []
    },
    {
      "cell_type": "markdown",
      "source": [
        "**`List[]`**"
      ],
      "metadata": {
        "id": "jnuWX1icjSs9"
      }
    },
    {
      "cell_type": "code",
      "source": [
        "# Tạo list\n",
        "x = [60, 70, 80, 90]\n",
        "\n",
        "# Độ dài của list\n",
        "print(len(x))   # 4 → có 4 phần tử\n",
        "\n",
        "# Truy cập phần tử theo chỉ số\n",
        "print(x[0])     # 60 → phần tử đầu tiên\n",
        "print(x[1])     # 70 → phần tử thứ hai\n",
        "print(x[-1])    # 90 → phần tử cuối cùng (dùng chỉ số âm)\n"
      ],
      "metadata": {
        "colab": {
          "base_uri": "https://localhost:8080/"
        },
        "id": "URy4c2YbjAFt",
        "outputId": "18d26512-9ef0-4b82-c8de-eb3640cd8ef2"
      },
      "execution_count": 8,
      "outputs": [
        {
          "output_type": "stream",
          "name": "stdout",
          "text": [
            "4\n",
            "60\n",
            "70\n",
            "90\n"
          ]
        }
      ]
    },
    {
      "cell_type": "markdown",
      "source": [
        "**NUMPY CREATE ARRAY**"
      ],
      "metadata": {
        "id": "Cy6BTL6ijlhD"
      }
    },
    {
      "cell_type": "code",
      "source": [
        "#1\n",
        "import numpy as np\n",
        "\n",
        "# Tạo 2 mảng NumPy\n",
        "a = np.array([1, 2, 3])\n",
        "b = np.array([4, 5, 6])\n",
        "\n",
        "# Nhân từng phần tử\n",
        "c = a * b\n",
        "print(c)  # Output: [ 4 10 18 ]\n"
      ],
      "metadata": {
        "colab": {
          "base_uri": "https://localhost:8080/"
        },
        "id": "MvpAa_LHjkKc",
        "outputId": "12077cf7-f575-499b-a7fc-2b5ef15dca35"
      },
      "execution_count": 9,
      "outputs": [
        {
          "output_type": "stream",
          "name": "stdout",
          "text": [
            "[ 4 10 18]\n"
          ]
        }
      ]
    },
    {
      "cell_type": "code",
      "source": [
        "#2\n",
        "import numpy as np\n",
        "\n",
        "a = np.zeros((2,2))           # Mảng 2x2 toàn số 0 → [[0. 0.]\n",
        "                               #                      [0. 0.]]\n",
        "print(a)\n",
        "\n",
        "b = np.ones((1,2))            # Mảng 1x2 toàn số 1 → [[1. 1.]]\n",
        "print(b)\n",
        "\n",
        "c = np.full((2,2), 7)         # Mảng 2x2 toàn số 7 → [[7 7]\n",
        "                               #                      [7 7]]\n",
        "print(c)\n",
        "\n",
        "d = np.eye(2)                 # Ma trận đơn vị 2x2 → [[1. 0.]\n",
        "                               #                      [0. 1.]]\n",
        "print(d)\n",
        "\n",
        "e = np.random.random((2,2))   # Mảng 2x2 số ngẫu nhiên, ví dụ in ra: [[0.37454012 0.95071431]\n",
        "                               #                                      [0.73199394 0.59865848]]\n",
        "print(e)\n"
      ],
      "metadata": {
        "colab": {
          "base_uri": "https://localhost:8080/"
        },
        "id": "Ld4pqpisjv3c",
        "outputId": "690d0d6d-2e5a-468a-8db6-6b7700f66bf4"
      },
      "execution_count": 10,
      "outputs": [
        {
          "output_type": "stream",
          "name": "stdout",
          "text": [
            "[[0. 0.]\n",
            " [0. 0.]]\n",
            "[[1. 1.]]\n",
            "[[7 7]\n",
            " [7 7]]\n",
            "[[1. 0.]\n",
            " [0. 1.]]\n",
            "[[0.3280482  0.99918131]\n",
            " [0.60220415 0.26822014]]\n"
          ]
        }
      ]
    },
    {
      "cell_type": "code",
      "source": [
        "#3\n",
        "import numpy as np\n",
        "\n",
        "a = np.arange(15).reshape(3, 5)   # np.arange(15) → [0,1,2,...,14], reshape(3,5) → 3 hàng 5 cột\n",
        "print(a)\n"
      ],
      "metadata": {
        "colab": {
          "base_uri": "https://localhost:8080/"
        },
        "id": "m27F5fhCle4N",
        "outputId": "149b29a4-4fb0-4fcf-82cf-1c102fcd21d2"
      },
      "execution_count": 11,
      "outputs": [
        {
          "output_type": "stream",
          "name": "stdout",
          "text": [
            "[[ 0  1  2  3  4]\n",
            " [ 5  6  7  8  9]\n",
            " [10 11 12 13 14]]\n"
          ]
        }
      ]
    },
    {
      "cell_type": "code",
      "source": [
        "print(a.shape)      # Kích thước mảng → (3, 5) → 3 hàng, 5 cột"
      ],
      "metadata": {
        "id": "7bfWD9MpoIr8",
        "outputId": "bcf1d3e1-c6d3-4fb2-8c2b-e14eb8b1a2af",
        "colab": {
          "base_uri": "https://localhost:8080/"
        }
      },
      "execution_count": 12,
      "outputs": [
        {
          "output_type": "stream",
          "name": "stdout",
          "text": [
            "(3, 5)\n"
          ]
        }
      ]
    },
    {
      "cell_type": "code",
      "source": [
        "print(a.ndim)       # Số chiều của mảng → 2 (2D array)"
      ],
      "metadata": {
        "id": "DlOuC0vnoiw1",
        "outputId": "d8df97c6-acd9-47d5-d8ab-4086d026c8b6",
        "colab": {
          "base_uri": "https://localhost:8080/"
        }
      },
      "execution_count": 13,
      "outputs": [
        {
          "output_type": "stream",
          "name": "stdout",
          "text": [
            "2\n"
          ]
        }
      ]
    },
    {
      "cell_type": "code",
      "source": [
        "print(a.dtype.name) # Kiểu dữ liệu của phần tử → 'int64' hoặc 'int32' tùy hệ thống"
      ],
      "metadata": {
        "id": "5l6PkEN9om_R",
        "outputId": "ea8734a6-1df4-4158-af02-04a97ef21bb7",
        "colab": {
          "base_uri": "https://localhost:8080/"
        }
      },
      "execution_count": 14,
      "outputs": [
        {
          "output_type": "stream",
          "name": "stdout",
          "text": [
            "int64\n"
          ]
        }
      ]
    },
    {
      "cell_type": "markdown",
      "source": [
        "**NUMPY ndarrray: MULTIDIMENSIANAL ARRAY OBJECT**"
      ],
      "metadata": {
        "id": "8sW_6pwwo1z6"
      }
    },
    {
      "cell_type": "markdown",
      "source": [
        "*One - dimensional Array (1-D Array)*"
      ],
      "metadata": {
        "id": "0kSzDsTAo95B"
      }
    },
    {
      "cell_type": "code",
      "source": [
        "import numpy as np\n",
        "\n",
        "a = np.array([1, 2, 3, 4, 5])  # Tạo numpy array 1D từ list Python\n",
        "print(a)                        # In mảng ra: [1 2 3 4 5]\n"
      ],
      "metadata": {
        "id": "szbKJMeaoqBd",
        "outputId": "8400a6c9-351e-4774-9455-4fa116106af4",
        "colab": {
          "base_uri": "https://localhost:8080/"
        }
      },
      "execution_count": 15,
      "outputs": [
        {
          "output_type": "stream",
          "name": "stdout",
          "text": [
            "[1 2 3 4 5]\n"
          ]
        }
      ]
    },
    {
      "cell_type": "markdown",
      "source": [
        "*Two-dimensional Array (2-D Array)*"
      ],
      "metadata": {
        "id": "hpoVTY3GpNqK"
      }
    },
    {
      "cell_type": "code",
      "source": [
        "#tạo một mảng NumPy 2 chiều 4x5\n",
        "import numpy as np\n",
        "\n",
        "a = np.array([\n",
        "    [1, 2, 3, 4, 5],\n",
        "    [6, 7, 8, 9, 10],\n",
        "    [11, 12, 13, 14, 15],\n",
        "    [16, 17, 18, 19, 20]\n",
        "])  # Tạo mảng 2D 4 hàng, 5 cột\n",
        "\n",
        "print(a)\n"
      ],
      "metadata": {
        "id": "t3lkpTU5pKpr",
        "outputId": "8cb80550-0278-4e0d-da31-38a43e732f13",
        "colab": {
          "base_uri": "https://localhost:8080/"
        }
      },
      "execution_count": 16,
      "outputs": [
        {
          "output_type": "stream",
          "name": "stdout",
          "text": [
            "[[ 1  2  3  4  5]\n",
            " [ 6  7  8  9 10]\n",
            " [11 12 13 14 15]\n",
            " [16 17 18 19 20]]\n"
          ]
        }
      ]
    },
    {
      "cell_type": "code",
      "source": [
        "#tạo một mảng NumPy 2 chiều 3x4\n",
        "import numpy as np\n",
        "\n",
        "a = np.array([\n",
        "    [0, 1, 2, 3],\n",
        "    [10, 11, 12, 13],\n",
        "    [20, 21, 22, 23]\n",
        "])  # Mảng 2D 3 hàng, 4 cột\n",
        "\n",
        "print(a)\n"
      ],
      "metadata": {
        "id": "Gqwjc1gPpWh-",
        "outputId": "7834cb96-d72a-4bb4-edc8-84758c3b7dd2",
        "colab": {
          "base_uri": "https://localhost:8080/"
        }
      },
      "execution_count": 17,
      "outputs": [
        {
          "output_type": "stream",
          "name": "stdout",
          "text": [
            "[[ 0  1  2  3]\n",
            " [10 11 12 13]\n",
            " [20 21 22 23]]\n"
          ]
        }
      ]
    },
    {
      "cell_type": "code",
      "source": [
        "print(a.ndim)       # Số chiều của mảng → 2 (2D array)"
      ],
      "metadata": {
        "id": "CrAKmcjbtJmj",
        "outputId": "92878aba-acd6-4da9-e956-e370a4cb0d6f",
        "colab": {
          "base_uri": "https://localhost:8080/"
        }
      },
      "execution_count": 18,
      "outputs": [
        {
          "output_type": "stream",
          "name": "stdout",
          "text": [
            "2\n"
          ]
        }
      ]
    },
    {
      "cell_type": "code",
      "source": [
        "print(a.shape)      # Kích thước mảng → (3, 4) → 3 hàng, 4 cột"
      ],
      "metadata": {
        "id": "5UuzHw-qtgKN",
        "outputId": "b0d39eb6-33a0-4e03-dae5-06b858665d9c",
        "colab": {
          "base_uri": "https://localhost:8080/"
        }
      },
      "execution_count": 19,
      "outputs": [
        {
          "output_type": "stream",
          "name": "stdout",
          "text": [
            "(3, 4)\n"
          ]
        }
      ]
    },
    {
      "cell_type": "markdown",
      "source": [
        "**PANDAS**"
      ],
      "metadata": {
        "id": "fXZEQgVBtnIR"
      }
    },
    {
      "cell_type": "markdown",
      "source": [
        "*Creating pd.DataFrame* : tạo một DataFrame bằng pandas\n",
        "\n"
      ],
      "metadata": {
        "id": "gi-8AqM8uBUA"
      }
    },
    {
      "cell_type": "code",
      "source": [
        "import pandas as pd\n",
        "\n",
        "df = pd.DataFrame(\n",
        "    {\n",
        "        \"a\": [4, 5, 6],   # cột a\n",
        "        \"b\": [7, 8, 9],   # cột b\n",
        "        \"c\": [10, 11, 12] # cột c\n",
        "    },\n",
        "    index=[1, 2, 3]       # đặt chỉ số hàng là 1, 2, 3\n",
        ")\n",
        "\n",
        "print(df)\n"
      ],
      "metadata": {
        "id": "CoaF6LBLtijd",
        "outputId": "c4669ed3-ae82-4785-b54d-33f814c27586",
        "colab": {
          "base_uri": "https://localhost:8080/"
        }
      },
      "execution_count": 20,
      "outputs": [
        {
          "output_type": "stream",
          "name": "stdout",
          "text": [
            "   a  b   c\n",
            "1  4  7  10\n",
            "2  5  8  11\n",
            "3  6  9  12\n"
          ]
        }
      ]
    },
    {
      "cell_type": "code",
      "source": [
        "print(type(df)) #dùng để kiểm tra kiểu dữ liệu của đối tượng df"
      ],
      "metadata": {
        "id": "jI7xjHLDuOaD",
        "outputId": "59d55142-f9d0-461f-90f3-65cb8320bbf5",
        "colab": {
          "base_uri": "https://localhost:8080/"
        }
      },
      "execution_count": 22,
      "outputs": [
        {
          "output_type": "stream",
          "name": "stdout",
          "text": [
            "<class 'pandas.core.frame.DataFrame'>\n"
          ]
        }
      ]
    },
    {
      "cell_type": "markdown",
      "source": [
        "*import các thư viện Python phổ biến:*"
      ],
      "metadata": {
        "id": "St6oajFpvGjX"
      }
    },
    {
      "cell_type": "code",
      "source": [
        "import numpy as np          # thư viện xử lý mảng và tính toán số học\n",
        "import pandas as pd         # thư viện xử lý dữ liệu dạng bảng (DataFrame)\n",
        "import matplotlib.pyplot as plt  # thư viện vẽ đồ thị 2D\n",
        "\n",
        "print('pandas imported')   # in thông báo"
      ],
      "metadata": {
        "id": "q-4IDVgouRoG"
      },
      "execution_count": null,
      "outputs": []
    },
    {
      "cell_type": "markdown",
      "source": [
        "*Tạo một pandas Series, tức là một mảng 1 chiều có nhãn (index):*"
      ],
      "metadata": {
        "id": "ce4eNZ2PvV7z"
      }
    },
    {
      "cell_type": "code",
      "source": [
        "import numpy as np\n",
        "import pandas as pd\n",
        "\n",
        "s = pd.Series([1, 3, 5, np.nan, 6, 8])  # Tạo Series 1D với giá trị NaN\n",
        "print(s)"
      ],
      "metadata": {
        "id": "Rz3KdtvwvSVZ",
        "outputId": "500f77bf-d7a0-4a80-937b-b5516a78b2d0",
        "colab": {
          "base_uri": "https://localhost:8080/"
        }
      },
      "execution_count": 23,
      "outputs": [
        {
          "output_type": "stream",
          "name": "stdout",
          "text": [
            "0    1.0\n",
            "1    3.0\n",
            "2    5.0\n",
            "3    NaN\n",
            "4    6.0\n",
            "5    8.0\n",
            "dtype: float64\n"
          ]
        }
      ]
    },
    {
      "cell_type": "markdown",
      "source": [
        "*tạo một chuỗi các ngày liên tiếp (DatetimeIndex) trong pandas:*"
      ],
      "metadata": {
        "id": "bSPgX8MEvjrD"
      }
    },
    {
      "cell_type": "code",
      "source": [
        "import pandas as pd\n",
        "\n",
        "dates = pd.date_range('20181001', periods=6)  # Tạo 6 ngày liên tiếp từ 1/10/2018\n",
        "print(dates)\n"
      ],
      "metadata": {
        "id": "MYx12SlRvb1m",
        "outputId": "0fdc628b-a902-4484-de69-6cd8cf0f8775",
        "colab": {
          "base_uri": "https://localhost:8080/"
        }
      },
      "execution_count": 24,
      "outputs": [
        {
          "output_type": "stream",
          "name": "stdout",
          "text": [
            "DatetimeIndex(['2018-10-01', '2018-10-02', '2018-10-03', '2018-10-04',\n",
            "               '2018-10-05', '2018-10-06'],\n",
            "              dtype='datetime64[ns]', freq='D')\n"
          ]
        }
      ]
    },
    {
      "cell_type": "markdown",
      "source": [
        "*Tạo một DataFrame 6x4 với số ngẫu nhiên, sử dụng dates làm index và A,B,C,D làm tên cột:*"
      ],
      "metadata": {
        "id": "UBemVv99vztL"
      }
    },
    {
      "cell_type": "code",
      "source": [
        "import numpy as np\n",
        "import pandas as pd\n",
        "\n",
        "dates = pd.date_range('20181001', periods=6)          # 6 ngày liên tiếp\n",
        "df = pd.DataFrame(\n",
        "    np.random.randn(6,4),                             # mảng 6x4 số ngẫu nhiên theo chuẩn Gaussian\n",
        "    index=dates,                                      # đặt index là ngày\n",
        "    columns=list('ABCD')                              # đặt tên cột là A, B, C, D\n",
        ")\n",
        "\n",
        "print(df)\n"
      ],
      "metadata": {
        "id": "DN5kP5vhvk2z",
        "outputId": "91f061ff-1eff-4a18-ded4-a1d13c544f8e",
        "colab": {
          "base_uri": "https://localhost:8080/"
        }
      },
      "execution_count": 25,
      "outputs": [
        {
          "output_type": "stream",
          "name": "stdout",
          "text": [
            "                   A         B         C         D\n",
            "2018-10-01  0.420142  0.488045 -0.054783  0.106483\n",
            "2018-10-02  2.398920  1.408621  0.398770 -0.056719\n",
            "2018-10-03 -0.057262  1.052898 -0.591571 -0.048362\n",
            "2018-10-04  0.618580 -1.720417 -1.102944  0.524941\n",
            "2018-10-05  0.957799  0.551558 -0.831278  0.477363\n",
            "2018-10-06 -1.395034  0.931376  0.650433  0.434298\n"
          ]
        }
      ]
    },
    {
      "cell_type": "markdown",
      "source": [
        "*Tạo một DataFrame 3x5 với số ngẫu nhiên, dùng tên học sinh làm index và A, B, C, D, E làm cột:*"
      ],
      "metadata": {
        "id": "d26rW3vlv-8x"
      }
    },
    {
      "cell_type": "code",
      "source": [
        "import numpy as np\n",
        "import pandas as pd\n",
        "\n",
        "df = pd.DataFrame(\n",
        "    np.random.randn(3,5),                    # mảng 3x5 số ngẫu nhiên theo chuẩn Gaussian\n",
        "    index=['student1','student2','student3'], # tên hàng là học sinh\n",
        "    columns=list('ABCDE')                     # tên cột là A, B, C, D, E\n",
        ")\n",
        "\n",
        "print(df)\n"
      ],
      "metadata": {
        "id": "yeZWDP5-v2zL",
        "outputId": "960def09-7985-4111-be0d-c86981f9ffd0",
        "colab": {
          "base_uri": "https://localhost:8080/"
        }
      },
      "execution_count": 26,
      "outputs": [
        {
          "output_type": "stream",
          "name": "stdout",
          "text": [
            "                 A         B         C         D         E\n",
            "student1  1.872237  1.073776 -0.027718 -1.444828 -0.595844\n",
            "student2  0.345859 -0.551706  0.861977  0.869571  1.044340\n",
            "student3  0.767862  1.033611  1.160316 -1.107440  0.339227\n"
          ]
        }
      ]
    },
    {
      "cell_type": "markdown",
      "source": [
        "*Tạo một DataFrame pandas với nhiều kiểu dữ liệu khác nhau:*"
      ],
      "metadata": {
        "id": "dFFjEiAewOD7"
      }
    },
    {
      "cell_type": "code",
      "source": [
        "import numpy as np\n",
        "import pandas as pd\n",
        "\n",
        "df2 = pd.DataFrame({\n",
        "    'A': 1.,                                  # float\n",
        "    'B': pd.Timestamp('20181001'),            # kiểu datetime\n",
        "    'C': pd.Series(2.5, index=list(range(4)), dtype='float32'),  # Series float32\n",
        "    'D': np.array([3]*4, dtype='int32'),      # mảng int32\n",
        "    'E': pd.Categorical([\"test\",\"train\",\"test\",\"train\"]), # Categorical\n",
        "    'F': 'foo'                                # string\n",
        "})\n",
        "\n",
        "print(df2)\n"
      ],
      "metadata": {
        "id": "a2UrqKMCwBPA",
        "outputId": "0ba9c35c-039d-421d-d764-ac15b0d6517e",
        "colab": {
          "base_uri": "https://localhost:8080/"
        }
      },
      "execution_count": 27,
      "outputs": [
        {
          "output_type": "stream",
          "name": "stdout",
          "text": [
            "     A          B    C  D      E    F\n",
            "0  1.0 2018-10-01  2.5  3   test  foo\n",
            "1  1.0 2018-10-01  2.5  3  train  foo\n",
            "2  1.0 2018-10-01  2.5  3   test  foo\n",
            "3  1.0 2018-10-01  2.5  3  train  foo\n"
          ]
        }
      ]
    },
    {
      "cell_type": "code",
      "source": [
        "df2.dtypes  # Kiểm tra kiểu dữ liệu từng cột\n"
      ],
      "metadata": {
        "id": "wMrLbN6RwQIa",
        "outputId": "579a99ca-aeb8-4264-ee4d-c873b54d0d9e",
        "colab": {
          "base_uri": "https://localhost:8080/",
          "height": 272
        }
      },
      "execution_count": 28,
      "outputs": [
        {
          "output_type": "execute_result",
          "data": {
            "text/plain": [
              "A          float64\n",
              "B    datetime64[s]\n",
              "C          float32\n",
              "D            int32\n",
              "E         category\n",
              "F           object\n",
              "dtype: object"
            ],
            "text/html": [
              "<div>\n",
              "<style scoped>\n",
              "    .dataframe tbody tr th:only-of-type {\n",
              "        vertical-align: middle;\n",
              "    }\n",
              "\n",
              "    .dataframe tbody tr th {\n",
              "        vertical-align: top;\n",
              "    }\n",
              "\n",
              "    .dataframe thead th {\n",
              "        text-align: right;\n",
              "    }\n",
              "</style>\n",
              "<table border=\"1\" class=\"dataframe\">\n",
              "  <thead>\n",
              "    <tr style=\"text-align: right;\">\n",
              "      <th></th>\n",
              "      <th>0</th>\n",
              "    </tr>\n",
              "  </thead>\n",
              "  <tbody>\n",
              "    <tr>\n",
              "      <th>A</th>\n",
              "      <td>float64</td>\n",
              "    </tr>\n",
              "    <tr>\n",
              "      <th>B</th>\n",
              "      <td>datetime64[s]</td>\n",
              "    </tr>\n",
              "    <tr>\n",
              "      <th>C</th>\n",
              "      <td>float32</td>\n",
              "    </tr>\n",
              "    <tr>\n",
              "      <th>D</th>\n",
              "      <td>int32</td>\n",
              "    </tr>\n",
              "    <tr>\n",
              "      <th>E</th>\n",
              "      <td>category</td>\n",
              "    </tr>\n",
              "    <tr>\n",
              "      <th>F</th>\n",
              "      <td>object</td>\n",
              "    </tr>\n",
              "  </tbody>\n",
              "</table>\n",
              "</div><br><label><b>dtype:</b> object</label>"
            ]
          },
          "metadata": {},
          "execution_count": 28
        }
      ]
    },
    {
      "cell_type": "markdown",
      "source": [
        "**PYTHON FINANCE APPLICATION WITH PANDAS**"
      ],
      "metadata": {
        "id": "LTjUvhqdw0Dv"
      }
    },
    {
      "cell_type": "markdown",
      "source": [
        "*Tạo một sổ cái đơn giản bằng pandas để quản lý các giao dịch tài chính, cho phép thêm giao dịch, xem sổ, và tính số dư hiện tại:*"
      ],
      "metadata": {
        "id": "1kp7O4N2xK-S"
      }
    },
    {
      "cell_type": "code",
      "source": [
        "import pandas as pd\n",
        "\n",
        "# Tạo DataFrame để lưu các giao dịch\n",
        "columns = ['Date', 'Description', 'Amount']\n",
        "ledger = pd.DataFrame(columns=columns)  # DataFrame rỗng với các cột Date, Description, Amount\n",
        "\n",
        "# Hàm thêm giao dịch vào sổ\n",
        "def add_transaction(date, description, amount):\n",
        "    global ledger\n",
        "    new_transaction = pd.DataFrame([[date, description, amount]], columns=columns)  # Tạo 1 DataFrame 1 hàng\n",
        "    ledger = pd.concat([ledger, new_transaction], ignore_index=True)  # Nối vào ledger, reset index\n",
        "\n",
        "# Hàm xem sổ giao dịch\n",
        "def view_ledger():\n",
        "    print(ledger)  # In toàn bộ ledger\n",
        "\n",
        "# Hàm tính số dư hiện tại\n",
        "def get_balance():\n",
        "    return ledger['Amount'].sum()  # Tổng cột Amount\n",
        "\n",
        "# Thêm các giao dịch mẫu\n",
        "add_transaction('2023-11-01', 'Income', 1000)       # Thu nhập +1000\n",
        "add_transaction('2023-11-02', 'Groceries', -200)    # Chi tiêu -200\n",
        "add_transaction('2023-11-03', 'Utilities', -100)    # Chi tiêu -100\n",
        "\n",
        "# Xem sổ giao dịch\n",
        "view_ledger()\n",
        "\n",
        "# Kiểm tra số dư hiện tại\n",
        "print(\"Current Balance:\", get_balance())  # Output: 700\n"
      ],
      "metadata": {
        "id": "W59Iu7iowtlT",
        "outputId": "8e8346c0-845d-4ec8-baca-c8918021a16d",
        "colab": {
          "base_uri": "https://localhost:8080/"
        }
      },
      "execution_count": 29,
      "outputs": [
        {
          "output_type": "stream",
          "name": "stdout",
          "text": [
            "         Date Description Amount\n",
            "0  2023-11-01      Income   1000\n",
            "1  2023-11-02   Groceries   -200\n",
            "2  2023-11-03   Utilities   -100\n",
            "Current Balance: 700\n"
          ]
        }
      ]
    },
    {
      "cell_type": "code",
      "source": [],
      "metadata": {
        "id": "CrOOCTchxQGP"
      },
      "execution_count": null,
      "outputs": []
    }
  ]
}
{
  "nbformat": 4,
  "nbformat_minor": 0,
  "metadata": {
    "colab": {
      "provenance": [],
      "authorship_tag": "ABX9TyN4meoA7UvhFdRgQ1B3g0FB",
      "include_colab_link": true
    },
    "kernelspec": {
      "name": "python3",
      "display_name": "Python 3"
    },
    "language_info": {
      "name": "python"
    }
  },
  "cells": [
    {
      "cell_type": "markdown",
      "metadata": {
        "id": "view-in-github",
        "colab_type": "text"
      },
      "source": [
        "<a href=\"https://colab.research.google.com/github/Mint0511/Data-analytics/blob/main/lab2_NguyenVanMinh_3122410242%20/%20slide_03_code.ipynb\" target=\"_parent\"><img src=\"https://colab.research.google.com/assets/colab-badge.svg\" alt=\"Open In Colab\"/></a>"
      ]
    },
    {
      "cell_type": "markdown",
      "source": [
        "# **DATA ANALYTICS AND VISUALIZATION WITH PYTHON**"
      ],
      "metadata": {
        "id": "MXm5-9NViMLA"
      }
    },
    {
      "cell_type": "markdown",
      "source": [
        "**NUMPY**"
      ],
      "metadata": {
        "id": "g7UjaKQoiUw-"
      }
    },
    {
      "cell_type": "code",
      "execution_count": 3,
      "metadata": {
        "id": "vnAPXBV_fobz",
        "outputId": "00f59c1b-5760-48bd-f228-cf8d9521b7d7",
        "colab": {
          "base_uri": "https://localhost:8080/"
        }
      },
      "outputs": [
        {
          "output_type": "stream",
          "name": "stdout",
          "text": [
            "[1, 2, 3, 4, 5]\n"
          ]
        }
      ],
      "source": [
        "# Tạo danh sách Python\n",
        "v = list(range(1, 6))  # Tạo list: [1, 2, 3, 4, 5]\n",
        "print(v)"
      ]
    },
    {
      "cell_type": "code",
      "source": [
        "# Nhân list với 2\n",
        "print(2 * v)  # [1,2,3,4,5,1,2,3,4,5] → Python list nhân với số → lặp lại danh sách"
      ],
      "metadata": {
        "id": "ikx5nAgLimUz",
        "outputId": "94f03457-4a8c-4f12-a0cb-dc134e2a4f71",
        "colab": {
          "base_uri": "https://localhost:8080/"
        }
      },
      "execution_count": 4,
      "outputs": [
        {
          "output_type": "stream",
          "name": "stdout",
          "text": [
            "[1, 2, 3, 4, 5, 1, 2, 3, 4, 5]\n"
          ]
        }
      ]
    },
    {
      "cell_type": "code",
      "source": [
        "# Dùng NumPy để tạo mảng\n",
        "import numpy as np\n",
        "v = np.arange(1, 6)  # Tạo numpy array: [1 2 3 4 5]\n",
        "print(v)"
      ],
      "metadata": {
        "id": "z81PjfnNi5-N",
        "outputId": "5bb749e1-6d0f-420f-fa47-e712686e3447",
        "colab": {
          "base_uri": "https://localhost:8080/"
        }
      },
      "execution_count": 5,
      "outputs": [
        {
          "output_type": "stream",
          "name": "stdout",
          "text": [
            "[1 2 3 4 5]\n"
          ]
        }
      ]
    },
    {
      "cell_type": "code",
      "source": [
        "# Nhân mảng với 2\n",
        "print(2 * v)  # [ 2  4  6  8 10 ] → NumPy array nhân với số → nhân từng phần tử"
      ],
      "metadata": {
        "id": "l8RTtuG-i9Fg",
        "outputId": "448785b4-4986-4250-c359-3e3a28a78b51",
        "colab": {
          "base_uri": "https://localhost:8080/"
        }
      },
      "execution_count": 6,
      "outputs": [
        {
          "output_type": "stream",
          "name": "stdout",
          "text": [
            "[ 2  4  6  8 10]\n"
          ]
        }
      ]
    },
    {
      "cell_type": "markdown",
      "source": [
        "**PYTHON DATA STRUCTURES**"
      ],
      "metadata": {
        "id": "i6H8AyikjBro"
      }
    },
    {
      "cell_type": "code",
      "source": [
        "# Python Collections\n",
        "\n",
        "fruits = [\"apple\", \"banana\", \"cherry\"]      # List: có thứ tự, thay đổi được, cho phép trùng lặp\n",
        "colors = (\"red\", \"green\", \"blue\")           # Tuple: có thứ tự, không thay đổi được, cho phép trùng lặp\n",
        "animals = {'cat', 'dog'}                    # Set: không có thứ tự, không trùng lặp, không thay đổi được\n",
        "person = {\"name\": \"Tom\", \"age\": 20}         # Dictionary: key-value, có thứ tự (Python 3.7+), key không trùng lặp\n"
      ],
      "metadata": {
        "id": "iw_4HwX6jGZ3"
      },
      "execution_count": 7,
      "outputs": []
    },
    {
      "cell_type": "markdown",
      "source": [
        "**`List[]`**"
      ],
      "metadata": {
        "id": "jnuWX1icjSs9"
      }
    },
    {
      "cell_type": "code",
      "source": [
        "# Tạo list\n",
        "x = [60, 70, 80, 90]\n",
        "\n",
        "# Độ dài của list\n",
        "print(len(x))   # 4 → có 4 phần tử\n",
        "\n",
        "# Truy cập phần tử theo chỉ số\n",
        "print(x[0])     # 60 → phần tử đầu tiên\n",
        "print(x[1])     # 70 → phần tử thứ hai\n",
        "print(x[-1])    # 90 → phần tử cuối cùng (dùng chỉ số âm)\n"
      ],
      "metadata": {
        "id": "URy4c2YbjAFt",
        "outputId": "18d26512-9ef0-4b82-c8de-eb3640cd8ef2",
        "colab": {
          "base_uri": "https://localhost:8080/"
        }
      },
      "execution_count": 8,
      "outputs": [
        {
          "output_type": "stream",
          "name": "stdout",
          "text": [
            "4\n",
            "60\n",
            "70\n",
            "90\n"
          ]
        }
      ]
    },
    {
      "cell_type": "markdown",
      "source": [
        "**NUMPY CREATE ARRAY**"
      ],
      "metadata": {
        "id": "Cy6BTL6ijlhD"
      }
    },
    {
      "cell_type": "code",
      "source": [
        "import numpy as np\n",
        "\n",
        "# Tạo 2 mảng NumPy\n",
        "a = np.array([1, 2, 3])\n",
        "b = np.array([4, 5, 6])\n",
        "\n",
        "# Nhân từng phần tử\n",
        "c = a * b\n",
        "print(c)  # Output: [ 4 10 18 ]\n"
      ],
      "metadata": {
        "id": "MvpAa_LHjkKc",
        "outputId": "12077cf7-f575-499b-a7fc-2b5ef15dca35",
        "colab": {
          "base_uri": "https://localhost:8080/"
        }
      },
      "execution_count": 9,
      "outputs": [
        {
          "output_type": "stream",
          "name": "stdout",
          "text": [
            "[ 4 10 18]\n"
          ]
        }
      ]
    },
    {
      "cell_type": "code",
      "source": [
        "import numpy as np\n",
        "\n",
        "a = np.zeros((2,2))           # Mảng 2x2 toàn số 0 → [[0. 0.]\n",
        "                               #                      [0. 0.]]\n",
        "print(a)\n",
        "\n",
        "b = np.ones((1,2))            # Mảng 1x2 toàn số 1 → [[1. 1.]]\n",
        "print(b)\n",
        "\n",
        "c = np.full((2,2), 7)         # Mảng 2x2 toàn số 7 → [[7 7]\n",
        "                               #                      [7 7]]\n",
        "print(c)\n",
        "\n",
        "d = np.eye(2)                 # Ma trận đơn vị 2x2 → [[1. 0.]\n",
        "                               #                      [0. 1.]]\n",
        "print(d)\n",
        "\n",
        "e = np.random.random((2,2))   # Mảng 2x2 số ngẫu nhiên, ví dụ in ra: [[0.37454012 0.95071431]\n",
        "                               #                                      [0.73199394 0.59865848]]\n",
        "print(e)\n"
      ],
      "metadata": {
        "id": "Ld4pqpisjv3c",
        "outputId": "690d0d6d-2e5a-468a-8db6-6b7700f66bf4",
        "colab": {
          "base_uri": "https://localhost:8080/"
        }
      },
      "execution_count": 10,
      "outputs": [
        {
          "output_type": "stream",
          "name": "stdout",
          "text": [
            "[[0. 0.]\n",
            " [0. 0.]]\n",
            "[[1. 1.]]\n",
            "[[7 7]\n",
            " [7 7]]\n",
            "[[1. 0.]\n",
            " [0. 1.]]\n",
            "[[0.3280482  0.99918131]\n",
            " [0.60220415 0.26822014]]\n"
          ]
        }
      ]
    },
    {
      "cell_type": "code",
      "source": [],
      "metadata": {
        "id": "m27F5fhCle4N"
      },
      "execution_count": null,
      "outputs": []
    }
  ]
}
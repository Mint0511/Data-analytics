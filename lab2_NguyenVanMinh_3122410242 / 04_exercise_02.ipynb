{
  "cells": [
    {
      "cell_type": "markdown",
      "metadata": {
        "id": "view-in-github",
        "colab_type": "text"
      },
      "source": [
        "<a href=\"https://colab.research.google.com/github/Mint0511/Data-analytics/blob/main/lab2_NguyenVanMinh_3122410242%20/%2004_exercise_02.ipynb\" target=\"_parent\"><img src=\"https://colab.research.google.com/assets/colab-badge.svg\" alt=\"Open In Colab\"/></a>"
      ]
    },
    {
      "cell_type": "markdown",
      "id": "154c8525-a8b1-4532-8b8c-a6048596e61b",
      "metadata": {
        "id": "154c8525-a8b1-4532-8b8c-a6048596e61b"
      },
      "source": [
        "# Kỹ thuật lập trình Python"
      ]
    },
    {
      "cell_type": "markdown",
      "id": "bff7ceae-0971-41e5-9ad6-a25c303fecab",
      "metadata": {
        "id": "bff7ceae-0971-41e5-9ad6-a25c303fecab"
      },
      "source": [
        "## Làm quen với Numpy"
      ]
    },
    {
      "cell_type": "markdown",
      "id": "bda2fb69-42db-4a12-8b57-7b4815510961",
      "metadata": {
        "id": "bda2fb69-42db-4a12-8b57-7b4815510961"
      },
      "source": [
        "### Bài 1. Tính toán trên dãy số"
      ]
    },
    {
      "cell_type": "markdown",
      "id": "04e6a456-6793-4645-b159-426121c860a6",
      "metadata": {
        "id": "04e6a456-6793-4645-b159-426121c860a6"
      },
      "source": [
        "#### 1. Tạo một dãy số a có N phần tử (N = 10)"
      ]
    },
    {
      "cell_type": "code",
      "execution_count": 5,
      "id": "bac1a84b-a496-40c6-962e-97c0acaf7d8e",
      "metadata": {
        "id": "bac1a84b-a496-40c6-962e-97c0acaf7d8e",
        "outputId": "b80cf049-a145-4b12-fb46-35e94517bdc5",
        "colab": {
          "base_uri": "https://localhost:8080/"
        }
      },
      "outputs": [
        {
          "output_type": "stream",
          "name": "stdout",
          "text": [
            "1. Tạo một dãy số a có N phần tử (N = 10)\n",
            "Day so a:  [261 855 763 421 222 158 883 818 135  40]\n"
          ]
        }
      ],
      "source": [
        "import numpy as np # Khai báo thư viện numpy\n",
        "\n",
        "print(\"1. Tạo một dãy số a có N phần tử (N = 10)\")\n",
        "N = 10\n",
        "a = np.random.randint(0, 1000, size=N)\n",
        "\n",
        "print(\"Day so a: \", a)"
      ]
    },
    {
      "cell_type": "markdown",
      "id": "4d85d8e2-16ff-42d1-acda-97e62736aaf6",
      "metadata": {
        "id": "4d85d8e2-16ff-42d1-acda-97e62736aaf6"
      },
      "source": [
        "#### 2. Các thao tác trên dãy số a\n",
        "(a) Bình phương các phần tử trong dãy số <br/>\n",
        "(b) Tìm số lượng các phần tử của dãy số <br/>\n",
        "(c) In ra giá trị lớn nhất, giá trị nhỏ nhất và giá trị trung bình <br/>\n",
        "(d) Tính phương sai của dãy số $\\sigma^2 = \\frac{\\sum{\\left(a_i - \\mu\\right)^2}}{N - 1}$ với $\\mu = \\frac{\\sum{a_i}}{N}$ và độ lệch chuẩn $var = \\sqrt{\\sigma^2}$"
      ]
    },
    {
      "cell_type": "code",
      "execution_count": 6,
      "id": "5d245b5b-90d5-48bf-b870-fc7c2deecd12",
      "metadata": {
        "id": "5d245b5b-90d5-48bf-b870-fc7c2deecd12",
        "outputId": "fef441e9-179e-4b2f-cff6-8bb240c9cd01",
        "colab": {
          "base_uri": "https://localhost:8080/"
        }
      },
      "outputs": [
        {
          "output_type": "stream",
          "name": "stdout",
          "text": [
            "2. Các thao tác tính toán đơn giản với dãy số a\n",
            "a. Binh phuong a:  [ 68121 731025 582169 177241  49284  24964 779689 669124  18225   1600]\n",
            "\n",
            "b. Do dai a:  10\n",
            "\n",
            "c. Gia tri lon nhat: [883], gia tri nho nhat: [40], gia tri trung binh [455.6]\n",
            "\n",
            "d. Phuong sai: [ 113969.82] va do lech chuan: [ 337.59]\n"
          ]
        }
      ],
      "source": [
        "print(\"2. Các thao tác tính toán đơn giản với dãy số a\")\n",
        "a2 = a**2\n",
        "na = len(a)\n",
        "\n",
        "print(\"a. Binh phuong a: \", a2)\n",
        "print(\"\\nb. Do dai a: \", na)\n",
        "\n",
        "v_max = a.max()\n",
        "v_min = a.min()\n",
        "v_avg = a.mean()\n",
        "\n",
        "print(f'\\nc. Gia tri lon nhat: [{v_max}], gia tri nho nhat: [{v_min}], gia tri trung binh [{v_avg}]')\n",
        "\n",
        "v_sigma2 = ((a - v_avg)**2).sum() / (na - 1)\n",
        "v_var = v_sigma2**0.5\n",
        "\n",
        "print(f'\\nd. Phuong sai: [{v_sigma2: .2f}] va do lech chuan: [{v_var: .2f}]')"
      ]
    },
    {
      "cell_type": "markdown",
      "id": "1b582e22-cc99-4933-892b-e0d83672fb7f",
      "metadata": {
        "id": "1b582e22-cc99-4933-892b-e0d83672fb7f"
      },
      "source": [
        "#### 3. Toán tử trên hai dãy số\n",
        "(a) Tạo dãy số x có 10 phần tử từ 1 đến 10 (dùng hàm np.arange) <br/>\n",
        "(b) Liệt kê và đếm số lượng phần tử chẵn và lẻ có trong dãy a và x <br/>\n",
        "(c) Tính khoảng cách giữa các phần tử ở vị trí lẻ của mảng a và x với $s = \\sqrt{\\sum{\\left(a_i - x_i\\right)^2}}$ với $i$ lẻ<br/>\n",
        "(d) Tìm khoảng cách nhỏ nhất giữa tập a và x. Ví dụ: min({1, 3, 5}, {2, 10, 8}} = 1"
      ]
    },
    {
      "cell_type": "code",
      "execution_count": 7,
      "id": "1c6f51c1-ac3d-46a8-ab35-0d087877fb9d",
      "metadata": {
        "id": "1c6f51c1-ac3d-46a8-ab35-0d087877fb9d",
        "outputId": "c37a81d5-703a-467c-d29b-97ae8b9a2675",
        "colab": {
          "base_uri": "https://localhost:8080/"
        }
      },
      "outputs": [
        {
          "output_type": "stream",
          "name": "stdout",
          "text": [
            "3. Xử lý khác trên dãy số\n",
            "a. Day so x: [ 1  2  3  4  5  6  7  8  9 10]\n"
          ]
        }
      ],
      "source": [
        "print(\"3. Xử lý khác trên dãy số\")\n",
        "x = np.arange(1, 11)\n",
        "\n",
        "print(f'a. Day so x: {x}')"
      ]
    },
    {
      "cell_type": "code",
      "execution_count": 8,
      "id": "13211d38-0008-49ba-ac7b-c4ea034d12f4",
      "metadata": {
        "id": "13211d38-0008-49ba-ac7b-c4ea034d12f4",
        "outputId": "e6c767c6-ac37-453a-b4da-5c0d999d10fa",
        "colab": {
          "base_uri": "https://localhost:8080/"
        }
      },
      "outputs": [
        {
          "output_type": "stream",
          "name": "stdout",
          "text": [
            "b. Cac phan tu chan trong day a, b: \n",
            "+ Day a: [261 855 763 421 222 158 883 818 135  40]\n",
            "  - Loc chan: [261 855 763 421 883 135]\n",
            "  - Day chua phan tu chan trong a: [222 158 818  40], so luong 4 phan tu.\n",
            "+ Day x: [ 1  2  3  4  5  6  7  8  9 10]\n",
            "  - Loc chan: [1 3 5 7 9]\n",
            "  - Day chua phan tu chan trong a: [ 2  4  6  8 10], so luong 5 phan tu.\n"
          ]
        }
      ],
      "source": [
        "a_chan = a[a % 2 == 0]\n",
        "a_la_chan = a[a % 2 != 0]\n",
        "n_a_chan = len(a_chan)\n",
        "\n",
        "x_chan = x[x % 2 == 0]\n",
        "x_la_chan = x[x % 2 != 0]\n",
        "n_x_chan = len(x_chan)\n",
        "\n",
        "print( \"b. Cac phan tu chan trong day a, b: \")\n",
        "print(f\"+ Day a: {a}\")\n",
        "print(f\"  - Loc chan: {a_la_chan}\")\n",
        "print(f\"  - Day chua phan tu chan trong a: {a_chan}, so luong {n_a_chan} phan tu.\")\n",
        "print(f\"+ Day x: {x}\")\n",
        "print(f\"  - Loc chan: {x_la_chan}\")\n",
        "print(f\"  - Day chua phan tu chan trong a: {x_chan}, so luong {n_x_chan} phan tu.\")"
      ]
    },
    {
      "cell_type": "code",
      "execution_count": 9,
      "id": "1d441e53-26ad-45ff-a6d4-6abbb9c66f65",
      "metadata": {
        "id": "1d441e53-26ad-45ff-a6d4-6abbb9c66f65",
        "outputId": "4497c198-745e-4d97-b6a7-3cb8389f8e12",
        "colab": {
          "base_uri": "https://localhost:8080/"
        }
      },
      "outputs": [
        {
          "output_type": "stream",
          "name": "stdout",
          "text": [
            "c.Tính hiệu các phần tử ở vị trí lẻ của mảng a và x: \n",
            "+ Vi tri le trong a va x: [0 2 4 6 8]\n",
            "+ Day so a: [261 855 763 421 222 158 883 818 135  40] va cac so o vi tri le: [261 763 222 883 135]\n",
            "+ Day so x: [ 1  2  3  4  5  6  7  8  9 10] va cac so o vi tri le: [1 3 5 7 9]\n",
            "+ Hieu cua a va x o vi tri le: [260 760 217 876 126]\n",
            "+ Khoang cach cac phan tu cua a va x o vi tri le:  1214.72\n"
          ]
        }
      ],
      "source": [
        "v_le = np.arange(0, len(a), 2)  # vị trí lẻ (0-indexed: 0,2,4,...)\n",
        "a_le = a[v_le]\n",
        "x_le = x[v_le]\n",
        "hieu_le = a_le - x_le\n",
        "kc_le = np.sqrt((hieu_le**2).sum())\n",
        "\n",
        "print( \"c.Tính hiệu các phần tử ở vị trí lẻ của mảng a và x: \")\n",
        "print(f\"+ Vi tri le trong a va x: {v_le}\")\n",
        "print(f\"+ Day so a: {a} va cac so o vi tri le: {a_le}\")\n",
        "print(f\"+ Day so x: {x} va cac so o vi tri le: {x_le}\")\n",
        "print(f\"+ Hieu cua a va x o vi tri le: {hieu_le}\")\n",
        "print(f\"+ Khoang cach cac phan tu cua a va x o vi tri le: {kc_le: .2f}\")"
      ]
    },
    {
      "cell_type": "code",
      "execution_count": 10,
      "id": "92f5e91d-e213-4146-b873-0d2936c6990e",
      "metadata": {
        "id": "92f5e91d-e213-4146-b873-0d2936c6990e",
        "outputId": "0d1a17db-92d3-4bf8-8e58-b641679260a3",
        "colab": {
          "base_uri": "https://localhost:8080/"
        }
      },
      "outputs": [
        {
          "output_type": "stream",
          "name": "stdout",
          "text": [
            "d. Tìm khoảng cách nhỏ nhất giữa tập a và x. Ví dụ: min({1, 3, 5}, {2, 10, 8}} = 1\n",
            "+ Day a: [261 855 763 421 222 158 883 818 135  40]\n",
            "+ Day x: [ 1  2  3  4  5  6  7  8  9 10]\n",
            "+ Khoang cach nho nhat: 30\n"
          ]
        }
      ],
      "source": [
        "print(\"d. Tìm khoảng cách nhỏ nhất giữa tập a và x. Ví dụ: min({1, 3, 5}, {2, 10, 8}} = 1\")\n",
        "\"\"\"\n",
        "Gợi ý: Áp dụng toán tử broatcasting\n",
        "[[1],                    [[1, 1, 1],        [[2, 10, 8],    =   [[-1, -9, -7],\n",
        " [3],   - [2, 10, 8] =    [3, 3, 3],   -     [2, 10, 8],         [ 1, -7, -5],  --> np.min(np.abs(...)) = 1\n",
        " [5]]                     [5, 5, 5]]         [2, 10, 8]]         [ 3, -5, -3]]\n",
        "\"\"\"\n",
        "v_min = np.min(np.abs(a[:, np.newaxis] - x))\n",
        "# Tăng số chiều dùng tại vị trí chiều cuối dùng np.newaxis như sau: a[:, np.newaxis]\n",
        "# ...\n",
        "\n",
        "print(f\"+ Day a: {a}\")\n",
        "print(f\"+ Day x: {x}\")\n",
        "print(f\"+ Khoang cach nho nhat: {v_min}\")"
      ]
    },
    {
      "cell_type": "markdown",
      "id": "d18845b8-0d51-4666-ba1c-5ff836ef3d54",
      "metadata": {
        "id": "d18845b8-0d51-4666-ba1c-5ff836ef3d54"
      },
      "source": [
        "#### 4. Sinh ngẫu nhiên dãy số\n",
        "(a) Sinh ngẫu nhiên dãy số có 100 phần tử theo phân bố đều với giá trị trong đoạn [1, 10] và vẽ đồ thị tần số xuất hiện <br/>\n",
        "(b) Sinh ngẫu nhiên N diem (x, y) với y là hàm phân phối chuẩn $N(\\mu = 1, \\sigma^2 = 1.0)$: <br/>\n",
        " $$\n",
        " y = f\\left(x| \\mu, \\sigma\\right) = \\frac{1}{\\sigma\\sqrt{2\\pi}}exp\\left(-\\frac{\\left(x - \\mu\\right)^2}{2\\sigma^2}\\right)\n",
        " $$\n",
        " nơi mà $x \\in [\\mu - 5\\sigma, \\mu + 5\\sigma]$ <br/>\n",
        " (c) Sinh ngẫu nhiên dãy số có 100000 phần tử theo phân bố chuẩn $N(\\mu = 1, \\sigma^2 = 1.0)$ và vẽ đồ thị tần số xuất hiện <br/> <br/>"
      ]
    },
    {
      "cell_type": "code",
      "execution_count": 13,
      "id": "4d35cd9c-3163-486e-baef-63180ff2f5b6",
      "metadata": {
        "id": "4d35cd9c-3163-486e-baef-63180ff2f5b6",
        "outputId": "23709f06-7c70-4f48-dc15-da78e9f1be39",
        "colab": {
          "base_uri": "https://localhost:8080/",
          "height": 594
        }
      },
      "outputs": [
        {
          "output_type": "stream",
          "name": "stdout",
          "text": [
            "a. Sinh ngẫu nhiên theo phân bố đều\n",
            "+ Gia tri: [ 1  2  3  4  5  6  7  8  9 10]\n",
            "+ So lan xuat hien: [ 9 12  8 13 14 10  8  8  8 10]\n",
            "+ Do thi ham so xuat hien\n"
          ]
        },
        {
          "output_type": "display_data",
          "data": {
            "text/plain": [
              "<Figure size 600x600 with 1 Axes>"
            ],
            "image/png": "[encoded data removed]"
          },
          "metadata": {}
        }
      ],
      "source": [
        "import matplotlib.pyplot as plt  # Khai báo thư viện pyplot trong matplotlib\n",
        "\n",
        "a = np.random.randint(1, 11, size=100)   # 100 số nguyên từ 1 đến 10\n",
        "value, cnt = np.unique(a, return_counts=True)\n",
        "# Sử dụng hàm np.random.randint để sinh dãy số ngẫu nhiên\n",
        "# Sử dụng hàm np.unique để trả về tần số xuất hiện\n",
        "# ...\n",
        "\n",
        "print(\"a. Sinh ngẫu nhiên theo phân bố đều\")\n",
        "print(f\"+ Gia tri: {value}\")\n",
        "print(f\"+ So lan xuat hien: {cnt}\")\n",
        "print(\"+ Do thi ham so xuat hien\")\n",
        "plt.figure(figsize=(6,6))      #  kich thuoc ban ve\n",
        "plt.bar(value, cnt)            #  ve cac khoi chu nhat theo day x, y\n",
        "plt.xlim(0, 11)                #  gioi han truc x\n",
        "plt.ylim(0, np.max(cnt) + 10)  #  gioi han truc y\n",
        "plt.savefig(\"4a.png\")          #  luu do thi\n",
        "plt.show()                     #  hien thi do thi"
      ]
    },
    {
      "cell_type": "code",
      "execution_count": 14,
      "id": "55c99911-a213-4961-85b7-2ef09b775945",
      "metadata": {
        "id": "55c99911-a213-4961-85b7-2ef09b775945",
        "outputId": "149bab7b-83e1-494a-8832-ea407daef49a",
        "colab": {
          "base_uri": "https://localhost:8080/",
          "height": 576
        }
      },
      "outputs": [
        {
          "output_type": "stream",
          "name": "stdout",
          "text": [
            "b. Sinh cặp (x, y) với y làm hàm phân phối chuẩn\n",
            "+ x: -4.0 <= min [-3.96] <= max [ 5.99] <= 6.0\n",
            "+ Ve ham so y(x)\n"
          ]
        },
        {
          "output_type": "display_data",
          "data": {
            "text/plain": [
              "<Figure size 600x600 with 1 Axes>"
            ],
            "image/png": "[encoded data removed]"
          },
          "metadata": {}
        }
      ],
      "source": [
        "mu = 1\n",
        "sigma = 1.0\n",
        "N = 500\n",
        "# Sử dụng np.random.rand để sinh x trong [mu-5*sigma, mu+5*sigma]\n",
        "x_min, x_max = mu - 5*sigma, mu + 5*sigma\n",
        "x = np.random.rand(N) * (x_max - x_min) + x_min\n",
        "# Tính y theo hàm phân phối chuẩn\n",
        "y = (1 / (sigma * np.sqrt(2*np.pi))) * np.exp(-(x - mu)**2 / (2*sigma**2))\n",
        "# Sử dụm hàm np.random.rand() sinh số ngẫu nhiên trong [0,1) --> [0,1) * (b - a) + a --> [a, b)\n",
        "# Sử dụng hàm sau để tính hàm xác suất chuẩn N(m, s): np.sqrt, np.exp\n",
        "# ...\n",
        "\n",
        "print(\"b. Sinh cặp (x, y) với y làm hàm phân phối chuẩn\")\n",
        "print(f\"+ x: {x_min} <= min [{np.min(x): .2f}] <= max [{np.max(x): .2f}] <= {x_max}\")\n",
        "print(f\"+ Ve ham so y(x)\")\n",
        "plt.figure(figsize=(6,6))      # kich thuoc ban ve\n",
        "plt.scatter(x, y)              # ve cac diem (xi, yi)\n",
        "plt.savefig(\"4b.png\")          #  luu do thi\n",
        "plt.show()                     #  hien thi do thi"
      ]
    },
    {
      "cell_type": "code",
      "execution_count": 20,
      "id": "0b4cf743-6afa-47da-8d3e-61f84623c707",
      "metadata": {
        "id": "0b4cf743-6afa-47da-8d3e-61f84623c707",
        "outputId": "a83e1c29-1e8b-421a-a0bd-c32af9cf2493",
        "colab": {
          "base_uri": "https://localhost:8080/",
          "height": 576
        }
      },
      "outputs": [
        {
          "output_type": "stream",
          "name": "stdout",
          "text": [
            "c. Sinh day so theo phan phoi chuan\n",
            "+ x: len = 100000, min [-3.18232149248301], max [5.461841995166607]\n",
            "+ Mat so xac suat cua day so x\n"
          ]
        },
        {
          "output_type": "display_data",
          "data": {
            "text/plain": [
              "<Figure size 600x600 with 1 Axes>"
            ],
            "image/png": "[encoded data removed]"
          },
          "metadata": {}
        }
      ],
      "source": [
        "# Sử dụng np.random.randn() để sinh 100000 số N(0,1), sau đó chuyển sang N(1,1)\n",
        "x = np.random.randn(100000) * 1 + 1  # N(μ=1, σ²=1)\n",
        "\n",
        "# Tính histogram với 300 bins, density=True\n",
        "cnt, bins = np.histogram(x, bins=300, density=True)\n",
        "\n",
        "# Tạo val là trung điểm mỗi bin để khớp với cnt\n",
        "val = (bins[:-1] + bins[1:]) / 2\n",
        "# Sử dụng hàm np.random.randn() sinh phân phối chuẩn N(0,1) --> N(m,s^2) = m + N(0,1) * s\n",
        "# Sử dụng hàm np.histogram với density=True để thống kê số lần xuất hiện với số bins = 300 (do dãy số thực)\n",
        "# ...\n",
        "\n",
        "print( \"c. Sinh day so theo phan phoi chuan\")\n",
        "print(f\"+ x: len = {len(x)}, min [{np.min(x)}], max [{np.max(x)}]\")\n",
        "print(f\"+ Mat so xac suat cua day so x\")\n",
        "plt.figure(figsize=(6,6))      # kich thuoc ban ve\n",
        "plt.xlim(np.min(val), np.max(val))\n",
        "plt.scatter(val, cnt)\n",
        "plt.show()"
      ]
    },
    {
      "cell_type": "markdown",
      "id": "4f1a6dde-3e75-4dc7-8bab-40b7b9e17091",
      "metadata": {
        "id": "4f1a6dde-3e75-4dc7-8bab-40b7b9e17091"
      },
      "source": [
        "### Bài 2. Tính toán trên ma trận"
      ]
    },
    {
      "cell_type": "markdown",
      "id": "8ce5c9f7-de68-44cf-a1ce-950822c408d3",
      "metadata": {
        "id": "8ce5c9f7-de68-44cf-a1ce-950822c408d3"
      },
      "source": [
        "#### 1. Tạo ma trận a có M = 6 dòng, N = 4 cột"
      ]
    },
    {
      "cell_type": "code",
      "execution_count": 21,
      "id": "17b1f09d-11c7-4711-8b40-f67abd54323e",
      "metadata": {
        "id": "17b1f09d-11c7-4711-8b40-f67abd54323e",
        "outputId": "8f6ab16f-3d8a-40f8-eca9-186b521870f0",
        "colab": {
          "base_uri": "https://localhost:8080/"
        }
      },
      "outputs": [
        {
          "output_type": "stream",
          "name": "stdout",
          "text": [
            "Ma trận a: \n",
            " [[147 181 146 123]\n",
            " [102 115 143 121]\n",
            " [102 180 109 156]\n",
            " [137 142 108 100]\n",
            " [181 195 160 124]\n",
            " [185 179 190 104]]\n"
          ]
        }
      ],
      "source": [
        "# a = np.random.randint(100, 200, (6, 4))\n",
        "a = np.random.randint(100, 200, (6, 4))\n",
        "\n",
        "print(\"Ma trận a: \\n\", a)"
      ]
    },
    {
      "cell_type": "markdown",
      "id": "8bc353b9-1740-4e94-b779-eae046171142",
      "metadata": {
        "id": "8bc353b9-1740-4e94-b779-eae046171142"
      },
      "source": [
        "#### 2. Các thao tác trên ma trận a\n",
        "(a) In ra ma trận chuyển vị <br/>\n",
        "(b) In ra phần tử ở vị trí dòng 2 cột 3 <br/>\n",
        "(c) Trích xuất dòng đầu, dòng cuối, dòng 2 <br/>\n",
        "(d) Trích xuất cột kế cuối, cột đầu <br/>\n",
        "(e) Đảo các giá trị trên từng cột <br/>\n",
        "(f) Tính tổng các dòng, trung bình các cột <br/>"
      ]
    },
    {
      "cell_type": "code",
      "execution_count": 22,
      "id": "5236b916-3dda-4444-8004-9a6ab8d80df4",
      "metadata": {
        "id": "5236b916-3dda-4444-8004-9a6ab8d80df4",
        "outputId": "ecac0294-93bb-48e0-e6ef-285f40c7a150",
        "colab": {
          "base_uri": "https://localhost:8080/"
        }
      },
      "outputs": [
        {
          "output_type": "stream",
          "name": "stdout",
          "text": [
            "a. In ra ma trận chuyển vị: \n",
            "[[147 102 102 137 181 185]\n",
            " [181 115 180 142 195 179]\n",
            " [146 143 109 108 160 190]\n",
            " [123 121 156 100 124 104]]\n",
            "\n",
            "b. In ra phần tử ở vị trí dòng 2 cột 3: 143\n",
            "\n",
            "c. Trích xuất các dòng: \n",
            "   + Dòng đầu : [147 181 146 123]\n",
            "   + Dòng cuối: [185 179 190 104]\n",
            "   + Dòng hai : [102 115 143 121]\n",
            "\n",
            "d. Trích xuất các cột: \n",
            "   + Cột kế cuối: [146 143 109 108 160 190]\n",
            "   + Cột đầu: [147 102 102 137 181 185]\n",
            "\n",
            "e. Đảo các giá trị trên từng cột: \n",
            " [[185 179 190 104]\n",
            " [181 195 160 124]\n",
            " [137 142 108 100]\n",
            " [102 180 109 156]\n",
            " [102 115 143 121]\n",
            " [147 181 146 123]]\n",
            "\n",
            "f. Phép tính theo trục:\n",
            "   + Tổng dòng: [597 481 547 487 660 658]\n",
            "   + Trung bình cột: [142.33333333 165.33333333 142.66666667 121.33333333]\n"
          ]
        }
      ],
      "source": [
        "# a) Ma trận chuyển vị\n",
        "a_t = a.T\n",
        "\n",
        "# b) Phần tử ở dòng 2, cột 3\n",
        "v_23 = a[1, 2]\n",
        "\n",
        "# c) Trích xuất các dòng\n",
        "d_0 = a[0, :]       # dòng đầu\n",
        "d_last = a[-1, :]    # dòng cuối\n",
        "d_2 = a[1, :]        # dòng 2\n",
        "\n",
        "# d) Trích xuất các cột\n",
        "c_l1 = a[:, -2]      # cột kế cuối\n",
        "c_0 = a[:, 0]        # cột đầu\n",
        "\n",
        "# e) Đảo các giá trị trên từng cột\n",
        "dao_cot = a[::-1, :]  # lật ngược các dòng\n",
        "\n",
        "# f) Tính tổng các dòng và trung bình các cột\n",
        "tong_dong = np.sum(a, axis=1)\n",
        "tb_cot = np.mean(a, axis=0)\n",
        "\n",
        "\n",
        "print(f\"a. In ra ma trận chuyển vị: \\n{a_t}\")\n",
        "print(f\"\\nb. In ra phần tử ở vị trí dòng 2 cột 3: {v_23}\")\n",
        "print(f\"\\nc. Trích xuất các dòng: \")\n",
        "print(f\"   + Dòng đầu : {d_0}\")\n",
        "print(f\"   + Dòng cuối: {d_last}\")\n",
        "print(f\"   + Dòng hai : {d_2}\")\n",
        "print(f\"\\nd. Trích xuất các cột: \")\n",
        "print(f\"   + Cột kế cuối: {c_l1}\")\n",
        "print(f\"   + Cột đầu: {c_0}\")\n",
        "print(f\"\\ne. Đảo các giá trị trên từng cột: \\n {dao_cot}\")\n",
        "print(f\"\\nf. Phép tính theo trục:\")\n",
        "print(f\"   + Tổng dòng: {tong_dong}\")\n",
        "print(f\"   + Trung bình cột: {tb_cot}\")"
      ]
    },
    {
      "cell_type": "markdown",
      "id": "bca46803-13a7-4324-b719-0bffd7110119",
      "metadata": {
        "id": "bca46803-13a7-4324-b719-0bffd7110119"
      },
      "source": [
        "#### 3. Các toán tử trên hai ma trận\n",
        "(a) Tạo hai ma trận A và B có 4 dòng x 3 cột và X có 3 dòng x 4 cột <br/>\n",
        "(b) Tính tổng, hiệu, tích của từng phần tử trên hai ma trận A và B <br/>\n",
        "(c) Tính phép nhân ma trận Y = A x X"
      ]
    },
    {
      "cell_type": "code",
      "execution_count": 23,
      "id": "86d9c4ed-e86c-4baf-b51b-9dbd20e5c3cb",
      "metadata": {
        "id": "86d9c4ed-e86c-4baf-b51b-9dbd20e5c3cb",
        "outputId": "07a116c1-8a2d-4e06-921d-0d869cd137a9",
        "colab": {
          "base_uri": "https://localhost:8080/"
        }
      },
      "outputs": [
        {
          "output_type": "stream",
          "name": "stdout",
          "text": [
            "a. Tạo hai ma trận A và B có 4 dòng x 3 cột và X có 3 dòng x 4 cột\n",
            "+ Ma tran A: \n",
            "[[3 6 4]\n",
            " [1 9 2]\n",
            " [3 6 2]\n",
            " [5 4 4]]\n",
            "+ Ma tran B: \n",
            "[[1 2 6]\n",
            " [7 8 2]\n",
            " [7 3 7]\n",
            " [9 1 9]]\n",
            "+ Ma tran X: \n",
            "[[2 8 8 9]\n",
            " [3 9 5 4]\n",
            " [1 7 5 1]]\n",
            "\n",
            "b. Tính tổng, hiệu, tích của từng phần tử trên hai ma trận A và B\n",
            "A + B = \n",
            "[[ 4  8 10]\n",
            " [ 8 17  4]\n",
            " [10  9  9]\n",
            " [14  5 13]]\n",
            "A - B = \n",
            "[[ 2  4 -2]\n",
            " [-6  1  0]\n",
            " [-4  3 -5]\n",
            " [-4  3 -5]]\n",
            "A . B = \n",
            "[[ 3 12 24]\n",
            " [ 7 72  4]\n",
            " [21 18 14]\n",
            " [45  4 36]]\n",
            "\n",
            "c. Tính phép nhân ma trận Y = A x X\n",
            "Y = A x X --> shape A ((4, 3)) x shape X ((3, 4)) = shape Y ((4, 4)) \n",
            "[[ 28 106  74  55]\n",
            " [ 31 103  63  47]\n",
            " [ 26  92  64  53]\n",
            " [ 26 104  80  65]]\n"
          ]
        }
      ],
      "source": [
        "# a) Tạo ma trận ngẫu nhiên\n",
        "A = np.random.randint(1, 10, (4, 3))\n",
        "B = np.random.randint(1, 10, (4, 3))\n",
        "X = np.random.randint(1, 10, (3, 4))\n",
        "\n",
        "# b) Tổng, hiệu, tích từng phần tử\n",
        "AB_add = A + B\n",
        "AB_sub = A - B\n",
        "AB_mul = A * B  # nhân từng phần tử\n",
        "\n",
        "# c) Phép nhân ma trận Y = A x X\n",
        "Y = A @ X\n",
        "\n",
        "print(\"a. Tạo hai ma trận A và B có 4 dòng x 3 cột và X có 3 dòng x 4 cột\")\n",
        "print(f\"+ Ma tran A: \\n{A}\")\n",
        "print(f\"+ Ma tran B: \\n{B}\")\n",
        "print(f\"+ Ma tran X: \\n{X}\")\n",
        "\n",
        "print(\"\\nb. Tính tổng, hiệu, tích của từng phần tử trên hai ma trận A và B\")\n",
        "print(f\"A + B = \\n{AB_add}\")\n",
        "print(f\"A - B = \\n{AB_sub}\")\n",
        "print(f\"A . B = \\n{AB_mul}\")\n",
        "\n",
        "print(\"\\nc. Tính phép nhân ma trận Y = A x X\")\n",
        "print(f\"Y = A x X --> shape A ({A.shape}) x shape X ({X.shape}) = shape Y ({Y.shape}) \\n{Y}\")"
      ]
    },
    {
      "cell_type": "markdown",
      "id": "43602379-f77d-44ba-b2e3-23f85c6bcf5a",
      "metadata": {
        "id": "43602379-f77d-44ba-b2e3-23f85c6bcf5a"
      },
      "source": [
        "#### 4. Giải hệ phương trình tuyến tính\n",
        "Giải hệ phương trình tuyến tính sau:\n",
        "$$\n",
        "\\left\\{\\begin{matrix}\n",
        "        4x_1  + 3x_2 - 5x_3 = 2 \\\\\n",
        "        -2x_1 - 4x_2 + 5x_3 = 5 \\\\\n",
        "        8x_1 + 8x_2 = -3 \\\\\n",
        "\\end{matrix}\\right.\n",
        "$$"
      ]
    },
    {
      "cell_type": "code",
      "execution_count": 24,
      "id": "53db2e93-fcbe-49f6-a4dd-482d22bcda54",
      "metadata": {
        "id": "53db2e93-fcbe-49f6-a4dd-482d22bcda54",
        "outputId": "b59275c2-14b4-4739-9727-ab473a5981c3",
        "colab": {
          "base_uri": "https://localhost:8080/"
        }
      },
      "outputs": [
        {
          "output_type": "stream",
          "name": "stdout",
          "text": [
            "+ Ma tran A: \n",
            "[[ 4.  3. -5.]\n",
            " [-2. -4.  5.]\n",
            " [ 8.  8.  0.]]\n",
            "+ Vector y: [ 2.  5. -3.]\n",
            "+ Nghiem x: [ 2.20833333 -2.58333333 -0.18333333]\n",
            "+ Kiem tra: yy = Ax = [ 2.  5. -3.] ==> ||yy -y ||_2 =  0.00\n"
          ]
        }
      ],
      "source": [
        "# Xây dựng ma trận hệ số A và vector vế phải y\n",
        "A = np.array([[4, 3, -5],\n",
        "              [-2, -4, 5],\n",
        "              [8, 8, 0]], dtype=float)\n",
        "y = np.array([2, 5, -3], dtype=float)\n",
        "\n",
        "# Giải hệ phương trình tuyến tính\n",
        "x = np.linalg.solve(A, y)\n",
        "\n",
        "# Kiểm tra kết quả\n",
        "yy = A @ x\n",
        "diff = np.linalg.norm(yy - y)\n",
        "\n",
        "print(f\"+ Ma tran A: \\n{A}\")\n",
        "print(f\"+ Vector y: {y}\")\n",
        "print(f\"+ Nghiem x: {x}\")\n",
        "print(f\"+ Kiem tra: yy = Ax = {yy} ==> ||yy -y ||_2 = {diff: .2f}\")"
      ]
    },
    {
      "cell_type": "markdown",
      "id": "526b7e20-beca-4087-9cab-02ccc0a8f856",
      "metadata": {
        "id": "526b7e20-beca-4087-9cab-02ccc0a8f856"
      },
      "source": [
        "## Bài tập áp dụng"
      ]
    },
    {
      "cell_type": "markdown",
      "id": "9ee067fb-2045-4d3e-b504-ff4a8c3dcf37",
      "metadata": {
        "id": "9ee067fb-2045-4d3e-b504-ff4a8c3dcf37"
      },
      "source": [
        "### Bài 3. Tính gần đúng số pi dùng phương pháp Monte Carlo\n",
        "\n",
        "Vẽ một đường tròn $C$ có bán kính $r$ nội tiếp một hình vuông $C$, và đặt ngẫu nhiên $N$ chấm lên hình vuông. Tỉ lệ các chấm nằm trong hình tròn trên tổng số chấm xấp xỉ bằng diện tích của hình tròn chia cho hình vuông như sau:\n",
        "$$\n",
        "\\frac{N_C}{N} \\approx  \\frac{\\mathbb{S}_C}{\\mathbb{S}_N}\n",
        "$$\n",
        "nơi mà $N_C$ là các chấm trong hình tròn, $N$ là tổng số chấm, $\\mathbb{S}_C$ và $\\mathbb{S}_N$ lần lượt là diện tích của hình tròn và hình vuông.\n",
        "$$ \\mathbb{S}_C = \\pi * r^2 $$\n",
        "$$ \\mathbb{S}_N = (2*r)^2 = 4r^2 $$\n",
        "Do đó, công thức trên trở thành:\n",
        "$$\n",
        "\\frac{N_C}{N} \\approx \\frac{\\pi * r^2}{4r^2} = \\frac{\\pi}{4}\n",
        "$$\n",
        "Suy ra, ta có giá trị số $\\pi$ được tính như sau:\n",
        "$$\n",
        "\\pi \\approx \\frac{4N_C}{N}\n",
        "$$\n",
        "\n",
        "Các bạn hãy lập trình tính sấp xỉ số $\\pi$ dùng phương pháp Monte Carlo. Cho biết các sai số với $N = 100$, $N = 10000$, và $N = 1000000$. Vẽ đồ thị minh họa cho chương trình.\n",
        "\n",
        "**Hướng dẫn**: Viết chương trình phát sinh $N$ điểm $(x_i, y_i)$ với $x_i, y_i \\in [-1, -1]$. $(x_i, y_i)$ thuộc hình tròn tâm $(0, 0)$ bán kính 1 nội tiếp hình vuông có tâm tại $(0, 0)$ độ dài cạnh 2 khi và chỉ khi $x_i^2 + y_i^2 <= 1$."
      ]
    },
    {
      "cell_type": "code",
      "execution_count": 29,
      "id": "793640f7-4ba5-4d27-9d52-a65f4c25a5b0",
      "metadata": {
        "id": "793640f7-4ba5-4d27-9d52-a65f4c25a5b0",
        "outputId": "7c9defec-6b9a-4c04-a124-9d0cd3b87f6b",
        "colab": {
          "base_uri": "https://localhost:8080/",
          "height": 528
        }
      },
      "outputs": [
        {
          "output_type": "display_data",
          "data": {
            "text/plain": [
              "<Figure size 600x600 with 1 Axes>"
            ],
            "image/png": "[encoded data removed]"
          },
          "metadata": {}
        }
      ],
      "source": [
        "import matplotlib.pyplot as plt # khai báo thư viện vẽ pyplot\n",
        "import math\n",
        "\n",
        "circle = plt.Circle((0, 0), 1, color='g') # tạo đối tượng vòng tròn\n",
        "\n",
        "fig, ax = plt.subplots(figsize=(6, 6)) # lấy figure và vùng vẽ\n",
        "\n",
        "plt.plot(0, 0, 'o', color=(0.9, 0.9, 1.0), alpha=0.8) # vẽ điểm tại tâm (0,0)\n",
        "ax.add_patch(circle) # thêm vòng tròn vào vùng vẽ\n",
        "\n",
        "x = 0.75; y = math.sqrt(1 - (x ** 2)) # (x = 0.75, y = căn bậc 2 của 1 - x^2)\n",
        "plt.arrow(0, 0, x, y)\n",
        "\n",
        "plt.xlim(-1, 1) # giới hạn trục x\n",
        "plt.ylim(-1, 1) # giới hạn trục y\n",
        "\n",
        "plt.savefig('pi.png') # lưu đồ thị xuống tập tin\n",
        "plt.show()            # hiển thị đồ thị"
      ]
    },
    {
      "cell_type": "code",
      "execution_count": 27,
      "id": "bef335d2-9e51-4fa5-8843-aa1d67a607f0",
      "metadata": {
        "id": "bef335d2-9e51-4fa5-8843-aa1d67a607f0"
      },
      "outputs": [],
      "source": [
        "import numpy as np\n",
        "\n",
        "def calc_pi_monte_carlo(n = 100):\n",
        "    pi = 0\n",
        "\n",
        "    # gợi ý: sử dụng np.random.rand(s1, s2, ...) --> sinh ngẫu nhiên các số trong nửa đoạn [0.0, 1.0)\n",
        "    x = 2 * np.random.rand(n) - 1   # sinh x trong [-1,1]\n",
        "    y = 2 * np.random.rand(n) - 1   # sinh y trong [-1,1]\n",
        "    NC = np.sum(x**2 + y**2 <= 1)   # số điểm nằm trong hình tròn\n",
        "    pi = 4 * NC / n                  # tính gần đúng pi\n",
        "\n",
        "    return pi\n",
        "# calc_pi_monte_carlo"
      ]
    },
    {
      "cell_type": "code",
      "execution_count": 28,
      "id": "91071758-5957-497b-a5d1-2f2d17df6fae",
      "metadata": {
        "id": "91071758-5957-497b-a5d1-2f2d17df6fae",
        "outputId": "9d5ceeb7-e395-4a36-eef6-1d9930a03525",
        "colab": {
          "base_uri": "https://localhost:8080/"
        }
      },
      "outputs": [
        {
          "output_type": "stream",
          "name": "stdout",
          "text": [
            "epsilon(n=100):  0.21840734641020676\n",
            "epsilon(n=100):  0.1384073464102067\n",
            "epsilon(n=10000):  0.004807346410206748\n",
            "epsilon(n=10000):  0.030807346410206993\n",
            "epsilon(n=1000000):  0.0008313464102069901\n",
            "epsilon(n=1000000):  -0.0003726535897929928\n"
          ]
        }
      ],
      "source": [
        "import math\n",
        "\n",
        "print(\"epsilon(n=100): \", calc_pi_monte_carlo(n = 100) - math.pi)\n",
        "print(\"epsilon(n=100): \", calc_pi_monte_carlo(n = 100) - math.pi)\n",
        "print(\"epsilon(n=10000): \", calc_pi_monte_carlo(n = 10000) - math.pi)\n",
        "print(\"epsilon(n=10000): \", calc_pi_monte_carlo(n = 10000) - math.pi)\n",
        "print(\"epsilon(n=1000000): \", calc_pi_monte_carlo(n = 1000000) - math.pi)\n",
        "print(\"epsilon(n=1000000): \", calc_pi_monte_carlo(n = 1000000) - math.pi)"
      ]
    },
    {
      "cell_type": "markdown",
      "source": [
        "#KẾT THÚC"
      ],
      "metadata": {
        "id": "TTd9XwS3g5w6"
      },
      "id": "TTd9XwS3g5w6"
    }
  ],
  "metadata": {
    "kernelspec": {
      "display_name": "Python 3",
      "language": "python",
      "name": "python3"
    },
    "language_info": {
      "codemirror_mode": {
        "name": "ipython",
        "version": 3
      },
      "file_extension": ".py",
      "mimetype": "text/x-python",
      "name": "python",
      "nbconvert_exporter": "python",
      "pygments_lexer": "ipython3",
      "version": "3.8.8"
    },
    "colab": {
      "provenance": [],
      "include_colab_link": true
    }
  },
  "nbformat": 4,
  "nbformat_minor": 5
}